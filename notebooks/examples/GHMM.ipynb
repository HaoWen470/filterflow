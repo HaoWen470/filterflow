{
 "cells": [
  {
   "cell_type": "markdown",
   "metadata": {},
   "source": [
    "# GHMM Example"
   ]
  },
  {
   "cell_type": "code",
   "execution_count": 2,
   "metadata": {},
   "outputs": [],
   "source": [
    "%load_ext tensorboard"
   ]
  },
  {
   "cell_type": "code",
   "execution_count": 2,
   "metadata": {},
   "outputs": [],
   "source": [
    "import sys\n",
    "sys.path.append(\"C:\\\\Users\\\\Admin\\\\Python\\\\filterflow\")"
   ]
  },
  {
   "cell_type": "code",
   "execution_count": 3,
   "metadata": {},
   "outputs": [],
   "source": [
    "from datetime import datetime\n",

    "import math\n",
    "import matplotlib.pyplot as plt\n",
    "import numpy as np\n",
    "import os\n",
    "import seaborn\n",
    "import tensorflow as tf\n",
    "import tensorflow_probability as tfp\n",
    "import time\n",
    "\n",
    "seaborn.set()"
   ]
  },
  {
   "cell_type": "markdown",
   "metadata": {},
   "source": [
    "The goal of this notebook is to demonstrate how to use FilterFlow to do likelihood and state inference on a simple Gaussian Hidden Markov Model. In this notebook we will consider the noisy resonator defined in p62-63 of \"Bayesian fitering and smoothing, Simo Sarkka\"\n",
    "\n",
    "$$\n",
    "\\begin{align*}\n",
    "            \\mathbf{x_k} &= \\begin{bmatrix}\n",
    "                \\cos(\\omega)         & \\frac{\\sin(\\omega)}{\\omega} \\\\\n",
    "                -\\omega \\sin(\\omega) & \\cos(\\omega) \\\\\n",
    "            \\end{bmatrix} \\mathbf{x_{k-1}} + q_{k-1} \\\\\n",
    "            y_k &=  \n",
    "            \\begin{bmatrix}\n",
    "                1 & 0\n",
    "            \\end{bmatrix} \\mathbf{x_k} + r_k\n",
    "\\end{align*}\n",
    "$$\n",
    "\n",
    "where the noise and observation error terms $q_{k-1}$ and $r_k$ are i.i.d centered normal distributions with $q_k$ covariance matrix given by \n",
    "$$\n",
    "    \\mathbf{Q} = \\begin{bmatrix}\n",
    "            \\frac{q^c \\omega - q^c \\cos(\\omega) \\sin(\\omega)}{2 \\omega^2} &\n",
    "            \\frac{q^c \\sin(\\omega) ^2 }{2 \\omega^3}   \n",
    "        \\\\\n",
    "            \\frac{q^c \\sin(\\omega) ^2 }{2 \\omega^3}  &\n",
    "            \\frac{q^c \\omega + q^c \\cos(\\omega) \\sin(\\omega)}{2 \\omega} \n",
    "    \\end{bmatrix} \n",
    "$$\n",
    "\n",
    "the parameters are given by\n",
    "$\n",
    "\\omega = 0.5, q^c = 0.01, r_k = \\mathcal{N}(0, 0.1)\n",
    "$\n",
    "and the initial location $\\mathbf{x_0} = \\begin{bmatrix} 0 \\\\ 1 \\end{bmatrix}$"
   ]
  },
  {
   "cell_type": "code",
   "execution_count": 4,
   "metadata": {},
   "outputs": [],
   "source": [
    "class ResonatorOutput(object):\n",
    "    __slots__ = ('observations', 'states')\n",
    "    def __init__(self, observations: np.ndarray, states: np.ndarray):\n",
    "        self.observations = observations\n",
    "        self.states = states\n",
    "\n",
    "# Definition of the dynamic model\n",
    "class NoisyResonator(object):\n",
    "    def __init__(self, \n",
    "                 angular_velocity: float = 0.5, \n",
    "                 spectral_density: float = 0.01, \n",
    "                 measurement_variance: float = 0.1,\n",
    "                 initial_location: np.ndarray = None,\n",
    "                 random_state: np.random.RandomState = None,\n",
    "                 seed: int = None):\n",
    "        \"\"\"\n",
    "        Construction method\n",
    "        Parameters\n",
    "        ----------\n",
    "        angular_velocity : float\n",
    "            value of :math:`\\omega`\n",
    "        spectral_density: float\n",
    "            value of :math:`q^c`\n",
    "        measurement_variance: float \n",
    "            variance of :math:`r_k`\n",
    "        initial_location: ndarray\n",
    "            :math:`x_0`. If not provided will be np.array([0, 0.1], dtype=np.float64)\n",
    "            1D array of size 2, for the sake of this exercise it will be deterministic\n",
    "        random_state: RandomState\n",
    "            for reproducibility, if not provided, np.random.RandomState(seed)\n",
    "        seed: int\n",
    "            for reproducibility, if not provided, None (seed will depend on clock time and architecture)\n",
    "        \"\"\"\n",
    "        \n",
    "        \n",
    "        self.angular_velocity = angular_velocity\n",
    "        self.spectral_density = spectral_density\n",
    "        self.measurement_variance = measurement_variance\n",
    "        self.initial_location = np.asanyarray(initial_location, dtype=np.float64) if initial_location is not None\\\n",
    "            else np.array([0., 0.1], dtype=np.float64)\n",
    "        self.random_state = random_state if random_state is not None else np.random.RandomState(seed)\n",
    "        \n",
    "        assert self.initial_location.shape == (2,), \"initial location needs to be of shape (2,)\"\n",
    "        \n",
    "        self._covariance = self._compute_covariance_matrix()\n",
    "        self._lower_triang = np.linalg.cholesky(self._covariance)\n",
    "        self._transition_matrix = self._compute_transition_matrix()\n",
    "        self._observation_matrix = np.array([1, 0], dtype=float)\n",
    "        \n",
    "    def _compute_covariance_matrix(self):\n",
    "        w = self.angular_velocity\n",
    "        qc = self.spectral_density\n",
    "        cos_w = math.cos(w)\n",
    "        sin_w = math.sin(w)\n",
    "        if abs(w) < 1e-5:\n",
    "            # to avoid numerical problems we take the limit\n",
    "            q_11 = qc/6\n",
    "            q_12 = qc/2\n",
    "            q_21 = q_12\n",
    "            q_22 = qc\n",
    "        else:\n",
    "            q_11 = 0.5*(qc * w - qc * cos_w * sin_w)/math.pow(w, 3)\n",
    "            q_12 = 0.5*(qc * sin_w * sin_w)/math.pow(w, 2)\n",
    "            q_21 = q_12\n",
    "            q_22 = 0.5*(qc * w + qc * cos_w * sin_w)/w\n",
    "        matrix = np.array([[q_11, q_12], \n",
    "                           [q_21, q_22]], dtype=float)\n",
    "        return matrix\n",
    "    \n",
    "    def _compute_transition_matrix(self):\n",
    "        w = self.angular_velocity\n",
    "        cos_w = math.cos(w)\n",
    "        sin_w = math.sin(w)\n",
    "        if abs(w) < 1e-5:\n",
    "            # to avoid numerical problems we take the limit\n",
    "            m_11 = 1.\n",
    "            m_12 = 1.\n",
    "            m_21 = 0.\n",
    "            m_22 = 1.\n",
    "        else:\n",
    "            m_11 = cos_w\n",
    "            m_12 = sin_w/w\n",
    "            m_21 = -w * sin_w\n",
    "            m_22 = cos_w\n",
    "        matrix = np.array([[m_11, m_12], \n",
    "                           [m_21, m_22]], dtype=float)\n",
    "        return matrix\n",
    "                \n",
    "    def _sample_latent_state(self, N):\n",
    "        latent_state = self.initial_location\n",
    "        random_samples = self.random_state.randn(N-1, 2)\n",
    "        latent_state_ts = np.empty((N, 2), dtype=np.float64)\n",
    "        latent_state_ts[0, :] = latent_state\n",
    "        for i, random_sample in enumerate(random_samples):\n",
    "            latent_state = self._transition_matrix @ latent_state\n",
    "            latent_state += self._lower_triang @ random_sample\n",
    "            latent_state_ts[i+1, :] = latent_state\n",
    "        return latent_state_ts\n",
    "            \n",
    "    @property\n",
    "    def covariance(self):\n",
    "        return self._covariance\n",
    "    \n",
    "    @property\n",
    "    def transition_matrix(self):\n",
    "        return self._transition_matrix\n",
    "    \n",
    "    @property\n",
    "    def observation_matrix(self):\n",
    "        return self._observation_matrix\n",
    "        \n",
    "    def _get_observation(self, latent_space_ts):\n",
    "        no_noise = np.einsum('j,ij->i', self._observation_matrix, latent_space_ts)\n",
    "        return no_noise + self.random_state.normal(0., math.sqrt(self.measurement_variance), latent_space_ts.shape[0])\n",
    "    \n",
    "    def sample(self, N: int) -> ResonatorOutput:\n",
    "        \"\"\"\n",
    "        Samples n steps of the model\n",
    "        Parameters\n",
    "        ----------\n",
    "        N: int\n",
    "            total number of steps\n",
    "        \n",
    "        Returns\n",
    "        -------\n",
    "        ResonatorOutput from the parametrised process\n",
    "        \"\"\"\n",
    "        latent_time_series = self._sample_latent_state(N)\n",
    "        observations = self._get_observation(latent_time_series)\n",
    "        return ResonatorOutput(observations, latent_time_series)"
   ]
  },
  {
   "cell_type": "code",
   "execution_count": 5,
   "metadata": {},
   "outputs": [],
   "source": [
    "M = 150\n",
    "resonator = NoisyResonator(seed=42)\n",
    "linspace = np.linspace(0, M, M)\n",
    "example = resonator.sample(M)"
   ]
  },
  {
   "cell_type": "code",
   "execution_count": 6,
   "metadata": {},
   "outputs": [
    {
     "data": {
      "image/png": "[encoded data removed]",
      "text/plain": [
       "<Figure size 720x360 with 2 Axes>"
      ]
     },
     "metadata": {},
     "output_type": "display_data"
    }
   ],
   "source": [
    "fig, axes = plt.subplots(nrows=2, figsize=(10, 5))\n",
    "axes[0].scatter(linspace, example.observations, marker='o', color='g', label='observations')\n",
    "axes[0].plot(example.states[:, 0], color='b', label='$x^1_t$')\n",
    "axes[1].plot(example.states[:, 1], color='b', label='$x^2_t$')\n",
    "_ = axes[0].legend(loc='upper left')\n",
    "_ = axes[1].legend(loc='upper left')\n",
    "_ = fig.suptitle('Latent space and observations', fontsize=15)"
   ]
  },
  {
   "cell_type": "code",
   "execution_count": 7,
   "metadata": {},
   "outputs": [],
   "source": [
    "from filterflow.filter import ParticleFilter\n",
    "from filterflow.base import State, ObservationBase, InputsBase\n",
    "from filterflow.observation.linear import LinearObservation, LinearObservationModel\n",
    "from filterflow.transition.random_walk import RandomWalkModel\n",
    "from filterflow.proposal.base import BootstrapProposalModel\n",
    "from filterflow.resampling.criterion import NeffCriterion\n",
    "from filterflow.resampling.standard.systematic import SystematicResampler\n"
   ]
  },
  {
   "cell_type": "code",
   "execution_count": 8,
   "metadata": {},
   "outputs": [],

   "source": [
    "stamp = datetime.now().strftime(\"%Y%m%d-%H%M%S\")\n",
    "cwd = os.getcwd()\n",
    "logdir = f'{cwd}\\\\logs\\\\{stamp}'\n",
    "writer = tf.summary.create_file_writer(logdir)\n"
   ]
  },
  {
   "cell_type": "code",
   "execution_count": 9,

   "metadata": {},
   "outputs": [],
   "source": [
    "n_particles = tf.constant(100)\n",
    "dimension = tf.constant(2)\n",
    "batch_size = tf.constant(1)\n",
    "\n",
    "weights = tf.ones((batch_size, n_particles), dtype=float)/tf.cast(n_particles, float)\n",
    "initial_particles = tf.random.uniform((batch_size, n_particles, dimension), -1, 1)\n",
    "log_likelihoods = tf.zeros((batch_size), dtype=float)\n",
    "state = State(batch_size, n_particles, dimension, initial_particles, log_weights= tf.math.log(weights), weights=weights, log_likelihoods=log_likelihoods)"
   ]
  },
  {
   "cell_type": "code",
   "execution_count": 11,
   "metadata": {},
   "outputs": [
    {
     "name": "stderr",
     "output_type": "stream",
     "text": [
      "WARNING: Logging before flag parsing goes to stderr.\n",
      "W0327 13:37:18.841196 21344 deprecation.py:323] From C:\\ProgramData\\Anaconda3\\lib\\site-packages\\tensorflow_probability\\python\\distributions\\distribution.py:284: MultivariateNormalFullCovariance.__init__ (from tensorflow_probability.python.distributions.mvn_full_covariance) is deprecated and will be removed after 2019-12-01.\n",

      "Instructions for updating:\n",
      "`MultivariateNormalFullCovariance` is deprecated, use `MultivariateNormalTriL(loc=loc, scale_tril=tf.linalg.cholesky(covariance_matrix))` instead.\n"
     ]
    }
   ],
   "source": [
    "observation_error = tfp.distributions.MultivariateNormalDiag([0.], tf.constant(np.array([resonator.measurement_variance], dtype=np.float32)))\n",
    "random_walk_noise = tfp.distributions.MultivariateNormalFullCovariance([0., 0.], resonator.covariance.astype(np.float32))"
   ]
  },
  {
   "cell_type": "code",
   "execution_count": 12,
   "metadata": {},
   "outputs": [],
   "source": [
    "observation_model = LinearObservationModel(tf.constant(resonator.observation_matrix.astype(np.float32).reshape(1, 2)), observation_error)\n",
    "transition_model = RandomWalkModel(tf.constant(resonator.transition_matrix.astype(np.float32)), random_walk_noise)\n",
    "proposal_model = BootstrapProposalModel(transition_model)\n",
    "resampling_criterion = NeffCriterion(0.5, is_relative=True)\n",
    "resampling_method = SystematicResampler(on_log=True)"
   ]
  },
  {
   "cell_type": "code",
   "execution_count": 13,
   "metadata": {},
   "outputs": [],
   "source": [
    "particle_filter = ParticleFilter(observation_model, transition_model, proposal_model, resampling_criterion, resampling_method)"
   ]
  },
  {
   "cell_type": "code",
   "execution_count": 13,

   "metadata": {},
   "outputs": [
    {
     "data": {
      "application/vnd.jupyter.widget-view+json": {
       "model_id": "529e2efaf8a146ae97e0325a44ea24f0",
       "version_major": 2,
       "version_minor": 0
      },
      "text/plain": [
       "Figure(axes=[Axis(label='t', scale=LinearScale(max=150.0, min=0.0)), Axis(label='cos', orientation='vertical',…"
      ]
     },
     "metadata": {},
     "output_type": "display_data"
    }
   ],
   "source": [
    "import numpy as np\n",
    "import bqplot.pyplot as plt\n",
    "from bqplot import LinearScale, Axis, Lines, Bars, Figure\n",
    "axes_options = {'x': {'label': 't'}, 'y': {'label': 'cos'}}\n",
    "fig = plt.figure(animation_duration=0)\n",
    "lines = plt.plot(\n",
    "                x=np.linspace(0, len(example.observations), len(example.observations)), \n",
    "                y=example.observations, \n",
    "                colors=['red'], \n",
    "                axes_options=axes_options)\n",
    "scatt = plt.scatter([], [], colors=['blue'], axes_options=axes_options)\n",
    "plt.set_lim(-2., 2., 'y')\n",
    "plt.set_lim(0, len(example.observations), 'x')\n",
    "\n",
    "fig\n"
   ]
  },
  {
   "cell_type": "code",
   "execution_count": 46,
   "metadata": {},
   "outputs": [],
   "source": [
    "import attr\n",
    "\n",
    "@tf.function\n",
    "def filter_run(particle_filter, initial_state, observations):\n",
    "    ta = tf.TensorArray(float, size=len(observations), dynamic_size=False)\n",
    "    state = attr.evolve(initial_state)\n",
    "    for i in range(len(observations)):\n",
    "        observation = LinearObservation(observations[i])\n",
    "        state = particle_filter.propose_and_update(state, observation, None)\n",
    "    return state               \n",
    "\n"
   ]
  },
  {
   "cell_type": "code",
   "execution_count": 47,
   "metadata": {},
   "outputs": [],
   "source": [
    "tf_observations = tf.constant(example.observations.astype(np.float32))"
   ]
  },
  {
   "cell_type": "code",
   "execution_count": 48,
   "metadata": {},
   "outputs": [
    {
     "name": "stdout",
     "output_type": "stream",
     "text": [
      "24.7 ms ± 628 µs per loop (mean ± std. dev. of 7 runs, 1 loop each)\n"
     ]
    }
   ],
   "source": [
    "%timeit result = filter_run(particle_filter, state, tf_observations)"
   ]
  },
  {
   "cell_type": "code",
   "execution_count": 41,
   "metadata": {},
   "outputs": [
    {
     "data": {
      "text/plain": [
       "State(batch_size=<tf.Tensor: shape=(), dtype=int32, numpy=1>, n_particles=<tf.Tensor: shape=(), dtype=int32, numpy=100>, dimension=<tf.Tensor: shape=(), dtype=int32, numpy=2>, particles=<tf.Tensor: shape=(1, 100, 2), dtype=float32, numpy=\n",
       "array([[[-1.4770843 , -0.23049477],\n",
       "        [-1.3623359 , -0.02462593],\n",
       "        [-1.4711714 , -0.15024565],\n",
       "        [-1.5268155 , -0.19923317],\n",
       "        [-1.4074007 , -0.00226282],\n",
       "        [-1.5746514 , -0.33876425],\n",
       "        [-1.6032704 , -0.30505097],\n",
       "        [-1.728637  , -0.50460374],\n",
       "        [-1.6651195 , -0.34001094],\n",
       "        [-1.6324072 , -0.17635101],\n",
       "        [-1.4741517 , -0.2540988 ],\n",
       "        [-1.5547539 , -0.38987246],\n",
       "        [-1.782639  , -0.3015496 ],\n",
       "        [-1.7865349 , -0.3616068 ],\n",
       "        [-1.9184207 , -0.4577731 ],\n",
       "        [-1.4819833 , -0.22628082],\n",
       "        [-1.4318744 , -0.16804418],\n",
       "        [-1.4721593 , -0.16683275],\n",
       "        [-1.4729973 , -0.23058054],\n",
       "        [-1.7425867 , -0.3615573 ],\n",
       "        [-1.7666202 , -0.42784953],\n",
       "        [-1.8309406 , -0.56277996],\n",
       "        [-1.4162962 , -0.13266422],\n",
       "        [-1.796467  , -0.4178673 ],\n",
       "        [-1.7454338 , -0.31933358],\n",
       "        [-1.8007073 , -0.4889157 ],\n",
       "        [-1.6915128 , -0.268676  ],\n",
       "        [-1.8962712 , -0.6134055 ],\n",
       "        [-1.7393858 , -0.26186365],\n",
       "        [-1.7769098 , -0.47133648],\n",
       "        [-1.4413613 , -0.24606586],\n",
       "        [-1.7443128 , -0.42978433],\n",
       "        [-1.671761  , -0.37145305],\n",
       "        [-1.7775534 , -0.4042328 ],\n",
       "        [-1.4991364 , -0.0144209 ],\n",
       "        [-1.490987  ,  0.00827207],\n",
       "        [-1.5644504 , -0.08689146],\n",
       "        [-1.3112744 , -0.24622741],\n",
       "        [-1.6533564 , -0.30594677],\n",
       "        [-1.6715362 , -0.31450778],\n",
       "        [-1.6322849 , -0.22354785],\n",
       "        [-1.4112403 , -0.12291907],\n",
       "        [-1.4762479 , -0.22879031],\n",
       "        [-1.615658  , -0.18141076],\n",
       "        [-1.7700104 , -0.39674407],\n",
       "        [-1.615058  , -0.21039334],\n",
       "        [-1.7011942 , -0.2037653 ],\n",
       "        [-1.7398058 , -0.4135773 ],\n",
       "        [-1.5587136 , -0.16004202],\n",
       "        [-1.6186378 , -0.21672067],\n",
       "        [-1.4734864 ,  0.01980543],\n",
       "        [-1.6187824 , -0.20129535],\n",
       "        [-1.654326  , -0.39149606],\n",
       "        [-1.4451283 , -0.21787712],\n",
       "        [-1.4792651 , -0.15202045],\n",
       "        [-1.9202133 , -0.38497692],\n",
       "        [-1.8589634 , -0.29444557],\n",
       "        [-1.5480505 , -0.28256515],\n",
       "        [-1.4226531 , -0.09501027],\n",
       "        [-1.3378814 , -0.02878042],\n",
       "        [-1.615639  , -0.4070564 ],\n",
       "        [-1.5283693 , -0.36779514],\n",
       "        [-1.2194774 , -0.15246573],\n",
       "        [-1.4016666 , -0.1473127 ],\n",
       "        [-1.356062  , -0.10295285],\n",
       "        [-1.3818587 , -0.15533973],\n",
       "        [-1.5431242 , -0.29889354],\n",
       "        [-1.5728449 , -0.06865846],\n",
       "        [-1.6842799 , -0.33819854],\n",
       "        [-1.5929613 , -0.12350135],\n",
       "        [-1.4550323 , -0.14436218],\n",
       "        [-1.4057698 , -0.19361207],\n",
       "        [-1.4487252 , -0.05525024],\n",
       "        [-1.4964086 , -0.25857648],\n",
       "        [-1.4718267 , -0.15590118],\n",
       "        [-1.4374019 , -0.16631874],\n",
       "        [-1.7847958 , -0.24488883],\n",
       "        [-1.9076619 , -0.41912302],\n",
       "        [-1.3930426 , -0.1916332 ],\n",
       "        [-1.4039564 , -0.21325852],\n",
       "        [-1.2946568 , -0.10424095],\n",
       "        [-1.5734689 , -0.27475205],\n",
       "        [-1.5980846 , -0.2644457 ],\n",
       "        [-1.6922246 , -0.42676067],\n",
       "        [-1.4504224 , -0.26809245],\n",
       "        [-1.3067137 ,  0.0348088 ],\n",
       "        [-1.578623  , -0.16845615],\n",
       "        [-1.6531587 , -0.4217618 ],\n",
       "        [-1.5676721 , -0.27555433],\n",
       "        [-1.7185005 , -0.4369737 ],\n",
       "        [-1.5613898 , -0.1677972 ],\n",
       "        [-1.2593306 , -0.0845549 ],\n",
       "        [-1.7261629 , -0.31292805],\n",
       "        [-1.6617209 , -0.23091528],\n",
       "        [-1.6784037 , -0.26555103],\n",
       "        [-1.6838253 , -0.23685236],\n",
       "        [-1.4954054 , -0.2129043 ],\n",
       "        [-1.524231  , -0.18896523],\n",
       "        [-1.8152782 , -0.2023414 ],\n",
       "        [-1.8555039 , -0.30973747]]], dtype=float32)>, log_weights=<tf.Tensor: shape=(1, 100), dtype=float32, numpy=\n",
       "array([[-20.844656 , -29.078512 , -21.236769 , -17.685148 , -25.687834 ,\n",
       "        -14.8794155, -13.310221 ,  -7.401528 , -10.198765 , -11.796772 ,\n",
       "        -21.03869  , -16.018671 ,  -5.340649 ,  -5.2032514,  -1.4473004,\n",
       "        -20.522432 , -23.931532 , -21.171015 , -21.115309 ,  -6.841227 ,\n",
       "         -5.921556 ,  -3.7443967, -25.04254  ,  -4.859837 ,  -6.7292647,\n",
       "         -4.7162213,  -8.98744  ,  -1.9565516,  -6.9680715,  -5.545467 ,\n",
       "        -23.266836 ,  -6.773255 ,  -9.88739  ,  -5.5222974, -19.41313  ,\n",
       "        -19.936495 , -15.45854  , -33.165783 , -10.761074 ,  -9.89786  ,\n",
       "        -11.802952 , -25.40833  , -20.899908 , -12.656393 ,  -5.796475 ,\n",
       "        -12.687719 ,  -8.560577 ,  -6.9513717, -15.788801 , -12.501413 ,\n",
       "        -21.08283  , -12.493917 , -10.714203 , -23.0054   , -20.700926 ,\n",
       "         -1.408215 ,  -2.9252515, -16.411402 , -24.586252 , -31.003458 ,\n",
       "        -12.657389 , -17.590418 , -41.16948  , -26.107992 , -29.566652 ,\n",
       "        -27.58468  , -16.702883 , -14.981218 ,  -9.312466 , -13.866037 ,\n",
       "        -22.324804 , -25.807001 , -22.757086 , -19.587572 , -21.19314  ,\n",
       "        -23.543154 ,  -5.2643933,  -1.6885266, -26.7461   , -25.939817 ,\n",
       "        -34.5522   , -14.9460125, -13.588484 ,  -8.955738 , -22.640371 ,\n",
       "        -33.543533 , -14.656752 , -10.770643 , -15.274515 ,  -7.82087  ,\n",
       "        -15.634329 , -37.59121  ,  -7.50293  , -10.359804 ,  -9.5803795,\n",
       "         -9.333071 , -19.65191  , -17.843256 ,  -4.236443 ,  -3.0221248]],\n",
       "      dtype=float32)>, weights=<tf.Tensor: shape=(1, 100), dtype=float32, numpy=\n",
       "array([[8.85688356e-10, 2.35159548e-13, 5.98395777e-10, 2.08659277e-08,\n",
       "        6.98096615e-12, 3.45105548e-07, 1.65746587e-06, 6.10319548e-04,\n",
       "        3.72162613e-05, 7.52882170e-06, 7.29478977e-10, 1.10453520e-07,\n",
       "        4.79275873e-03, 5.49865700e-03, 2.35204384e-01, 1.22242128e-09,\n",
       "        4.04266481e-11, 6.39065134e-10, 6.75675071e-10, 1.06879114e-03,\n",
       "        2.68102530e-03, 2.36498937e-02, 1.33095462e-11, 7.75174703e-03,\n",
       "        1.19541155e-03, 8.94892961e-03, 1.24969592e-04, 1.41344994e-01,\n",
       "        9.41466831e-04, 3.90511937e-03, 7.85853188e-11, 1.14396517e-03,\n",
       "        5.08113844e-05, 3.99665534e-03, 3.70667785e-09, 2.19629315e-09,\n",
       "        1.93393291e-07, 3.94714855e-15, 2.12092309e-05, 5.02821931e-05,\n",
       "        7.48243838e-06, 9.23213415e-12, 8.38079550e-10, 3.18711955e-06,\n",
       "        3.03824572e-03, 3.08882636e-06, 1.91508676e-04, 9.57321143e-04,\n",
       "        1.38998715e-07, 3.72138993e-06, 6.97980174e-10, 3.74938963e-06,\n",
       "        2.22269991e-05, 1.02066175e-10, 1.02259146e-09, 2.44579464e-01,\n",
       "        5.36511987e-02, 7.45793827e-08, 2.10051768e-11, 3.43059355e-14,\n",
       "        3.18394768e-06, 2.29392167e-08, 1.31923541e-18, 4.58609539e-12,\n",
       "        1.44333140e-13, 1.04743102e-12, 5.57224489e-08, 3.11701967e-07,\n",
       "        9.02916363e-05, 9.50728463e-07, 2.01586151e-10, 6.19671935e-12,\n",
       "        1.30834787e-10, 3.11333270e-09, 6.25080876e-10, 5.96126204e-11,\n",
       "        5.17253019e-03, 1.84791595e-01, 2.42279460e-12, 5.42600773e-12,\n",
       "        9.86665799e-16, 3.22871159e-07, 1.25486349e-06, 1.28994856e-04,\n",
       "        1.47031928e-10, 2.70538173e-15, 4.31175067e-07, 2.10072430e-05,\n",
       "        2.32467556e-07, 4.01272438e-04, 1.62217333e-07, 4.72438384e-17,\n",
       "        5.51466132e-04, 3.16806618e-05, 6.90707311e-05, 8.84502078e-05,\n",
       "        2.91933278e-09, 1.78144486e-08, 1.44589301e-02, 4.86976355e-02]],\n",
       "      dtype=float32)>, log_likelihoods=<tf.Tensor: shape=(1,), dtype=float32, numpy=array([389.02795], dtype=float32)>)"
      ]
     },
     "execution_count": 41,
     "metadata": {},
     "output_type": "execute_result"
    }
   ],
   "source": [
    "result"
   ]
  },
  {
   "cell_type": "code",
   "execution_count": 15,
   "metadata": {},
   "outputs": [],
   "source": [
    "# tf.summary.trace_on(graph=True, profiler=True)\n",
    "jitter = np.random.normal(0., 0.5, n_particles)\n",
    "for t, observation_value in enumerate(example.observations):\n",
    "    observation = LinearObservation(tf.constant(np.array([observation_value], dtype=np.float32)))\n",
    "    input_ = None\n",
    "    state = particle_filter.propose_and_update(state, observation, input_)\n",
    "    weights = state.weights.numpy().squeeze()\n",
    "    particles = state.particles.numpy()\n",
    "\n",
    "    time.sleep(0.1)\n",
    "# tic = time.time()\n",
    "# for _ in range(10):\n",
    "#     for t, observation_value in enumerate(example.observations):\n",
    "#         observation = LinearObservation(tf.constant(np.array([observation_value], dtype=np.float32)))\n",
    "#         input_ = None\n",
    "#         state = particle_filter.propose_and_update(state, observation, input_)\n",
    "# toc = time.time()"
   ]
  },
  {
   "cell_type": "code",
   "execution_count": 15,

   "metadata": {},
   "outputs": [
    {
     "data": {
      "text/plain": [
       "<tf.Tensor: shape=(1, 100), dtype=float32, numpy=\n",
       "array([[4.1764630e-18, 6.4455097e-31, 3.7510620e-33, 0.0000000e+00,\n",
       "        0.0000000e+00, 0.0000000e+00, 0.0000000e+00, 0.0000000e+00,\n",
       "        0.0000000e+00, 0.0000000e+00, 0.0000000e+00, 0.0000000e+00,\n",
       "        0.0000000e+00, 0.0000000e+00, 8.1842578e-27, 1.7765905e-29,\n",
       "        7.3775742e-35, 0.0000000e+00, 4.7428191e-25, 0.0000000e+00,\n",
       "        9.9188617e-21, 2.2747997e-22, 1.3073957e-35, 0.0000000e+00,\n",
       "        0.0000000e+00, 7.3006964e-35, 1.9553478e-27, 0.0000000e+00,\n",
       "        8.8859272e-27, 2.7619510e-16, 1.8009101e-28, 2.3936607e-26,\n",
       "        2.3826290e-33, 0.0000000e+00, 0.0000000e+00, 0.0000000e+00,\n",
       "        0.0000000e+00, 4.6095527e-35, 0.0000000e+00, 0.0000000e+00,\n",
       "        0.0000000e+00, 1.8613538e-29, 0.0000000e+00, 0.0000000e+00,\n",
       "        0.0000000e+00, 0.0000000e+00, 0.0000000e+00, 0.0000000e+00,\n",
       "        0.0000000e+00, 0.0000000e+00, 0.0000000e+00, 0.0000000e+00,\n",
       "        1.9809459e-38, 0.0000000e+00, 0.0000000e+00, 0.0000000e+00,\n",
       "        0.0000000e+00, 2.7960263e-28, 2.1991281e-34, 7.1464212e-19,\n",
       "        3.1054080e-36, 0.0000000e+00, 0.0000000e+00, 4.7565749e-31,\n",
       "        0.0000000e+00, 0.0000000e+00, 0.0000000e+00, 0.0000000e+00,\n",
       "        0.0000000e+00, 8.8152118e-31, 0.0000000e+00, 0.0000000e+00,\n",
       "        2.6833885e-36, 0.0000000e+00, 1.0000000e+00, 0.0000000e+00,\n",
       "        7.5812281e-33, 2.0833569e-33, 0.0000000e+00, 0.0000000e+00,\n",
       "        3.6978204e-29, 7.3258280e-36, 7.9572943e-15, 0.0000000e+00,\n",
       "        3.4720250e-33, 0.0000000e+00, 7.1343581e-33, 0.0000000e+00,\n",
       "        0.0000000e+00, 0.0000000e+00, 0.0000000e+00, 2.9839396e-34,\n",
       "        0.0000000e+00, 1.0895744e-18, 0.0000000e+00, 0.0000000e+00,\n",
       "        2.6624671e-42, 8.9313137e-38, 0.0000000e+00, 0.0000000e+00]],\n",
       "      dtype=float32)>"
      ]
     },
     "execution_count": 15,
     "metadata": {},
     "output_type": "execute_result"
    }
   ],
   "source": [
    "with writer.as_default():\n",
    "    tf.summary.trace_export(\n",
    "        name=\"filter\",\n",
    "        step=0,\n",
    "        profiler_outdir=logdir)"
   ]
  },
  {
   "cell_type": "code",
   "execution_count": 17,
   "metadata": {},
   "outputs": [
    {
     "data": {
      "text/plain": [
       "1.0000012"
      ]
     },
     "execution_count": 17,
     "metadata": {},
     "output_type": "execute_result"
    }
   ],
   "source": [
    "tic = time.time()\n",
    "for t, observation_value in enumerate(example.observations):\n",
    "#     observations.append(observation_value)\n",
    "    observation = LinearObservation(tf.constant(np.array([observation_value], dtype=np.float32)))\n",
    "    input_ = None\n",
    "    state = particle_filter.propose_and_update(state, observation, input_)\n",
    "#     weights = state.weights.numpy().squeeze()\n",
    "#     particles = state.particles.numpy()\n",
    "#     scatt.x = t + jitter\n",
    "#     scatt.y = particles[0, :, 0]\n",
    "#     scatt.s = weights * 10.\n",
    "#     time.sleep(0.3)\n",
    "#     weights.append(state.weights.numpy())\n",
    "#     particles.append(state.particles.numpy())\n",
    "toc = time.time()"
   ]
  },
  {
   "cell_type": "code",
   "execution_count": 18,
   "metadata": {},
   "outputs": [
    {
     "data": {
      "text/plain": [
       "[-0.82153976]"
      ]
     },
     "execution_count": 18,
     "metadata": {},
     "output_type": "execute_result"
    }
   ],
   "source": [
    "logdir"
   ]
  },
  {
   "cell_type": "code",
   "execution_count": 19,
   "metadata": {},
   "outputs": [],
   "source": [
    "%tensorboard --logdir C:\\\\Users\\\\Admin\\\\Python\\\\filterflow\\\\notebooks\\\\examples\\\\logs\\\\20200326-103247"
   ]
  },
  {
   "cell_type": "code",
   "execution_count": null,
   "metadata": {},
   "outputs": [],
   "source": []
  }
 ],
 "metadata": {
  "kernelspec": {
   "display_name": "venv",
   "language": "python",
   "name": "venv"
  },
  "language_info": {
   "codemirror_mode": {
    "name": "ipython",
    "version": 3
   },
   "file_extension": ".py",
   "mimetype": "text/x-python",
   "name": "python",
   "nbconvert_exporter": "python",
   "pygments_lexer": "ipython3",
   "version": "3.7.4"
  }
 },
 "nbformat": 4,
 "nbformat_minor": 4
}
