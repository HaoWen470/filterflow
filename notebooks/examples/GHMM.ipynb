{
 "cells": [
  {
   "cell_type": "markdown",
   "metadata": {},
   "source": [
    "# GHMM Example"
   ]
  },
  {
   "cell_type": "code",
   "execution_count": 1,
   "metadata": {},
   "outputs": [],
   "source": [
    "import sys\n",
    "sys.path.append(\"../..\")"
   ]
  },
  {
   "cell_type": "code",
   "execution_count": 2,
   "metadata": {},
   "outputs": [],
   "source": [
    "from datetime import datetime\n",
    "import math\n",
    "import matplotlib.pyplot as plt\n",
    "import numpy as np\n",
    "import os\n",
    "import seaborn\n",
    "import tensorflow as tf\n",
    "import tensorflow_probability as tfp\n",
    "import time\n",
    "\n",
    "seaborn.set()"
   ]
  },
  {
   "cell_type": "markdown",
   "metadata": {},
   "source": [
    "The goal of this notebook is to demonstrate how to use FilterFlow to do likelihood and state inference on a simple Gaussian Hidden Markov Model. In this notebook we will consider the noisy resonator defined in p62-63 of \"Bayesian fitering and smoothing, Simo Sarkka\"\n",
    "\n",
    "$$\n",
    "\\begin{align*}\n",
    "            \\mathbf{x_k} &= \\begin{bmatrix}\n",
    "                \\cos(\\omega)         & \\frac{\\sin(\\omega)}{\\omega} \\\\\n",
    "                -\\omega \\sin(\\omega) & \\cos(\\omega) \\\\\n",
    "            \\end{bmatrix} \\mathbf{x_{k-1}} + q_{k-1} \\\\\n",
    "            y_k &=  \n",
    "            \\begin{bmatrix}\n",
    "                1 & 0\n",
    "            \\end{bmatrix} \\mathbf{x_k} + r_k\n",
    "\\end{align*}\n",
    "$$\n",
    "\n",
    "where the noise and observation error terms $q_{k-1}$ and $r_k$ are i.i.d centered normal distributions with $q_k$ covariance matrix given by \n",
    "$$\n",
    "    \\mathbf{Q} = \\begin{bmatrix}\n",
    "            \\frac{q^c \\omega - q^c \\cos(\\omega) \\sin(\\omega)}{2 \\omega^2} &\n",
    "            \\frac{q^c \\sin(\\omega) ^2 }{2 \\omega^3}   \n",
    "        \\\\\n",
    "            \\frac{q^c \\sin(\\omega) ^2 }{2 \\omega^3}  &\n",
    "            \\frac{q^c \\omega + q^c \\cos(\\omega) \\sin(\\omega)}{2 \\omega} \n",
    "    \\end{bmatrix} \n",
    "$$\n",
    "\n",
    "the parameters are given by\n",
    "$\n",
    "\\omega = 0.5, q^c = 0.01, r_k = \\mathcal{N}(0, 0.1)\n",
    "$\n",
    "and the initial location $\\mathbf{x_0} = \\begin{bmatrix} 0 \\\\ 1 \\end{bmatrix}$"
   ]
  },
  {
   "cell_type": "code",
   "execution_count": 3,
   "metadata": {},
   "outputs": [],
   "source": [
    "class ResonatorOutput(object):\n",
    "    __slots__ = ('observations', 'states')\n",
    "    def __init__(self, observations: np.ndarray, states: np.ndarray):\n",
    "        self.observations = observations\n",
    "        self.states = states\n",
    "\n",
    "# Definition of the dynamic model\n",
    "class NoisyResonator(object):\n",
    "    def __init__(self, \n",
    "                 angular_velocity: float = 0.5, \n",
    "                 spectral_density: float = 0.01, \n",
    "                 measurement_variance: float = 0.1,\n",
    "                 initial_location: np.ndarray = None,\n",
    "                 random_state: np.random.RandomState = None,\n",
    "                 seed: int = None):\n",
    "        \"\"\"\n",
    "        Construction method\n",
    "        Parameters\n",
    "        ----------\n",
    "        angular_velocity : float\n",
    "            value of :math:`\\omega`\n",
    "        spectral_density: float\n",
    "            value of :math:`q^c`\n",
    "        measurement_variance: float \n",
    "            variance of :math:`r_k`\n",
    "        initial_location: ndarray\n",
    "            :math:`x_0`. If not provided will be np.array([0, 0.1], dtype=np.float64)\n",
    "            1D array of size 2, for the sake of this exercise it will be deterministic\n",
    "        random_state: RandomState\n",
    "            for reproducibility, if not provided, np.random.RandomState(seed)\n",
    "        seed: int\n",
    "            for reproducibility, if not provided, None (seed will depend on clock time and architecture)\n",
    "        \"\"\"\n",
    "        \n",
    "        \n",
    "        self.angular_velocity = angular_velocity\n",
    "        self.spectral_density = spectral_density\n",
    "        self.measurement_variance = measurement_variance\n",
    "        self.initial_location = np.asanyarray(initial_location, dtype=np.float64) if initial_location is not None\\\n",
    "            else np.array([0., 0.1], dtype=np.float64)\n",
    "        self.random_state = random_state if random_state is not None else np.random.RandomState(seed)\n",
    "        \n",
    "        assert self.initial_location.shape == (2,), \"initial location needs to be of shape (2,)\"\n",
    "        \n",
    "        self._covariance = self._compute_covariance_matrix()\n",
    "        self._lower_triang = np.linalg.cholesky(self._covariance)\n",
    "        self._transition_matrix = self._compute_transition_matrix()\n",
    "        self._observation_matrix = np.array([1, 0], dtype=float)\n",
    "        \n",
    "    def _compute_covariance_matrix(self):\n",
    "        w = self.angular_velocity\n",
    "        qc = self.spectral_density\n",
    "        cos_w = math.cos(w)\n",
    "        sin_w = math.sin(w)\n",
    "        if abs(w) < 1e-5:\n",
    "            # to avoid numerical problems we take the limit\n",
    "            q_11 = qc/6\n",
    "            q_12 = qc/2\n",
    "            q_21 = q_12\n",
    "            q_22 = qc\n",
    "        else:\n",
    "            q_11 = 0.5*(qc * w - qc * cos_w * sin_w)/math.pow(w, 3)\n",
    "            q_12 = 0.5*(qc * sin_w * sin_w)/math.pow(w, 2)\n",
    "            q_21 = q_12\n",
    "            q_22 = 0.5*(qc * w + qc * cos_w * sin_w)/w\n",
    "        matrix = np.array([[q_11, q_12], \n",
    "                           [q_21, q_22]], dtype=float)\n",
    "        return matrix\n",
    "    \n",
    "    def _compute_transition_matrix(self):\n",
    "        w = self.angular_velocity\n",
    "        cos_w = math.cos(w)\n",
    "        sin_w = math.sin(w)\n",
    "        if abs(w) < 1e-5:\n",
    "            # to avoid numerical problems we take the limit\n",
    "            m_11 = 1.\n",
    "            m_12 = 1.\n",
    "            m_21 = 0.\n",
    "            m_22 = 1.\n",
    "        else:\n",
    "            m_11 = cos_w\n",
    "            m_12 = sin_w/w\n",
    "            m_21 = -w * sin_w\n",
    "            m_22 = cos_w\n",
    "        matrix = np.array([[m_11, m_12], \n",
    "                           [m_21, m_22]], dtype=float)\n",
    "        return matrix\n",
    "                \n",
    "    def _sample_latent_state(self, N):\n",
    "        latent_state = self.initial_location\n",
    "        random_samples = self.random_state.randn(N-1, 2)\n",
    "        latent_state_ts = np.empty((N, 2), dtype=np.float64)\n",
    "        latent_state_ts[0, :] = latent_state\n",
    "        for i, random_sample in enumerate(random_samples):\n",
    "            latent_state = self._transition_matrix @ latent_state\n",
    "            latent_state += self._lower_triang @ random_sample\n",
    "            latent_state_ts[i+1, :] = latent_state\n",
    "        return latent_state_ts\n",
    "            \n",
    "    @property\n",
    "    def covariance(self):\n",
    "        return self._covariance\n",
    "    \n",
    "    @property\n",
    "    def transition_matrix(self):\n",
    "        return self._transition_matrix\n",
    "    \n",
    "    @property\n",
    "    def observation_matrix(self):\n",
    "        return self._observation_matrix\n",
    "        \n",
    "    def _get_observation(self, latent_space_ts):\n",
    "        no_noise = np.einsum('j,ij->i', self._observation_matrix, latent_space_ts)\n",
    "        return no_noise + self.random_state.normal(0., math.sqrt(self.measurement_variance), latent_space_ts.shape[0])\n",
    "    \n",
    "    def sample(self, N: int) -> ResonatorOutput:\n",
    "        \"\"\"\n",
    "        Samples n steps of the model\n",
    "        Parameters\n",
    "        ----------\n",
    "        N: int\n",
    "            total number of steps\n",
    "        \n",
    "        Returns\n",
    "        -------\n",
    "        ResonatorOutput from the parametrised process\n",
    "        \"\"\"\n",
    "        latent_time_series = self._sample_latent_state(N)\n",
    "        observations = self._get_observation(latent_time_series)\n",
    "        return ResonatorOutput(observations, latent_time_series)"
   ]
  },
  {
   "cell_type": "code",
   "execution_count": 4,
   "metadata": {},
   "outputs": [],
   "source": [
    "M = 150\n",
    "resonator = NoisyResonator(seed=42)\n",
    "linspace = np.linspace(0, M, M)\n",
    "example = resonator.sample(M)"
   ]
  },
  {
   "cell_type": "code",
   "execution_count": 5,
   "metadata": {},
   "outputs": [
    {
     "data": {
      "image/png": "[encoded data removed]",
      "text/plain": [
       "<Figure size 720x360 with 2 Axes>"
      ]
     },
     "metadata": {
      "needs_background": "light"
     },
     "output_type": "display_data"
    }
   ],
   "source": [
    "fig, axes = plt.subplots(nrows=2, figsize=(10, 5))\n",
    "axes[0].scatter(linspace, example.observations, marker='o', color='g', label='observations')\n",
    "axes[0].plot(example.states[:, 0], color='b', label='$x^1_t$')\n",
    "axes[1].plot(example.states[:, 1], color='b', label='$x^2_t$')\n",
    "_ = axes[0].legend(loc='upper left')\n",
    "_ = axes[1].legend(loc='upper left')\n",
    "_ = fig.suptitle('Latent space and observations', fontsize=15)"
   ]
  },
  {
   "cell_type": "code",
   "execution_count": 6,
   "metadata": {},
   "outputs": [],
   "source": [
    "from filterflow.smc import SMC\n",
    "from filterflow.base import State, Observation, InputsBase, FloatObservationSeries\n",
    "from filterflow.observation.linear import LinearObservationModel\n",
    "from filterflow.transition.random_walk import RandomWalkModel\n",
    "from filterflow.proposal.base import BootstrapProposalModel\n",
    "from filterflow.resampling.criterion import NeffCriterion, AlwaysResample\n",
    "from filterflow.resampling.standard.systematic import SystematicResampler\n",
    "from filterflow.resampling.differentiable.biased import RegularisedTransform\n",
    "from filterflow.resampling.differentiable.loss.regularized import SinkhornLoss\n",
    "from filterflow.resampling.differentiable.optimized import OptimizedPointCloud\n",
    "from filterflow.resampling.differentiable.optimizer.sgd import SGD\n",
    "from filterflow.resampling.differentiable.corrected import CorrectedRegularizedTransform\n",
    "from filterflow.resampling.differentiable.ricatti.solver import RicattiSolver\n"
   ]
  },
  {
   "cell_type": "code",
   "execution_count": 7,
   "metadata": {},
   "outputs": [],
   "source": [
    "N = 100\n",
    "n_particles = tf.constant(N)\n",
    "dimension = tf.constant(2)\n",
    "batch_size = tf.constant(4)\n",
    "\n",
    "weights = tf.ones((batch_size, n_particles), dtype=float)/tf.cast(n_particles, float)\n",
    "initial_particles = tf.random.uniform((batch_size, n_particles, dimension), -1, 1)\n",
    "log_likelihoods = tf.zeros((batch_size), dtype=float)\n",
    "state = State(particles=initial_particles, log_weights= tf.math.log(weights), weights=weights, log_likelihoods=log_likelihoods)"
   ]
  },
  {
   "cell_type": "code",
   "execution_count": 25,
   "metadata": {},
   "outputs": [],
   "source": [
    "measurement_variance = tf.constant(resonator.measurement_variance, dtype=np.float32)\n",
    "\n",
    "observation_error = tfp.distributions.MultivariateNormalDiag(tf.constant([0.]), tf.reshape(measurement_variance, [1, 1]))\n",
    "random_walk_noise = tfp.distributions.MultivariateNormalFullCovariance(tf.constant([0., 0.]), resonator.covariance.astype(np.float32))\n",
    "\n",
    "observation_model = LinearObservationModel(tf.constant(resonator.observation_matrix.astype(np.float32).reshape(1, 2)), observation_error)\n",
    "transition_model = RandomWalkModel(tf.constant(resonator.transition_matrix.astype(np.float32)), random_walk_noise)\n",
    "proposal_model = BootstrapProposalModel(transition_model)\n",
    "resampling_criterion = AlwaysResample()# = NeffCriterion(tf.constant(0.5), is_relative=tf.constant(True))\n",
    "\n",
    "epsilon = tf.constant(0.1)\n",
    "\n",
    "systematic_resampling_method = SystematicResampler(on_log=tf.constant(True))\n",
    "regularised_resampling_method = RegularisedTransform(epsilon)\n",
    "\n",
    "ricatti_solver = RicattiSolver(0.1, 5.)\n",
    "corrected_regularized_resampling_method = CorrectedRegularizedTransform(epsilon, 0.75, 100, 1e-4, ricatti_solver)\n",
    "\n",
    "loss = SinkhornLoss(epsilon, symmetric=True)\n",
    "loss_optimizer = SGD(loss, lr=1., n_iter=10)\n",
    "cloud_optimizer = OptimizedPointCloud(loss_optimizer, systematic_resampling_method)\n",
    "\n",
    "systematic_particle_filter = SMC(observation_model, transition_model, proposal_model, resampling_criterion, systematic_resampling_method)\n",
    "regularised_particle_filter = SMC(observation_model, transition_model, proposal_model, resampling_criterion, regularised_resampling_method)\n",
    "corrected_particle_filter = SMC(observation_model, transition_model, proposal_model, resampling_criterion, corrected_regularized_resampling_method)\n",
    "optimized_particle_filter = SMC(observation_model, transition_model, proposal_model, resampling_criterion, cloud_optimizer)\n"
   ]
  },
  {
   "cell_type": "code",
   "execution_count": 26,
   "metadata": {},
   "outputs": [],
   "source": [
    "observations = []\n",
    "for t, observation_value in enumerate(example.observations):\n",
    "    tf_observation = tf.constant(np.array([[[observation_value]]], dtype=np.float32))\n",
    "    observations.append(Observation(tf_observation))\n",
    "\n",
    "observation_series = FloatObservationSeries([1, 1, 1])\n",
    "\n",
    "for t, observation in enumerate(observations):\n",
    "    observation_series = observation_series.write(t, observation)\n",
    "observation_series = observation_series.stack()"
   ]
  },
  {
   "cell_type": "code",
   "execution_count": 27,
   "metadata": {},
   "outputs": [
    {
     "data": {
      "application/vnd.jupyter.widget-view+json": {
       "model_id": "dba3101bf454465b80c044ab8d58a5c0",
       "version_major": 2,
       "version_minor": 0
      },
      "text/plain": [
       "Figure(axes=[Axis(label='t', scale=LinearScale(max=150.0, min=0.0)), Axis(label='cos', orientation='vertical',…"
      ]
     },
     "metadata": {},
     "output_type": "display_data"
    }
   ],
   "source": [
    "import bqplot.pyplot as bplt\n",
    "from bqplot import LinearScale, Axis, Lines, Bars, Figure\n",
    "axes_options = {'x': {'label': 't'}, 'y': {'label': 'cos'}}\n",
    "fig = bplt.figure(animation_duration=0)\n",
    "lines = bplt.plot(\n",
    "                x=np.linspace(0, len(example.observations), len(example.observations)), \n",
    "                y=example.observations, \n",
    "                colors=['red'], \n",
    "                axes_options=axes_options)\n",
    "\n",
    "state_line = bplt.plot(\n",
    "                x=np.linspace(0, len(example.observations), len(example.observations)), \n",
    "                y=example.states[:,0], \n",
    "                colors=['blue'], \n",
    "                axes_options=axes_options)\n",
    "colors = ['orange', 'green', 'purple', 'gray']\n",
    "scats = [ bplt.scatter([], [], size=[], colors = [colors[i]], axes_options=axes_options) \n",
    "         for i in range(batch_size.numpy().sum())]\n",
    "bplt.set_lim(-2., 2., 'y')\n",
    "bplt.set_lim(0, len(example.observations), 'x')\n",
    "\n",
    "fig\n"
   ]
  },
  {
   "cell_type": "code",
   "execution_count": 28,
   "metadata": {},
   "outputs": [],
   "source": [
    "systematic_update = tf.function(systematic_particle_filter.update)\n",
    "regularised_update = tf.function(regularised_particle_filter.update)\n",
    "corrected_update = tf.function(corrected_particle_filter.update)\n",
    "optimized_update = tf.function(optimized_particle_filter.update)"
   ]
  },
  {
   "cell_type": "raw",
   "metadata": {},
   "source": [
    "jitter = np.random.normal(0., 0.5, n_particles)\n",
    "tic = time.time()\n",
    "for t, observation in observation_series.enumerate():\n",
    "    input_ = None\n",
    "    state = optimized_update(state, observation, tf.constant(0))\n",
    "    weights = state.weights.numpy().squeeze()\n",
    "    particles = state.particles.numpy()\n",
    "    for i, scatt in enumerate(scats):\n",
    "        scatt.x = t + jitter\n",
    "        scatt.y = particles[i, :, 0]\n",
    "        scatt.size = weights[i] * 10.\n",
    "    time.sleep(0.1)\n",
    "toc = time.time()"
   ]
  },
  {
   "cell_type": "code",
   "execution_count": 29,
   "metadata": {},
   "outputs": [],
   "source": [
    "main = tf.function(systematic_particle_filter.__call__)"
   ]
  },
  {
   "cell_type": "code",
   "execution_count": 39,
   "metadata": {},
   "outputs": [
    {
     "name": "stdout",
     "output_type": "stream",
     "text": [
      "Wall time: 121 ms\n"
     ]
    },
    {
     "data": {
      "text/plain": [
       "<tf.Tensor: shape=(4,), dtype=float32, numpy=array([-434.55283, -377.1756 , -402.84665, -393.49115], dtype=float32)>"
      ]
     },
     "execution_count": 39,
     "metadata": {},
     "output_type": "execute_result"
    }
   ],
   "source": [
    "%%time\n",
    "systematic_particle_filter(state, observation_series, True).log_likelihoods"
   ]
  },
  {
   "cell_type": "code",
   "execution_count": 40,
   "metadata": {},
   "outputs": [
    {
     "name": "stdout",
     "output_type": "stream",
     "text": [
      "Wall time: 938 ms\n"
     ]
    },
    {
     "data": {
      "text/plain": [
       "<tf.Tensor: shape=(4,), dtype=float32, numpy=array([ -854.2009 ,  -884.6121 ,  -822.34454, -1055.8524 ], dtype=float32)>"
      ]
     },
     "execution_count": 40,
     "metadata": {},
     "output_type": "execute_result"
    }
   ],
   "source": [
    "%%time\n",
    "regularised_particle_filter(state, observation_series, True).log_likelihoods"
   ]
  },
  {
   "cell_type": "code",
   "execution_count": 41,
   "metadata": {},
   "outputs": [
    {
     "data": {
      "text/plain": [
       "<tf.Tensor: shape=(4,), dtype=float32, numpy=array([-601.2017, -908.0983, -932.4842, -858.453 ], dtype=float32)>"
      ]
     },
     "execution_count": 41,
     "metadata": {},
     "output_type": "execute_result"
    }
   ],
   "source": [
    "corrected_particle_filter(state, observation_series, True).log_likelihoods"
   ]
  },
  {
   "cell_type": "code",
   "execution_count": 38,
   "metadata": {},
   "outputs": [
    {
     "name": "stdout",
     "output_type": "stream",
     "text": [
      "Wall time: 20.4 s\n"
     ]
    },
    {
     "data": {
      "text/plain": [
       "<tf.Tensor: shape=(4,), dtype=float32, numpy=array([-403.07315, -401.06732, -389.8324 , -468.05548], dtype=float32)>"
      ]
     },
     "execution_count": 38,
     "metadata": {},
     "output_type": "execute_result"
    }
   ],
   "source": [
    "%%time\n",
    "optimized_particle_filter(state, observation_series, True).log_likelihoods"
   ]
  },
  {
   "cell_type": "code",
   "execution_count": 34,
   "metadata": {},
   "outputs": [
    {
     "name": "stdout",
     "output_type": "stream",
     "text": [
      "495 µs ± 29.1 µs per loop (mean ± std. dev. of 7 runs, 1 loop each)\n"
     ]
    }
   ],
   "source": [
    "%timeit systematic_update(state, observation, tf.constant(0))"
   ]
  },
  {
   "cell_type": "code",
   "execution_count": 35,
   "metadata": {},
   "outputs": [
    {
     "name": "stdout",
     "output_type": "stream",
     "text": [
      "5.52 ms ± 320 µs per loop (mean ± std. dev. of 7 runs, 1 loop each)\n"
     ]
    }
   ],
   "source": [
    "%timeit regularised_update(state, observation, tf.constant(0))"
   ]
  },
  {
   "cell_type": "code",
   "execution_count": 36,
   "metadata": {},
   "outputs": [
    {
     "name": "stdout",
     "output_type": "stream",
     "text": [
      "28.4 ms ± 272 µs per loop (mean ± std. dev. of 7 runs, 1 loop each)\n"
     ]
    }
   ],
   "source": [
    "%timeit corrected_update(state, observation, tf.constant(0))"
   ]
  },
  {
   "cell_type": "code",
   "execution_count": 37,
   "metadata": {},
   "outputs": [
    {
     "name": "stdout",
     "output_type": "stream",
     "text": [
      "124 ms ± 1.37 ms per loop (mean ± std. dev. of 7 runs, 1 loop each)\n"
     ]
    }
   ],
   "source": [
    "%timeit optimized_update(state, observation, tf.constant(0))"
   ]
  },
  {
   "cell_type": "code",
   "execution_count": null,
   "metadata": {},
   "outputs": [],
   "source": []
  }
 ],
 "metadata": {
  "kernelspec": {
   "display_name": "Python 3",
   "language": "python",
   "name": "python3"
  },
  "language_info": {
   "codemirror_mode": {
    "name": "ipython",
    "version": 3
   },
   "file_extension": ".py",
   "mimetype": "text/x-python",
   "name": "python",
   "nbconvert_exporter": "python",
   "pygments_lexer": "ipython3",
   "version": "3.7.3"
  }
 },
 "nbformat": 4,
 "nbformat_minor": 4
}
