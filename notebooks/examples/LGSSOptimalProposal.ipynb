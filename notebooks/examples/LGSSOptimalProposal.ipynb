{
 "cells": [
  {
   "cell_type": "markdown",
   "metadata": {},
   "source": [
    "# Learn the globally optimal proposal for a linear gaussian state space model"
   ]
  },
  {
   "cell_type": "markdown",
   "metadata": {},
   "source": [
    "We reproduce the experiment in Naesseth and al. Variational SMC"
   ]
  },
  {
   "cell_type": "code",
   "execution_count": 2,
   "metadata": {},
   "outputs": [],
   "source": [
    "import os, sys\n",
    "# add to path\n",
    "sys.path.append(\"../..\")\n",
    "\n",
    "import attr\n",
    "import datetime\n",
    "\n",
    "import matplotlib.pyplot as plt\n",
    "import numpy as np\n",
    "from PIL import Image\n",
    "import pykalman\n",
    "import seaborn\n",
    "\n",
    "import tensorflow as tf\n",
    "import tensorflow_addons as tfa\n",
    "import tensorflow_probability as tfp\n",
    "tfd = tfp.distributions\n",
    "ed = tfp.edward2\n",
    "\n",
    "seaborn.set()\n"
   ]
  },
  {
   "cell_type": "code",
   "execution_count": 3,
   "metadata": {},
   "outputs": [],
   "source": [
    "tf.config.set_visible_devices([], 'GPU') "
   ]
  },
  {
   "cell_type": "code",
   "execution_count": 4,
   "metadata": {},
   "outputs": [],
   "source": [
    "from filterflow.smc import SMC\n",
    "from filterflow.base import State, StateSeries, DTYPE_TO_OBSERVATION_SERIES\n",
    "\n",
    "from filterflow.observation.linear import LinearObservationModel\n",
    "\n",
    "from filterflow.transition.random_walk import RandomWalkModel\n",
    "from filterflow.proposal import BootstrapProposalModel\n",
    "from filterflow.proposal.base import ProposalModelBase\n",
    "\n",
    "from filterflow.resampling.criterion import NeffCriterion, AlwaysResample, NeverResample\n",
    "from filterflow.resampling.standard import SystematicResampler, MultinomialResampler\n",
    "from filterflow.resampling.differentiable import RegularisedTransform, CorrectedRegularizedTransform\n",
    "from filterflow.resampling.differentiable.ricatti.solver import PetkovSolver, NaiveSolver\n",
    "\n",
    "from filterflow.resampling.base import NoResampling\n",
    "\n",
    "from filterflow.state_space_model import StateSpaceModel"
   ]
  },
  {
   "cell_type": "markdown",
   "metadata": {},
   "source": [
    "### Set up the model"
   ]
  },
  {
   "cell_type": "code",
   "execution_count": 5,
   "metadata": {},
   "outputs": [
    {
     "data": {
      "text/plain": [
       "-38.2905492040977"
      ]
     },
     "execution_count": 5,
     "metadata": {},
     "output_type": "execute_result"
    }
   ],
   "source": [
    "tf.random.set_seed(0)\n",
    "np.random.seed(1)\n",
    "\n",
    "T = 25\n",
    "\n",
    "d_x = 10\n",
    "d_y = 1\n",
    "alpha = 0.42\n",
    "gamma = 0.1\n",
    "\n",
    "B = 10\n",
    "N = 4\n",
    "\n",
    "transition_matrix = np.array([[alpha**(abs(i-j) + 1) for j in range(d_x)] for i in range(d_x)], dtype=np.float32)\n",
    "transition_covariance = gamma**2 * np.eye(d_x, dtype=np.float32)\n",
    "\n",
    "observation_matrix = np.zeros([d_y, d_x], dtype=np.float32)\n",
    "observation_matrix[:d_y, :d_y] = np.eye(d_y, dtype=np.float32)\n",
    "\n",
    "observation_covariance = np.eye(d_y, dtype=np.float32)\n",
    "# observation_matrix = np.ones([d_y, d_x], dtype=np.float32)\n",
    "# observation_matrix = tf.random.normal([d_y, d_x], 0., 1.)\n",
    "\n",
    "\n",
    "initial_state_mean = np.zeros(d_x, dtype=np.float32)\n",
    "initial_state_covariance = np.eye(d_x, dtype=np.float32)\n",
    "\n",
    "kf = pykalman.KalmanFilter(transition_matrix, observation_matrix, transition_covariance, observation_covariance, initial_state_mean=initial_state_mean, initial_state_covariance=initial_state_covariance)\n",
    "observations = kf.sample(T)[1].data.astype(np.float32)\n",
    "\n",
    "true_log_likelihood = kf.loglikelihood(observations)\n",
    "true_log_likelihood"
   ]
  },
  {
   "cell_type": "code",
   "execution_count": 6,
   "metadata": {},
   "outputs": [],
   "source": [
    "observations_dataset = tf.data.Dataset.from_tensor_slices(observations)"
   ]
  },
  {
   "cell_type": "markdown",
   "metadata": {},
   "source": [
    "### Set up the filterflow filter"
   ]
  },
  {
   "cell_type": "code",
   "execution_count": 7,
   "metadata": {},
   "outputs": [],
   "source": [
    "transition_noise = tfd.MultivariateNormalDiag(tf.zeros(d_x, dtype=tf.float32), tf.linalg.diag_part(transition_covariance) ** 0.5) # mind it MultivariateNormalDiag does diag * diag...\n",
    "transition_model = RandomWalkModel(tf.convert_to_tensor(transition_matrix), transition_noise)"
   ]
  },
  {
   "cell_type": "code",
   "execution_count": 8,
   "metadata": {},
   "outputs": [],
   "source": [
    "observation_error = tfd.MultivariateNormalDiag(tf.zeros(d_y, dtype=tf.float32), tf.linalg.diag_part(observation_covariance) ** 0.5) # mind it MultivariateNormalDiag does diag * diag...\n",
    "observation_model = LinearObservationModel(tf.convert_to_tensor(observation_matrix), observation_error)"
   ]
  },
  {
   "cell_type": "code",
   "execution_count": 9,
   "metadata": {},
   "outputs": [],
   "source": [
    "class LearnableProposalModel(ProposalModelBase):\n",
    "    def __init__(self, transition_matrix, name='LearnableProposalModel'):\n",
    "        super(LearnableProposalModel, self).__init__(name=name)\n",
    "        self._transition_matrix = transition_matrix\n",
    "        self._standard_noise = tfd.MultivariateNormalDiag(tf.zeros(transition_matrix.shape[0]), tf.ones(transition_matrix.shape[0]))\n",
    "    \n",
    "    def propose(self, state: State, inputs, _observation: tf.Tensor):\n",
    "        \"\"\"See base class\"\"\"\n",
    "        mu_t, beta_t, sigma_t = inputs\n",
    "        \n",
    "        transition_matrix = tf.linalg.matmul(tf.linalg.diag(beta_t), self._transition_matrix)\n",
    "        \n",
    "        pushed_particles = tf.reshape(mu_t, [1, 1, -1]) + tf.linalg.matvec(transition_matrix, state.particles)\n",
    "        \n",
    "        scale = tfp.bijectors.ScaleMatvecDiag(sigma_t)\n",
    "        scaled_rv = tfd.TransformedDistribution(self._standard_noise, bijector=scale)        \n",
    "        proposed_particles = pushed_particles + scaled_rv.sample([state.batch_size, state.n_particles])\n",
    "        return attr.evolve(state, particles=proposed_particles)\n",
    "\n",
    "    def loglikelihood(self, proposed_state: State, state: State, inputs: tf.Tensor, observation: tf.Tensor):\n",
    "        \"\"\"Interface method for particle proposal\n",
    "        :param proposed_state: State\n",
    "            proposed state\n",
    "        :param state: State\n",
    "            previous particle filter state\n",
    "        :param inputs: tf.Tensor\n",
    "            Control variables (time elapsed, some environment variables, etc)\n",
    "        :param observation: tf.Tensor\n",
    "            Look ahead observation for adapted particle proposal\n",
    "        :return: proposed State\n",
    "        :rtype: tf.Tensor\n",
    "        \"\"\"            \n",
    "        mu_t, beta_t, sigma_t = inputs\n",
    "        transition_matrix = tf.linalg.matmul(tf.linalg.diag(beta_t), self._transition_matrix)\n",
    "        pushed_particles = tf.reshape(mu_t, [1, 1, -1]) + tf.linalg.matvec(transition_matrix, state.particles)\n",
    "        \n",
    "        scale = tfp.bijectors.ScaleMatvecDiag(sigma_t)\n",
    "        scaled_rv = tfd.TransformedDistribution(self._standard_noise, bijector=scale)\n",
    "        \n",
    "        diff = (pushed_particles - proposed_state.particles)\n",
    "        return scaled_rv.log_prob(diff)"
   ]
  },
  {
   "cell_type": "code",
   "execution_count": null,
   "metadata": {},
   "outputs": [],
   "source": []
  },
  {
   "cell_type": "code",
   "execution_count": 10,
   "metadata": {},
   "outputs": [],
   "source": [
    "proposal_model = LearnableProposalModel(transition_matrix)\n",
    "bootstrap_proposal = BootstrapProposalModel(transition_model)"
   ]
  },
  {
   "cell_type": "code",
   "execution_count": 11,
   "metadata": {},
   "outputs": [],
   "source": [
    "resampling_criterion = NeffCriterion(tf.constant(0.5), tf.constant(True))\n",
    "resampling_method = MultinomialResampler() # SystematicResampler()\n",
    "\n",
    "epsilon = tf.constant(0.5)\n",
    "scaling = tf.constant(0.9)\n",
    "\n",
    "regularized = RegularisedTransform(epsilon, scaling=scaling, max_iter=1000, convergence_threshold=1e-4)\n",
    "\n",
    "solver = PetkovSolver(tf.constant(30))\n",
    "corrected = CorrectedRegularizedTransform(epsilon, scaling=scaling, max_iter=1000, convergence_threshold=1e-4, ricatti_solver=solver, propagate_correction_gradient=False)\n",
    "\n",
    "    \n",
    "systematic_smc = SMC(observation_model, transition_model, proposal_model, resampling_criterion, resampling_method)\n",
    "regularized_smc = SMC(observation_model, transition_model, proposal_model, resampling_criterion, regularized)\n",
    "corrected_smc = SMC(observation_model, transition_model, proposal_model, resampling_criterion, corrected)\n",
    "bootstrap_smc = SMC(observation_model, transition_model, bootstrap_proposal, resampling_criterion, resampling_method)"
   ]
  },
  {
   "cell_type": "code",
   "execution_count": 12,
   "metadata": {},
   "outputs": [],
   "source": [
    "initial_particles = tfd.MultivariateNormalDiag(initial_state_mean, tf.linalg.diag_part(initial_state_covariance)**0.5).sample([B, N])\n",
    "uniform_weights = tf.ones([B, N])\n",
    "uniform_weights = uniform_weights / tf.reduce_sum(uniform_weights, 1, keepdims=True)\n",
    "\n",
    "uniform_log_weights = tf.math.log(uniform_weights)\n",
    "log_likelihoods = tf.zeros([B])\n",
    "init_state = State(initial_particles, uniform_log_weights, uniform_weights, log_likelihoods, None, None)"
   ]
  },
  {
   "cell_type": "markdown",
   "metadata": {},
   "source": [
    "### Create the learnable variables that will be used as inputs to the proposal"
   ]
  },
  {
   "cell_type": "code",
   "execution_count": 13,
   "metadata": {},
   "outputs": [],
   "source": [
    "scale = 0.5\n",
    "\n",
    "mu_ts = tf.Variable(0.5 * tf.random.normal([T, d_x]), trainable=True)\n",
    "beta_ts = tf.Variable(1. + scale * tf.random.normal([T, d_x]), trainable=True)\n",
    "sigma_ts = tf.Variable(tf.math.exp(scale * tf.random.normal([T, d_x])), trainable=True)\n",
    "# beta_ts = []\n",
    "# sigma_ts = []\n",
    "# for t in range(T):\n",
    "#     mu_ts.append(tf.Variable(0., trainable=True))\n",
    "#     beta_ts.append(tf.Variable(1., trainable=True))\n",
    "#     sigma_ts.append(tf.Variable(gamma, trainable=True))\n",
    "    \n"
   ]
  },
  {
   "cell_type": "code",
   "execution_count": 14,
   "metadata": {},
   "outputs": [],
   "source": [
    "trainable_variables = [mu_ts, beta_ts, sigma_ts]"
   ]
  },
  {
   "cell_type": "code",
   "execution_count": 15,
   "metadata": {},
   "outputs": [],
   "source": [
    "@tf.function\n",
    "def smc_routine(smc, state, use_correction_term=False):\n",
    "    iterator = iter(observations_dataset)\n",
    "    for t in tf.range(T):\n",
    "        mu_t = mu_ts[t]\n",
    "        beta_t = beta_ts[t]\n",
    "        sigma_t = sigma_ts[t]\n",
    "        obs = iterator.get_next()\n",
    "        state = smc.update(state, obs, [mu_t, beta_t, sigma_t])\n",
    "        t = t + 1\n",
    "    res = tf.reduce_mean(state.log_likelihoods)\n",
    "    if use_correction_term:\n",
    "        return res, tf.reduce_mean(state.resampling_correction)\n",
    "    return res, tf.constant(0.)\n",
    "    "
   ]
  },
  {
   "cell_type": "code",
   "execution_count": 16,
   "metadata": {},
   "outputs": [],
   "source": [
    "test_bootstrap = [smc_routine(bootstrap_smc, init_state)[0].numpy().sum() for _ in range(100)] "
   ]
  },
  {
   "cell_type": "code",
   "execution_count": 17,
   "metadata": {},
   "outputs": [
    {
     "data": {
      "text/plain": [
       "-41.09441"
      ]
     },
     "execution_count": 17,
     "metadata": {},
     "output_type": "execute_result"
    }
   ],
   "source": [
    "np.mean(test_bootstrap)"
   ]
  },
  {
   "cell_type": "code",
   "execution_count": 18,
   "metadata": {},
   "outputs": [
    {
     "data": {
      "text/plain": [
       "-38.2905492040977"
      ]
     },
     "execution_count": 18,
     "metadata": {},
     "output_type": "execute_result"
    }
   ],
   "source": [
    "true_log_likelihood"
   ]
  },
  {
   "cell_type": "code",
   "execution_count": 19,
   "metadata": {},
   "outputs": [],
   "source": [
    "@tf.function\n",
    "def train_one_step(optimizer, smc, use_correction_term):\n",
    "    with tf.GradientTape() as tape:\n",
    "        tape.watch(trainable_variables)\n",
    "        real_ll, correction = smc_routine(smc, init_state, use_correction_term)\n",
    "        loss = -(real_ll + correction)\n",
    "    grads_loss = tape.gradient(loss, trainable_variables)\n",
    "    optimizer.apply_gradients(zip(grads_loss, trainable_variables))\n",
    "    return real_ll, grads_loss\n",
    "\n",
    "@tf.function\n",
    "def train(optimizer, smc, num_steps = 100, use_correction_term=False, reset=True):\n",
    "    if reset:\n",
    "        reset_operations = [mu_ts.assign(tf.zeros_like(mu_ts)), beta_ts.assign(tf.ones_like(beta_ts)), sigma_ts.assign(gamma * tf.ones_like(sigma_ts))]\n",
    "    else:\n",
    "        reset_operations = []\n",
    "    loss_tensor_array = tf.TensorArray(dtype=tf.float32, size=num_steps, dynamic_size=False, element_shape=[])\n",
    "    grad_tensor_array = tf.TensorArray(dtype=tf.float32, size=num_steps, dynamic_size=False, element_shape=[])\n",
    "    with tf.control_dependencies(reset_operations):\n",
    "        tic = tf.timestamp()\n",
    "        for step in tf.range(1, num_steps+1):\n",
    "            real_ll, grads = train_one_step(optimizer, smc, use_correction_term)\n",
    "            toc = tf.timestamp()\n",
    "            max_grad = tf.reduce_max(tf.abs(grads))\n",
    "            if step % (num_steps // 100) == 0:\n",
    "                tf.print('Step', step, '/', num_steps, ': ms per step= ', 1000. * (toc - tic) / tf.cast(step, tf.float64), ': total time (s)= ', (toc - tic), ', log_likelihood = ', real_ll, ', max abs grads = ', max_grad, end='\\r')\n",
    "            loss_tensor_array = loss_tensor_array.write(step-1, real_ll)\n",
    "            grad_tensor_array = grad_tensor_array.write(step-1, max_grad)\n",
    "    return loss_tensor_array.stack(), grad_tensor_array.stack()"
   ]
  },
  {
   "cell_type": "code",
   "execution_count": 20,
   "metadata": {},
   "outputs": [],
   "source": [
    "adam = tf.optimizers.Adam(lr = 1e-3)"
   ]
  },
  {
   "cell_type": "code",
   "execution_count": 21,
   "metadata": {},
   "outputs": [
    {
     "name": "stdout",
     "output_type": "stream",
     "text": [
      "[1.17442489 1.13127601 1.03404331 ... 1.36934006 1.25858665 1.01289976]\n",
      "[0.940137148 0.879068434 1.09159863 ... 0.966803074 1.15960133 0.994477212]\n",
      "[0.211283743 0.0128934691 -0.237645686 ... 0.122734033 0.0495563783 0.0404908434]\n"
     ]
    }
   ],
   "source": [
    "tf.print(tf.reduce_mean(sigma_ts, 0))\n",
    "tf.print(tf.reduce_mean(beta_ts, 0))\n",
    "tf.print(tf.reduce_mean(mu_ts, 0))"
   ]
  },
  {
   "cell_type": "code",
   "execution_count": 22,
   "metadata": {},
   "outputs": [
    {
     "name": "stdout",
     "output_type": "stream",
     "text": [
      "WARNING:tensorflow:From C:\\ProgramData\\Anaconda3\\lib\\site-packages\\tensorflow_core\\python\\ops\\linalg\\linear_operator_diag.py:166: calling LinearOperator.__init__ (from tensorflow.python.ops.linalg.linear_operator) with graph_parents is deprecated and will be removed in a future version.\n",
      "Instructions for updating:\n",
      "Do not pass `graph_parents`.  They will  no longer be used.\n",
      "Step 10000 / 10000 : ms per step=  25.207915711402894 : total time (s)=  252.07915711402893 , log_likelihood =  -43.4442596 , max abs grads =  67.320652\r"
     ]
    }
   ],
   "source": [
    "n_iter = 10000\n",
    "ll, grads = train(adam, systematic_smc, tf.constant(n_iter))"
   ]
  },
  {
   "cell_type": "code",
   "execution_count": 23,
   "metadata": {},
   "outputs": [],
   "source": [
    "def moving_average(data_set, periods=3):\n",
    "    weights = np.ones(periods) / periods\n",
    "    return np.convolve(data_set, weights, mode='valid')"
   ]
  },
  {
   "cell_type": "code",
   "execution_count": 29,
   "metadata": {},
   "outputs": [
    {
     "data": {
      "text/plain": [
       "<matplotlib.collections.LineCollection at 0x2daba40bf98>"
      ]
     },
     "execution_count": 29,
     "metadata": {},
     "output_type": "execute_result"
    },
    {
     "data": {
      "image/png": "[encoded data removed]",
      "text/plain": [
       "<Figure size 432x288 with 1 Axes>"
      ]
     },
     "metadata": {
      "needs_background": "light"
     },
     "output_type": "display_data"
    }
   ],
   "source": [
    "plt.plot(moving_average(ll.numpy(), 50))\n",
    "plt.hlines(true_log_likelihood, 0, 10000)"
   ]
  },
  {
   "cell_type": "code",
   "execution_count": 25,
   "metadata": {},
   "outputs": [
    {
     "data": {
      "text/plain": [
       "<tf.Tensor: shape=(10,), dtype=float32, numpy=\n",
       "array([0.92050153, 0.92795134, 0.88678086, 0.87553334, 0.8390445 ,\n",
       "       0.78702354, 0.81805605, 0.8685695 , 0.8865087 , 0.9242939 ],\n",
       "      dtype=float32)>"
      ]
     },
     "execution_count": 25,
     "metadata": {},
     "output_type": "execute_result"
    }
   ],
   "source": [
    "tf.reduce_mean(beta_ts, 0)"
   ]
  },
  {
   "cell_type": "code",
   "execution_count": 26,
   "metadata": {},
   "outputs": [
    {
     "data": {
      "text/plain": [
       "<tf.Tensor: shape=(10,), dtype=float32, numpy=\n",
       "array([0.10247049, 0.1010136 , 0.09832381, 0.1019046 , 0.10046874,\n",
       "       0.1008432 , 0.10174166, 0.09858645, 0.10062486, 0.10021318],\n",
       "      dtype=float32)>"
      ]
     },
     "execution_count": 26,
     "metadata": {},
     "output_type": "execute_result"
    }
   ],
   "source": [
    "tf.reduce_mean(sigma_ts, 0)"
   ]
  },
  {
   "cell_type": "code",
   "execution_count": 27,
   "metadata": {},
   "outputs": [
    {
     "data": {
      "text/plain": [
       "<tf.Tensor: shape=(10,), dtype=float32, numpy=\n",
       "array([ 0.0066028 , -0.00452861, -0.00164163, -0.00015082,  0.00129783,\n",
       "       -0.01219336, -0.0064563 , -0.00251127, -0.00078753, -0.00184873],\n",
       "      dtype=float32)>"
      ]
     },
     "execution_count": 27,
     "metadata": {},
     "output_type": "execute_result"
    }
   ],
   "source": [
    "tf.reduce_mean(mu_ts, 0)"
   ]
  },
  {
   "cell_type": "code",
   "execution_count": 28,
   "metadata": {},
   "outputs": [
    {
     "data": {
      "text/plain": [
       "FloatStateSeries(batch_size=<tf.Tensor: shape=(), dtype=int32, numpy=1>, n_particles=<tf.Tensor: shape=(), dtype=int32, numpy=4>, dimension=<tf.Tensor: shape=(), dtype=int32, numpy=10>, particles=<tf.Tensor: shape=(0, 1, 4, 10), dtype=float32, numpy=array([], shape=(0, 1, 4, 10), dtype=float32)>, log_weights=<tf.Tensor: shape=(0, 1, 4), dtype=float32, numpy=array([], shape=(0, 1, 4), dtype=float32)>, weights=<tf.Tensor: shape=(0, 1, 4), dtype=float32, numpy=array([], shape=(0, 1, 4), dtype=float32)>, log_likelihoods=<tf.Tensor: shape=(0, 1), dtype=float32, numpy=array([], shape=(0, 1), dtype=float32)>)"
      ]
     },
     "execution_count": 28,
     "metadata": {},
     "output_type": "execute_result"
    }
   ],
   "source": [
    "bootstrap_smc(init_state, observations_dataset, T)"
   ]
  },
  {
   "cell_type": "code",
   "execution_count": null,
   "metadata": {},
   "outputs": [],
   "source": []
  }
 ],
 "metadata": {
  "kernelspec": {
   "display_name": "Python 3",
   "language": "python",
   "name": "python3"
  },
  "language_info": {
   "codemirror_mode": {
    "name": "ipython",
    "version": 3
   },
   "file_extension": ".py",
   "mimetype": "text/x-python",
   "name": "python",
   "nbconvert_exporter": "python",
   "pygments_lexer": "ipython3",
   "version": "3.7.3"
  }
 },
 "nbformat": 4,
 "nbformat_minor": 4
}
