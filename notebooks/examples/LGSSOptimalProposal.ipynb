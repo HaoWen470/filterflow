{
 "cells": [
  {
   "cell_type": "markdown",
   "metadata": {},
   "source": [
    "# Learn the globally optimal proposal for a linear gaussian state space model"
   ]
  },
  {
   "cell_type": "markdown",
   "metadata": {},
   "source": [
    "We reproduce the experiment in Naesseth and al. Variational SMC"
   ]
  },
  {
   "cell_type": "code",
   "execution_count": 1,
   "metadata": {},
   "outputs": [],
   "source": [
    "import os, sys\n",
    "# add to path\n",
    "sys.path.append(\"../..\")\n",
    "\n",
    "import attr\n",
    "import datetime\n",
    "\n",
    "import matplotlib.pyplot as plt\n",
    "import numpy as np\n",
    "import pandas as pd\n",
    "from PIL import Image\n",
    "import pykalman\n",
    "import seaborn\n",
    "\n",
    "import tensorflow as tf\n",
    "import tensorflow_addons as tfa\n",
    "import tensorflow_probability as tfp\n",
    "tfd = tfp.distributions\n",
    "ed = tfp.edward2\n",
    "\n",
    "seaborn.set()\n"
   ]
  },
  {
   "cell_type": "code",
   "execution_count": 2,
   "metadata": {},
   "outputs": [],
   "source": [
    "tf.config.set_visible_devices([], 'GPU') "
   ]
  },
  {
   "cell_type": "code",
   "execution_count": 3,
   "metadata": {},
   "outputs": [],
   "source": [
    "from filterflow.smc import SMC\n",
    "from filterflow.base import State, StateSeries\n",
    "\n",
    "from filterflow.observation.linear import LinearObservationModel\n",
    "\n",
    "from filterflow.transition.random_walk import RandomWalkModel\n",
    "from filterflow.proposal import BootstrapProposalModel\n",
    "from filterflow.proposal.base import ProposalModelBase\n",
    "\n",
    "from filterflow.resampling.criterion import NeffCriterion, AlwaysResample, NeverResample\n",
    "from filterflow.resampling.standard import SystematicResampler, MultinomialResampler\n",
    "from filterflow.resampling.differentiable import RegularisedTransform, CorrectedRegularizedTransform, PartiallyCorrectedRegularizedTransform\n",
    "from filterflow.resampling.differentiable.ricatti.solver import PetkovSolver, NaiveSolver\n",
    "\n",
    "from filterflow.resampling.base import NoResampling\n",
    "\n",
    "from filterflow.state_space_model import StateSpaceModel"
   ]
  },
  {
   "cell_type": "markdown",
   "metadata": {},
   "source": [
    "### Set up the model"
   ]
  },
  {
   "cell_type": "code",
   "execution_count": 4,
   "metadata": {},
   "outputs": [
    {
     "data": {
      "text/plain": [
       "-373.13665237777803"
      ]
     },
     "execution_count": 4,
     "metadata": {},
     "output_type": "execute_result"
    }
   ],
   "source": [
    "tf.random.set_seed(None)\n",
    "rndstate = np.random.RandomState(None)\n",
    "\n",
    "T = 25\n",
    "\n",
    "d_x = 10\n",
    "d_y = 10\n",
    "\n",
    "alpha = 0.42\n",
    "gamma = 0.1\n",
    "\n",
    "B = 4\n",
    "N = 4\n",
    "\n",
    "transition_matrix = np.array([[alpha**(abs(i-j) + 1) for j in range(d_x)] for i in range(d_x)], dtype=np.float32)\n",
    "transition_covariance = np.eye(d_x, dtype=np.float32)\n",
    "\n",
    "\n",
    "observation_covariance = gamma * np.eye(d_y, dtype=np.float32)\n",
    "observation_matrix = np.zeros([d_y, d_x], dtype=np.float32)\n",
    "observation_matrix[:d_y, :d_y] = np.eye(d_y, dtype=np.float32)\n",
    "# observation_matrix = np.ones([d_y, d_x], dtype=np.float32)\n",
    "# observation_matrix = np.random.normal(0., 1., [d_y, d_x]).astype(np.float32)\n",
    "\n",
    "\n",
    "initial_state_mean = np.zeros(d_x, dtype=np.float32)\n",
    "initial_state_covariance = np.eye(d_x, dtype=np.float32)\n",
    "\n",
    "kf = pykalman.KalmanFilter(transition_matrix, observation_matrix, transition_covariance, observation_covariance, initial_state_mean=initial_state_mean, initial_state_covariance=initial_state_covariance)\n",
    "observations = kf.sample(T, random_state=rndstate)[1].data.astype(np.float32)\n",
    "\n",
    "true_log_likelihood = kf.loglikelihood(observations)\n",
    "true_log_likelihood"
   ]
  },
  {
   "cell_type": "code",
   "execution_count": 5,
   "metadata": {},
   "outputs": [],
   "source": [
    "observations_dataset = tf.data.Dataset.from_tensor_slices(observations)"
   ]
  },
  {
   "cell_type": "markdown",
   "metadata": {},
   "source": [
    "### Set up the filterflow filter"
   ]
  },
  {
   "cell_type": "code",
   "execution_count": 6,
   "metadata": {},
   "outputs": [],
   "source": [
    "transition_noise = tfd.MultivariateNormalDiag(tf.zeros(d_x, dtype=tf.float32), tf.linalg.diag_part(transition_covariance) ** 0.5) # mind it MultivariateNormalDiag does diag * diag...\n",
    "transition_model = RandomWalkModel(tf.convert_to_tensor(transition_matrix), transition_noise)"
   ]
  },
  {
   "cell_type": "code",
   "execution_count": 7,
   "metadata": {},
   "outputs": [],
   "source": [
    "observation_error = tfd.MultivariateNormalDiag(tf.zeros(d_y, dtype=tf.float32), tf.linalg.diag_part(observation_covariance) ** 0.5) # mind it MultivariateNormalDiag does diag * diag...\n",
    "observation_model = LinearObservationModel(tf.convert_to_tensor(observation_matrix), observation_error)"
   ]
  },
  {
   "cell_type": "code",
   "execution_count": 8,
   "metadata": {},
   "outputs": [],
   "source": [
    "class LearnableProposalModel(ProposalModelBase):\n",
    "    def __init__(self, transition_matrix, name='LearnableProposalModel'):\n",
    "        super(LearnableProposalModel, self).__init__(name=name)\n",
    "        self._transition_matrix = transition_matrix\n",
    "        self._standard_noise = tfd.MultivariateNormalDiag(tf.zeros(transition_matrix.shape[0]), tf.ones(transition_matrix.shape[0]))\n",
    "    \n",
    "    def propose(self, state: State, inputs, _observation: tf.Tensor):\n",
    "        \"\"\"See base class\"\"\"\n",
    "        mu_t, beta_t, sigma_t = inputs\n",
    "        \n",
    "        transition_matrix = tf.linalg.matmul(tf.linalg.diag(beta_t), self._transition_matrix)\n",
    "        \n",
    "        pushed_particles = tf.reshape(mu_t, [1, 1, -1]) + tf.linalg.matvec(transition_matrix, state.particles)\n",
    "        \n",
    "        scale = tfp.bijectors.ScaleMatvecDiag(sigma_t)\n",
    "        scaled_rv = tfd.TransformedDistribution(self._standard_noise, bijector=scale)        \n",
    "        proposed_particles = pushed_particles + scaled_rv.sample([state.batch_size, state.n_particles])\n",
    "        return attr.evolve(state, particles=proposed_particles)\n",
    "\n",
    "    def loglikelihood(self, proposed_state: State, state: State, inputs: tf.Tensor, observation: tf.Tensor):\n",
    "        \"\"\"Interface method for particle proposal\n",
    "        :param proposed_state: State\n",
    "            proposed state\n",
    "        :param state: State\n",
    "            previous particle filter state\n",
    "        :param inputs: tf.Tensor\n",
    "            Control variables (time elapsed, some environment variables, etc)\n",
    "        :param observation: tf.Tensor\n",
    "            Look ahead observation for adapted particle proposal\n",
    "        :return: proposed State\n",
    "        :rtype: tf.Tensor\n",
    "        \"\"\"            \n",
    "        mu_t, beta_t, sigma_t = inputs\n",
    "        transition_matrix = tf.linalg.matmul(tf.linalg.diag(beta_t), self._transition_matrix)\n",
    "        pushed_particles = tf.reshape(mu_t, [1, 1, -1]) + tf.linalg.matvec(transition_matrix, state.particles)\n",
    "        \n",
    "        scale = tfp.bijectors.ScaleMatvecDiag(sigma_t)\n",
    "        scaled_rv = tfd.TransformedDistribution(self._standard_noise, bijector=scale)\n",
    "        \n",
    "        diff = (pushed_particles - proposed_state.particles)\n",
    "        return scaled_rv.log_prob(diff)"
   ]
  },
  {
   "cell_type": "code",
   "execution_count": 9,
   "metadata": {},
   "outputs": [],
   "source": [
    "proposal_model = LearnableProposalModel(transition_matrix)\n",
    "bootstrap_proposal = BootstrapProposalModel(transition_model)"
   ]
  },
  {
   "cell_type": "code",
   "execution_count": 10,
   "metadata": {},
   "outputs": [],
   "source": [
    "resampling_criterion = NeffCriterion(tf.constant(0.5), tf.constant(True))\n",
    "resampling_method = MultinomialResampler()\n",
    "\n",
    "epsilon = tf.constant(0.5)\n",
    "scaling = tf.constant(0.75)\n",
    "\n",
    "regularized = RegularisedTransform(epsilon, scaling=scaling, max_iter=1000, convergence_threshold=1e-1)\n",
    "\n",
    "solver = PetkovSolver(tf.constant(30))\n",
    "corrected = PartiallyCorrectedRegularizedTransform(regularized)\n",
    "\n",
    "    \n",
    "multinomial_smc = SMC(observation_model, transition_model, proposal_model, resampling_criterion, resampling_method)\n",
    "regularized_smc = SMC(observation_model, transition_model, proposal_model, resampling_criterion, regularized)\n",
    "corrected_smc = SMC(observation_model, transition_model, proposal_model, resampling_criterion, corrected)\n",
    "bootstrap_smc = SMC(observation_model, transition_model, bootstrap_proposal, resampling_criterion, resampling_method)"
   ]
  },
  {
   "cell_type": "code",
   "execution_count": 11,
   "metadata": {},
   "outputs": [],
   "source": [
    "initial_particles = tfd.MultivariateNormalDiag(initial_state_mean, tf.linalg.diag_part(initial_state_covariance)**0.5).sample([B, N])\n",
    "uniform_weights = tf.ones([B, N])\n",
    "uniform_weights = uniform_weights / tf.reduce_sum(uniform_weights, 1, keepdims=True)\n",
    "\n",
    "uniform_log_weights = tf.math.log(uniform_weights)\n",
    "log_likelihoods = tf.zeros([B])\n",
    "init_state = State(initial_particles, uniform_log_weights, uniform_weights, log_likelihoods, None, None)"
   ]
  },
  {
   "cell_type": "code",
   "execution_count": 12,
   "metadata": {},
   "outputs": [],
   "source": [
    "large_B = 100\n",
    "large_N = N\n",
    "large_initial_particles = tfd.MultivariateNormalDiag(initial_state_mean, tf.linalg.diag_part(initial_state_covariance)**0.5).sample([large_B, large_N])\n",
    "large_uniform_weights = tf.ones([large_B, large_N])\n",
    "large_uniform_weights = large_uniform_weights / tf.reduce_sum(large_uniform_weights, 1, keepdims=True)\n",
    "\n",
    "large_uniform_log_weights = tf.math.log(large_uniform_weights)\n",
    "large_log_likelihoods = tf.zeros([large_B])\n",
    "large_init_state = State(large_initial_particles, large_uniform_log_weights, large_uniform_weights, large_log_likelihoods, None, None)"
   ]
  },
  {
   "cell_type": "markdown",
   "metadata": {},
   "source": [
    "### Create the learnable variables that will be used as inputs to the proposal"
   ]
  },
  {
   "cell_type": "code",
   "execution_count": 13,
   "metadata": {},
   "outputs": [],
   "source": [
    "scale = 0.5\n",
    "\n",
    "mu_ts_init = scale * tf.random.normal([T, d_x])\n",
    "beta_ts_init = 1. + scale * tf.random.normal([T, d_x])\n",
    "log_sigma_ts_init = scale * tf.random.normal([T, d_x])\n",
    "\n",
    "mu_ts_init = tf.zeros([T, d_x])\n",
    "beta_ts_init = tf.ones([T, d_x])\n",
    "log_sigma_ts_init = tf.zeros([T, d_x])\n",
    "\n",
    "\n",
    "mu_ts = tf.Variable(mu_ts_init, trainable=True)\n",
    "beta_ts = tf.Variable(beta_ts_init, trainable=True)\n",
    "log_sigma_ts = tf.Variable(log_sigma_ts_init, trainable=True)\n"
   ]
  },
  {
   "cell_type": "code",
   "execution_count": 14,
   "metadata": {},
   "outputs": [],
   "source": [
    "trainable_variables = [mu_ts, beta_ts, log_sigma_ts]\n",
    "init_values = [mu_ts_init, beta_ts_init, log_sigma_ts_init]"
   ]
  },
  {
   "cell_type": "code",
   "execution_count": 15,
   "metadata": {},
   "outputs": [],
   "source": [
    "@tf.function\n",
    "def smc_routine(smc, state, use_correction_term=False):\n",
    "    iterator = iter(observations_dataset)\n",
    "    for t in tf.range(T):\n",
    "        mu_t = mu_ts[t]\n",
    "        beta_t = beta_ts[t]\n",
    "        sigma_t = tf.math.exp(log_sigma_ts[t])\n",
    "        obs = iterator.get_next()\n",
    "        state = smc.update(state, obs, [mu_t, beta_t, sigma_t])\n",
    "        t = t + 1\n",
    "    res = tf.reduce_mean(state.log_likelihoods)\n",
    "    if use_correction_term:\n",
    "        return res, tf.reduce_mean(state.resampling_correction)\n",
    "    return res, tf.constant(0.)\n",
    "    "
   ]
  },
  {
   "cell_type": "code",
   "execution_count": 16,
   "metadata": {},
   "outputs": [],
   "source": [
    "optimizer = tf.optimizers.Adam(learning_rate=1e-2)"
   ]
  },
  {
   "cell_type": "code",
   "execution_count": 17,
   "metadata": {},
   "outputs": [],
   "source": [
    "@tf.function\n",
    "def run_one_step(smc, use_correction_term, init_state):\n",
    "    with tf.GradientTape() as tape:\n",
    "        tape.watch(trainable_variables)\n",
    "        real_ll, correction = smc_routine(smc, init_state, use_correction_term)\n",
    "        loss = -(real_ll + correction)\n",
    "    grads_loss = tape.gradient(loss, trainable_variables)\n",
    "    return real_ll, grads_loss\n",
    "\n",
    "@tf.function\n",
    "def train_one_step(smc, use_correction_term):\n",
    "    real_ll, grads_loss = run_one_step(smc, use_correction_term, init_state)\n",
    "    optimizer.apply_gradients(zip(grads_loss, trainable_variables))\n",
    "    return -real_ll, grads_loss\n",
    "\n",
    "@tf.function\n",
    "def train_niter(smc, num_steps=100, use_correction_term=False, reset=True):\n",
    "    if reset:\n",
    "        reset_operations = [v.assign(init) for v, init in zip(trainable_variables, init_values)]\n",
    "    else:\n",
    "        reset_operations = []\n",
    "    loss_tensor_array = tf.TensorArray(dtype=tf.float32, size=num_steps, dynamic_size=False, element_shape=[])\n",
    "    grad_tensor_array = tf.TensorArray(dtype=tf.float32, size=num_steps, dynamic_size=False, element_shape=[])\n",
    "    time_tensor_array = tf.TensorArray(dtype=tf.float64, size=num_steps, dynamic_size=False, element_shape=[])\n",
    "    with tf.control_dependencies(reset_operations):\n",
    "        toc = tf.constant(0., dtype=tf.float64)\n",
    "        tic = tf.timestamp()\n",
    "        for step in tf.range(1, num_steps+1):\n",
    "            \n",
    "            tic_loss = tf.timestamp()\n",
    "            with tf.control_dependencies([tic_loss]):\n",
    "                loss, grads = train_one_step(smc, use_correction_term)\n",
    "            with tf.control_dependencies([loss]):\n",
    "                toc_loss = tf.timestamp()            \n",
    "            \n",
    "            elbo, _ = run_one_step(multinomial_smc, False, large_init_state)\n",
    "\n",
    "            toc += toc_loss - tic_loss\n",
    "            \n",
    "            max_grad = tf.reduce_max(tf.abs(grads))\n",
    "            \n",
    "            tf.print('Step', step, '/', num_steps, ': ms per step= ', 1000. * toc / tf.cast(step, tf.float64), ': total compute time (s)= ', toc, 'Real Time elapsed (s): ', tf.timestamp()-tic, ', loss = ', loss, ', max abs grads = ', max_grad, end='\\r')\n",
    "            \n",
    "            loss_tensor_array = loss_tensor_array.write(step-1, -elbo)\n",
    "            grad_tensor_array = grad_tensor_array.write(step-1, max_grad)\n",
    "            time_tensor_array = time_tensor_array.write(step-1, toc)\n",
    "    return loss_tensor_array.stack(), grad_tensor_array.stack(), time_tensor_array.stack()\n",
    "\n",
    "@tf.function\n",
    "def train_total_time(smc, total_time, use_correction_term=False, reset=True):\n",
    "    if reset:\n",
    "        reset_operations = [v.assign(init) for v, init in zip(trainable_variables, init_values)]\n",
    "    else:\n",
    "        reset_operations = []\n",
    "    loss_tensor_array = tf.TensorArray(dtype=tf.float32, size=0, dynamic_size=True, element_shape=[])\n",
    "    grad_tensor_array = tf.TensorArray(dtype=tf.float32, size=0, dynamic_size=True, element_shape=[])\n",
    "    time_tensor_array = tf.TensorArray(dtype=tf.float64, size=0, dynamic_size=True, element_shape=[])\n",
    "    with tf.control_dependencies(reset_operations):\n",
    "        toc = tf.constant(0., dtype=tf.float64)\n",
    "        tic = tf.timestamp()\n",
    "        step = tf.constant(1)\n",
    "        while toc < total_time:\n",
    "            \n",
    "            tic_loss = tf.timestamp()\n",
    "            with tf.control_dependencies([tic_loss]):\n",
    "                loss, grads = train_one_step(smc, use_correction_term)\n",
    "            with tf.control_dependencies([loss]):\n",
    "                toc_loss = tf.timestamp()   \n",
    "            elbo, _ = run_one_step(multinomial_smc, False, large_init_state)\n",
    "            \n",
    "            max_grad = tf.reduce_max(tf.abs(grads))\n",
    "            loss_tensor_array = loss_tensor_array.write(step-1, -elbo)\n",
    "            grad_tensor_array = grad_tensor_array.write(step-1, max_grad)\n",
    "            time_tensor_array = time_tensor_array.write(step-1, toc)\n",
    "            step = step + 1\n",
    "\n",
    "            toc += toc_loss - tic_loss\n",
    "\n",
    "            tf.print('Compute Time elapsed (s): ', toc, 'Real Time elapsed (s): ', tf.timestamp()-tic, ', n_steps: ', step, ': ms per step= ', 1000. * toc / tf.cast(step, tf.float64), end='\\r')\n",
    "    return loss_tensor_array.stack(), grad_tensor_array.stack(), time_tensor_array.stack()\n",
    "\n",
    "\n",
    "@tf.function\n",
    "def run_several(smc, n_times, use_correction_term=False):\n",
    "    loss_array = tf.TensorArray(dtype=tf.float32, size=n_times, dynamic_size=False, element_shape=[])\n",
    "    grad_array = tf.TensorArray(dtype=tf.float32, size=n_times, dynamic_size=False)\n",
    "    for i in tf.range(n_times):\n",
    "        real_ll, grads_loss = run_one_step(smc, use_correction_term, init_state)\n",
    "        loss_array = loss_array.write(i, real_ll)        \n",
    "        grad_array = grad_array.write(i, grads_loss)\n",
    "        tf.print('Step: ', i+1, '/', n_times, end='\\r')\n",
    "    return loss_array.stack(), grad_array.stack()"
   ]
  },
  {
   "cell_type": "code",
   "execution_count": 18,
   "metadata": {},
   "outputs": [],
   "source": [
    "n_iter = 500"
   ]
  },
  {
   "cell_type": "code",
   "execution_count": 19,
   "metadata": {},
   "outputs": [
    {
     "name": "stdout",
     "output_type": "stream",
     "text": [
      "WARNING:tensorflow:From C:\\ProgramData\\Anaconda3\\lib\\site-packages\\tensorflow_core\\python\\ops\\linalg\\linear_operator_diag.py:166: calling LinearOperator.__init__ (from tensorflow.python.ops.linalg.linear_operator) with graph_parents is deprecated and will be removed in a future version.\n",
      "Instructions for updating:\n",
      "Do not pass `graph_parents`.  They will  no longer be used.\n",
      "Step 500 / 500 : ms per step=  26.362655639648438 : total compute time (s)=  13.181327819824219 Real Time elapsed (s):  28.012740135192871 , loss =  385.039 , max abs grads =  7.0363864908948\r"
     ]
    }
   ],
   "source": [
    "multinomial_ll_n_epochs, _, multinomial_time = train_niter(multinomial_smc, tf.constant(n_iter))"
   ]
  },
  {
   "cell_type": "code",
   "execution_count": 21,
   "metadata": {},
   "outputs": [
    {
     "name": "stdout",
     "output_type": "stream",
     "text": [
      "Step:  50 / 50\r"
     ]
    }
   ],
   "source": [
    "multinomial_ll_per_seed, multinomial_grad_per_seed = run_several(multinomial_smc, tf.constant(50))"
   ]
  },
  {
   "cell_type": "code",
   "execution_count": 22,
   "metadata": {},
   "outputs": [
    {
     "name": "stdout",
     "output_type": "stream",
     "text": [
      "Compute Time elapsed (s):  30.013396978378296 Real Time elapsed (s):  63.340588808059692 , n_steps:  1079 : ms per step=  27.8159378854293745\r"
     ]
    }
   ],
   "source": [
    "multinomial_ll_total_time, _, _ = train_total_time(multinomial_smc, tf.constant(30, dtype=tf.float64))"
   ]
  },
  {
   "cell_type": "code",
   "execution_count": 23,
   "metadata": {},
   "outputs": [
    {
     "name": "stdout",
     "output_type": "stream",
     "text": [
      "Step 500 / 500 : ms per step=  61.6565523147583 : total compute time (s)=  30.82827615737915 Real Time elapsed (s):  46.291957855224609 , loss =  376.137146 , max abs grads =  4.96240473942\r"
     ]
    }
   ],
   "source": [
    "reg_ll_n_epochs, _, reg_time = train_niter(regularized_smc, tf.constant(n_iter))"
   ]
  },
  {
   "cell_type": "code",
   "execution_count": 24,
   "metadata": {},
   "outputs": [
    {
     "name": "stdout",
     "output_type": "stream",
     "text": [
      "Step:  50 / 50\r"
     ]
    }
   ],
   "source": [
    "reg_ll_per_seed, reg_grad_per_seed = run_several(regularized_smc, tf.constant(50))"
   ]
  },
  {
   "cell_type": "code",
   "execution_count": 25,
   "metadata": {},
   "outputs": [
    {
     "name": "stdout",
     "output_type": "stream",
     "text": [
      "Compute Time elapsed (s):  30.022502899169922 Real Time elapsed (s):  44.781517028808594 , n_steps:  469 : ms per step=  64.0138654566522837\r"
     ]
    }
   ],
   "source": [
    "reg_ll_total_time, _, _ = train_total_time(regularized_smc, tf.constant(30, dtype=tf.float64))"
   ]
  },
  {
   "cell_type": "code",
   "execution_count": 26,
   "metadata": {},
   "outputs": [
    {
     "name": "stdout",
     "output_type": "stream",
     "text": [
      "Step 500 / 500 : ms per step=  62.926285266876221 : total compute time (s)=  31.46314263343811 Real Time elapsed (s):  47.908904075622559 , loss =  381.866272 , max abs grads =  7.180029391\r"
     ]
    }
   ],
   "source": [
    "corr_ll_n_epochs, _, corr_time = train_niter(corrected_smc, tf.constant(n_iter))"
   ]
  },
  {
   "cell_type": "code",
   "execution_count": 27,
   "metadata": {},
   "outputs": [
    {
     "name": "stdout",
     "output_type": "stream",
     "text": [
      "Step:  50 / 50\r"
     ]
    }
   ],
   "source": [
    "corr_ll_per_seed, corr_grad_per_seed = run_several(corrected_smc, tf.constant(50))"
   ]
  },
  {
   "cell_type": "code",
   "execution_count": 28,
   "metadata": {},
   "outputs": [
    {
     "name": "stdout",
     "output_type": "stream",
     "text": [
      "Compute Time elapsed (s):  30.009743690490723 Real Time elapsed (s):  44.695086002349854 , n_steps:  492 : ms per step=  60.9954140050624432\r"
     ]
    }
   ],
   "source": [
    "corr_ll_total_time, _, _ = train_total_time(corrected_smc, tf.constant(30, dtype=tf.float64))"
   ]
  },
  {
   "cell_type": "code",
   "execution_count": 29,
   "metadata": {},
   "outputs": [
    {
     "data": {
      "image/png": "[encoded data removed]",
      "text/plain": [
       "<Figure size 720x360 with 1 Axes>"
      ]
     },
     "metadata": {
      "needs_background": "light"
     },
     "output_type": "display_data"
    }
   ],
   "source": [
    "fig, ax = plt.subplots(figsize=(10, 5))\n",
    "ax.plot(multinomial_ll_n_epochs.numpy(), color='blue')\n",
    "ax.plot(reg_ll_n_epochs.numpy(), color='green')\n",
    "ax.plot(corr_ll_n_epochs.numpy(), color='orange')\n",
    "ax.hlines(-true_log_likelihood, 0, n_iter)\n",
    "fig.savefig(os.path.join('./charts/', 'lgss_loss_per_epoch.png'))\n"
   ]
  },
  {
   "cell_type": "code",
   "execution_count": 30,
   "metadata": {},
   "outputs": [
    {
     "data": {
      "image/png": "[encoded data removed]",
      "text/plain": [
       "<Figure size 720x360 with 1 Axes>"
      ]
     },
     "metadata": {
      "needs_background": "light"
     },
     "output_type": "display_data"
    }
   ],
   "source": [
    "fig, ax = plt.subplots(figsize=(10, 5))\n",
    "ax.plot(np.linspace(0, 30, len(multinomial_ll_total_time.numpy())), multinomial_ll_total_time.numpy(), color='blue')\n",
    "ax.plot(np.linspace(0, 30, len(reg_ll_total_time.numpy())), reg_ll_total_time.numpy(), color='green')\n",
    "ax.plot(np.linspace(0, 30, len(corr_ll_total_time.numpy())), corr_ll_total_time.numpy(), color='orange')\n",
    "ax.hlines(-true_log_likelihood, 0, 30)\n",
    "fig.savefig(os.path.join('./charts/', 'lgss_loss_per_second.png'))\n"
   ]
  },
  {
   "cell_type": "code",
   "execution_count": 31,
   "metadata": {},
   "outputs": [],
   "source": [
    "reg_loss_df = pd.Series(reg_ll_per_seed.numpy())"
   ]
  },
  {
   "cell_type": "code",
   "execution_count": 32,
   "metadata": {},
   "outputs": [],
   "source": [
    "corr_loss_df = pd.Series(corr_ll_per_seed.numpy())"
   ]
  },
  {
   "cell_type": "code",
   "execution_count": 33,
   "metadata": {},
   "outputs": [],
   "source": [
    "multinomial_loss_df = pd.Series(multinomial_ll_per_seed.numpy())"
   ]
  },
  {
   "cell_type": "code",
   "execution_count": 34,
   "metadata": {},
   "outputs": [
    {
     "name": "stdout",
     "output_type": "stream",
     "text": [
      "\\begin{tabular}{lrrr}\n",
      "\\toprule\n",
      "{} &  Regularized Transform &  Variance Corrected Transform &  Multinomial Resampling \\\\\n",
      "\\midrule\n",
      "min  &               -385.184 &                      -389.298 &                -395.610 \\\\\n",
      "max  &               -376.199 &                      -376.631 &                -379.147 \\\\\n",
      "mean &               -379.824 &                      -382.441 &                -387.153 \\\\\n",
      "std  &                  2.027 &                         2.997 &                   3.558 \\\\\n",
      "\\bottomrule\n",
      "\\end{tabular}\n",
      "\n"
     ]
    }
   ],
   "source": [
    "print(pd.concat([reg_loss_df, corr_loss_df, multinomial_loss_df], keys=['Regularized Transform', 'Variance Corrected Transform', 'Multinomial Resampling'], axis=1).describe().loc[['min', 'max', 'mean', 'std']].to_latex(float_format=\"%.3f\"))"
   ]
  },
  {
   "cell_type": "code",
   "execution_count": 35,
   "metadata": {},
   "outputs": [],
   "source": [
    "reg_grad_df = pd.DataFrame(reg_grad_per_seed.numpy().std(0).reshape(-1, 3), columns = ['$\\mu_t$', r'$\\beta_t$', '$\\ln(\\sigma_t)$'])\n",
    "corr_grad_df = pd.DataFrame(corr_grad_per_seed.numpy().std(0).reshape(-1, 3), columns = ['$\\mu_t$', r'$\\beta_t$', '$\\ln(\\sigma_t)$'])\n",
    "multinomial_grad_df = pd.DataFrame(multinomial_grad_per_seed.numpy().std(0).reshape(-1, 3), columns = ['$\\mu_t$', r'$\\beta_t$', '$\\ln(\\sigma_t)$'])"
   ]
  },
  {
   "cell_type": "code",
   "execution_count": 41,
   "metadata": {},
   "outputs": [],
   "source": [
    "grad_df = pd.concat([reg_grad_df, corr_grad_df, multinomial_grad_df], keys=['Regularized Transform', 'Variance Corrected Transform', 'Multinomial Resampling'], axis=1)"
   ]
  },
  {
   "cell_type": "code",
   "execution_count": 42,
   "metadata": {},
   "outputs": [
    {
     "name": "stdout",
     "output_type": "stream",
     "text": [
      "\\begin{tabular}{lrrrrrrrrr}\n",
      "\\toprule\n",
      "{} & \\multicolumn{3}{l}{Regularized Transform} & \\multicolumn{3}{l}{Variance Corrected Transform} & \\multicolumn{3}{l}{Multinomial Resampling} \\\\\n",
      "{} &               \\$\\textbackslash mu\\_t\\$ & \\$\\textbackslash beta\\_t\\$ & \\$\\textbackslash ln(\\textbackslash sigma\\_t)\\$ &                      \\$\\textbackslash mu\\_t\\$ & \\$\\textbackslash beta\\_t\\$ & \\$\\textbackslash ln(\\textbackslash sigma\\_t)\\$ &                \\$\\textbackslash mu\\_t\\$ & \\$\\textbackslash beta\\_t\\$ & \\$\\textbackslash ln(\\textbackslash sigma\\_t)\\$ \\\\\n",
      "\\midrule\n",
      "min  &                 0.154 &     0.204 &           0.215 &                        0.133 &     0.216 &           0.195 &                  0.197 &     0.213 &           0.214 \\\\\n",
      "max  &                 3.680 &     3.598 &           3.871 &                        5.863 &     4.384 &           4.400 &                  3.410 &     4.044 &           3.198 \\\\\n",
      "mean &                 1.203 &     1.224 &           1.223 &                        1.428 &     1.421 &           1.468 &                  1.148 &     1.176 &           1.159 \\\\\n",
      "std  &                 0.716 &     0.681 &           0.697 &                        0.898 &     0.813 &           0.888 &                  0.632 &     0.600 &           0.611 \\\\\n",
      "\\bottomrule\n",
      "\\end{tabular}\n",
      "\n"
     ]
    }
   ],
   "source": [
    "print(grad_df.describe().loc[['min', 'max', 'mean', 'std']].to_latex(float_format=\"%.3f\"))"
   ]
  },
  {
   "cell_type": "code",
   "execution_count": 43,
   "metadata": {},
   "outputs": [
    {
     "data": {
      "text/html": [
       "<div>\n",
       "<style scoped>\n",
       "    .dataframe tbody tr th:only-of-type {\n",
       "        vertical-align: middle;\n",
       "    }\n",
       "\n",
       "    .dataframe tbody tr th {\n",
       "        vertical-align: top;\n",
       "    }\n",
       "\n",
       "    .dataframe thead tr th {\n",
       "        text-align: left;\n",
       "    }\n",
       "</style>\n",
       "<table border=\"1\" class=\"dataframe\">\n",
       "  <thead>\n",
       "    <tr>\n",
       "      <th></th>\n",
       "      <th colspan=\"3\" halign=\"left\">Regularized Transform</th>\n",
       "      <th colspan=\"3\" halign=\"left\">Variance Corrected Transform</th>\n",
       "      <th colspan=\"3\" halign=\"left\">Multinomial Resampling</th>\n",
       "    </tr>\n",
       "    <tr>\n",
       "      <th></th>\n",
       "      <th>$\\mu_t$</th>\n",
       "      <th>$\\beta_t$</th>\n",
       "      <th>$\\ln(\\sigma_t)$</th>\n",
       "      <th>$\\mu_t$</th>\n",
       "      <th>$\\beta_t$</th>\n",
       "      <th>$\\ln(\\sigma_t)$</th>\n",
       "      <th>$\\mu_t$</th>\n",
       "      <th>$\\beta_t$</th>\n",
       "      <th>$\\ln(\\sigma_t)$</th>\n",
       "    </tr>\n",
       "  </thead>\n",
       "  <tbody>\n",
       "    <tr>\n",
       "      <th>count</th>\n",
       "      <td>250.000000</td>\n",
       "      <td>250.000000</td>\n",
       "      <td>250.000000</td>\n",
       "      <td>250.000000</td>\n",
       "      <td>250.000000</td>\n",
       "      <td>250.000000</td>\n",
       "      <td>250.000000</td>\n",
       "      <td>250.000000</td>\n",
       "      <td>250.000000</td>\n",
       "    </tr>\n",
       "    <tr>\n",
       "      <th>mean</th>\n",
       "      <td>1.202622</td>\n",
       "      <td>1.223648</td>\n",
       "      <td>1.222837</td>\n",
       "      <td>1.427755</td>\n",
       "      <td>1.420712</td>\n",
       "      <td>1.468323</td>\n",
       "      <td>1.148318</td>\n",
       "      <td>1.175841</td>\n",
       "      <td>1.159418</td>\n",
       "    </tr>\n",
       "    <tr>\n",
       "      <th>std</th>\n",
       "      <td>0.716400</td>\n",
       "      <td>0.681374</td>\n",
       "      <td>0.697127</td>\n",
       "      <td>0.897897</td>\n",
       "      <td>0.812773</td>\n",
       "      <td>0.887575</td>\n",
       "      <td>0.632499</td>\n",
       "      <td>0.600259</td>\n",
       "      <td>0.611052</td>\n",
       "    </tr>\n",
       "    <tr>\n",
       "      <th>min</th>\n",
       "      <td>0.153740</td>\n",
       "      <td>0.204259</td>\n",
       "      <td>0.215341</td>\n",
       "      <td>0.132785</td>\n",
       "      <td>0.215883</td>\n",
       "      <td>0.195093</td>\n",
       "      <td>0.196792</td>\n",
       "      <td>0.212911</td>\n",
       "      <td>0.214384</td>\n",
       "    </tr>\n",
       "    <tr>\n",
       "      <th>25%</th>\n",
       "      <td>0.633308</td>\n",
       "      <td>0.672741</td>\n",
       "      <td>0.685314</td>\n",
       "      <td>0.771329</td>\n",
       "      <td>0.807320</td>\n",
       "      <td>0.751389</td>\n",
       "      <td>0.669414</td>\n",
       "      <td>0.689685</td>\n",
       "      <td>0.652510</td>\n",
       "    </tr>\n",
       "    <tr>\n",
       "      <th>50%</th>\n",
       "      <td>0.941861</td>\n",
       "      <td>1.026479</td>\n",
       "      <td>0.973398</td>\n",
       "      <td>1.117833</td>\n",
       "      <td>1.172770</td>\n",
       "      <td>1.193490</td>\n",
       "      <td>0.917235</td>\n",
       "      <td>1.066417</td>\n",
       "      <td>0.984154</td>\n",
       "    </tr>\n",
       "    <tr>\n",
       "      <th>75%</th>\n",
       "      <td>1.739639</td>\n",
       "      <td>1.836486</td>\n",
       "      <td>1.762179</td>\n",
       "      <td>2.047526</td>\n",
       "      <td>2.023185</td>\n",
       "      <td>2.141017</td>\n",
       "      <td>1.652343</td>\n",
       "      <td>1.660383</td>\n",
       "      <td>1.654074</td>\n",
       "    </tr>\n",
       "    <tr>\n",
       "      <th>max</th>\n",
       "      <td>3.680414</td>\n",
       "      <td>3.598180</td>\n",
       "      <td>3.871458</td>\n",
       "      <td>5.863318</td>\n",
       "      <td>4.383926</td>\n",
       "      <td>4.399949</td>\n",
       "      <td>3.409708</td>\n",
       "      <td>4.043715</td>\n",
       "      <td>3.198294</td>\n",
       "    </tr>\n",
       "  </tbody>\n",
       "</table>\n",
       "</div>"
      ],
      "text/plain": [
       "      Regularized Transform                              \\\n",
       "                    $\\mu_t$   $\\beta_t$ $\\ln(\\sigma_t)$   \n",
       "count            250.000000  250.000000      250.000000   \n",
       "mean               1.202622    1.223648        1.222837   \n",
       "std                0.716400    0.681374        0.697127   \n",
       "min                0.153740    0.204259        0.215341   \n",
       "25%                0.633308    0.672741        0.685314   \n",
       "50%                0.941861    1.026479        0.973398   \n",
       "75%                1.739639    1.836486        1.762179   \n",
       "max                3.680414    3.598180        3.871458   \n",
       "\n",
       "      Variance Corrected Transform                              \\\n",
       "                           $\\mu_t$   $\\beta_t$ $\\ln(\\sigma_t)$   \n",
       "count                   250.000000  250.000000      250.000000   \n",
       "mean                      1.427755    1.420712        1.468323   \n",
       "std                       0.897897    0.812773        0.887575   \n",
       "min                       0.132785    0.215883        0.195093   \n",
       "25%                       0.771329    0.807320        0.751389   \n",
       "50%                       1.117833    1.172770        1.193490   \n",
       "75%                       2.047526    2.023185        2.141017   \n",
       "max                       5.863318    4.383926        4.399949   \n",
       "\n",
       "      Multinomial Resampling                              \n",
       "                     $\\mu_t$   $\\beta_t$ $\\ln(\\sigma_t)$  \n",
       "count             250.000000  250.000000      250.000000  \n",
       "mean                1.148318    1.175841        1.159418  \n",
       "std                 0.632499    0.600259        0.611052  \n",
       "min                 0.196792    0.212911        0.214384  \n",
       "25%                 0.669414    0.689685        0.652510  \n",
       "50%                 0.917235    1.066417        0.984154  \n",
       "75%                 1.652343    1.660383        1.654074  \n",
       "max                 3.409708    4.043715        3.198294  "
      ]
     },
     "execution_count": 43,
     "metadata": {},
     "output_type": "execute_result"
    }
   ],
   "source": [
    "grad_df.describe()"
   ]
  },
  {
   "cell_type": "code",
   "execution_count": null,
   "metadata": {},
   "outputs": [],
   "source": []
  }
 ],
 "metadata": {
  "kernelspec": {
   "display_name": "Python 3",
   "language": "python",
   "name": "python3"
  },
  "language_info": {
   "codemirror_mode": {
    "name": "ipython",
    "version": 3
   },
   "file_extension": ".py",
   "mimetype": "text/x-python",
   "name": "python",
   "nbconvert_exporter": "python",
   "pygments_lexer": "ipython3",
   "version": "3.7.3"
  }
 },
 "nbformat": 4,
 "nbformat_minor": 4
}
