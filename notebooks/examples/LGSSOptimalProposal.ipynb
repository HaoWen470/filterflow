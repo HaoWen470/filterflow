{
 "cells": [
  {
   "cell_type": "markdown",
   "metadata": {},
   "source": [
    "# Learn the globally optimal proposal for a linear gaussian state space model"
   ]
  },
  {
   "cell_type": "markdown",
   "metadata": {},
   "source": [
    "We reproduce the experiment in Naesseth and al. Variational SMC"
   ]
  },
  {
   "cell_type": "code",
   "execution_count": 21,
   "metadata": {},
   "outputs": [],
   "source": [
    "import os, sys\n",
    "# add to path\n",
    "sys.path.append(\"../..\")\n",
    "\n",
    "import attr\n",
    "import datetime\n",
    "\n",
    "import matplotlib.pyplot as plt\n",
    "import numpy as np\n",
    "from PIL import Image\n",
    "import pykalman\n",
    "import seaborn\n",
    "\n",
    "import tensorflow as tf\n",
    "import tensorflow_addons as tfa\n",
    "import tensorflow_probability as tfp\n",
    "tfd = tfp.distributions\n",
    "ed = tfp.edward2\n",
    "\n",
    "seaborn.set()\n"
   ]
  },
  {
   "cell_type": "code",
   "execution_count": 22,
   "metadata": {},
   "outputs": [],
   "source": [
    "tf.config.set_visible_devices([], 'GPU') "
   ]
  },
  {
   "cell_type": "code",
   "execution_count": 23,
   "metadata": {},
   "outputs": [],
   "source": [
    "from filterflow.smc import SMC\n",
    "from filterflow.base import State, StateSeries, DTYPE_TO_OBSERVATION_SERIES\n",
    "\n",
    "from filterflow.observation.linear import LinearObservationModel\n",
    "\n",
    "from filterflow.transition.random_walk import RandomWalkModel\n",
    "from filterflow.proposal import BootstrapProposalModel\n",
    "from filterflow.proposal.base import ProposalModelBase\n",
    "\n",
    "from filterflow.resampling.criterion import NeffCriterion, AlwaysResample, NeverResample\n",
    "from filterflow.resampling.standard import SystematicResampler, MultinomialResampler\n",
    "from filterflow.resampling.differentiable import RegularisedTransform, CorrectedRegularizedTransform\n",
    "from filterflow.resampling.differentiable.ricatti.solver import PetkovSolver, NaiveSolver\n",
    "\n",
    "from filterflow.resampling.base import NoResampling\n",
    "\n",
    "from filterflow.state_space_model import StateSpaceModel"
   ]
  },
  {
   "cell_type": "markdown",
   "metadata": {},
   "source": [
    "### Set up the model"
   ]
  },
  {
   "cell_type": "code",
   "execution_count": 24,
   "metadata": {},
   "outputs": [
    {
     "data": {
      "text/plain": [
       "-383.28591316387576"
      ]
     },
     "execution_count": 24,
     "metadata": {},
     "output_type": "execute_result"
    }
   ],
   "source": [
    "tf.random.set_seed(0)\n",
    "rndstate = np.random.RandomState(0)\n",
    "\n",
    "T = 25\n",
    "\n",
    "d_x = 10\n",
    "d_y = 10\n",
    "\n",
    "alpha = 0.42\n",
    "gamma = 0.1\n",
    "\n",
    "B = 1\n",
    "N = 4\n",
    "\n",
    "transition_matrix = np.array([[alpha**(abs(i-j) + 1) for j in range(d_x)] for i in range(d_x)], dtype=np.float32)\n",
    "transition_covariance = np.eye(d_x, dtype=np.float32)\n",
    "\n",
    "\n",
    "observation_covariance = gamma * np.eye(d_y, dtype=np.float32)\n",
    "observation_matrix = np.zeros([d_y, d_x], dtype=np.float32)\n",
    "observation_matrix[:d_y, :d_y] = np.eye(d_y, dtype=np.float32)\n",
    "# observation_matrix = np.ones([d_y, d_x], dtype=np.float32)\n",
    "# observation_matrix = np.random.normal(0., 1., [d_y, d_x]).astype(np.float32)\n",
    "\n",
    "\n",
    "initial_state_mean = np.zeros(d_x, dtype=np.float32)\n",
    "initial_state_covariance = np.eye(d_x, dtype=np.float32)\n",
    "\n",
    "kf = pykalman.KalmanFilter(transition_matrix, observation_matrix, transition_covariance, observation_covariance, initial_state_mean=initial_state_mean, initial_state_covariance=initial_state_covariance)\n",
    "observations = kf.sample(T, random_state=rndstate)[1].data.astype(np.float32)\n",
    "\n",
    "true_log_likelihood = kf.loglikelihood(observations)\n",
    "true_log_likelihood"
   ]
  },
  {
   "cell_type": "code",
   "execution_count": 25,
   "metadata": {},
   "outputs": [],
   "source": [
    "observations_dataset = tf.data.Dataset.from_tensor_slices(observations)"
   ]
  },
  {
   "cell_type": "markdown",
   "metadata": {},
   "source": [
    "### Set up the filterflow filter"
   ]
  },
  {
   "cell_type": "code",
   "execution_count": 26,
   "metadata": {},
   "outputs": [],
   "source": [
    "transition_noise = tfd.MultivariateNormalDiag(tf.zeros(d_x, dtype=tf.float32), tf.linalg.diag_part(transition_covariance) ** 0.5) # mind it MultivariateNormalDiag does diag * diag...\n",
    "transition_model = RandomWalkModel(tf.convert_to_tensor(transition_matrix), transition_noise)"
   ]
  },
  {
   "cell_type": "code",
   "execution_count": 27,
   "metadata": {},
   "outputs": [],
   "source": [
    "observation_error = tfd.MultivariateNormalDiag(tf.zeros(d_y, dtype=tf.float32), tf.linalg.diag_part(observation_covariance) ** 0.5) # mind it MultivariateNormalDiag does diag * diag...\n",
    "observation_model = LinearObservationModel(tf.convert_to_tensor(observation_matrix), observation_error)"
   ]
  },
  {
   "cell_type": "code",
   "execution_count": 28,
   "metadata": {},
   "outputs": [],
   "source": [
    "class LearnableProposalModel(ProposalModelBase):\n",
    "    def __init__(self, transition_matrix, name='LearnableProposalModel'):\n",
    "        super(LearnableProposalModel, self).__init__(name=name)\n",
    "        self._transition_matrix = transition_matrix\n",
    "        self._standard_noise = tfd.MultivariateNormalDiag(tf.zeros(transition_matrix.shape[0]), tf.ones(transition_matrix.shape[0]))\n",
    "    \n",
    "    def propose(self, state: State, inputs, _observation: tf.Tensor):\n",
    "        \"\"\"See base class\"\"\"\n",
    "        mu_t, beta_t, sigma_t = inputs\n",
    "        \n",
    "        transition_matrix = tf.linalg.matmul(tf.linalg.diag(beta_t), self._transition_matrix)\n",
    "        \n",
    "        pushed_particles = tf.reshape(mu_t, [1, 1, -1]) + tf.linalg.matvec(transition_matrix, state.particles)\n",
    "        \n",
    "        scale = tfp.bijectors.ScaleMatvecDiag(sigma_t)\n",
    "        scaled_rv = tfd.TransformedDistribution(self._standard_noise, bijector=scale)        \n",
    "        proposed_particles = pushed_particles + scaled_rv.sample([state.batch_size, state.n_particles])\n",
    "        return attr.evolve(state, particles=proposed_particles)\n",
    "\n",
    "    def loglikelihood(self, proposed_state: State, state: State, inputs: tf.Tensor, observation: tf.Tensor):\n",
    "        \"\"\"Interface method for particle proposal\n",
    "        :param proposed_state: State\n",
    "            proposed state\n",
    "        :param state: State\n",
    "            previous particle filter state\n",
    "        :param inputs: tf.Tensor\n",
    "            Control variables (time elapsed, some environment variables, etc)\n",
    "        :param observation: tf.Tensor\n",
    "            Look ahead observation for adapted particle proposal\n",
    "        :return: proposed State\n",
    "        :rtype: tf.Tensor\n",
    "        \"\"\"            \n",
    "        mu_t, beta_t, sigma_t = inputs\n",
    "        transition_matrix = tf.linalg.matmul(tf.linalg.diag(beta_t), self._transition_matrix)\n",
    "        pushed_particles = tf.reshape(mu_t, [1, 1, -1]) + tf.linalg.matvec(transition_matrix, state.particles)\n",
    "        \n",
    "        scale = tfp.bijectors.ScaleMatvecDiag(sigma_t)\n",
    "        scaled_rv = tfd.TransformedDistribution(self._standard_noise, bijector=scale)\n",
    "        \n",
    "        diff = (pushed_particles - proposed_state.particles)\n",
    "        return scaled_rv.log_prob(diff)"
   ]
  },
  {
   "cell_type": "code",
   "execution_count": 29,
   "metadata": {},
   "outputs": [],
   "source": [
    "proposal_model = LearnableProposalModel(transition_matrix)\n",
    "bootstrap_proposal = BootstrapProposalModel(transition_model)"
   ]
  },
  {
   "cell_type": "code",
   "execution_count": 30,
   "metadata": {},
   "outputs": [],
   "source": [
    "resampling_criterion = NeffCriterion(tf.constant(0.5), tf.constant(True))\n",
    "resampling_method = MultinomialResampler()\n",
    "\n",
    "epsilon = tf.constant(0.25)\n",
    "scaling = tf.constant(0.33)\n",
    "\n",
    "regularized = RegularisedTransform(epsilon, scaling=scaling, max_iter=1000, convergence_threshold=1e-1)\n",
    "\n",
    "solver = PetkovSolver(tf.constant(30))\n",
    "corrected = CorrectedRegularizedTransform(epsilon, scaling=scaling, max_iter=1000, convergence_threshold=1e-4, ricatti_solver=solver, propagate_correction_gradient=False)\n",
    "\n",
    "    \n",
    "systematic_smc = SMC(observation_model, transition_model, proposal_model, resampling_criterion, resampling_method)\n",
    "regularized_smc = SMC(observation_model, transition_model, proposal_model, resampling_criterion, regularized)\n",
    "corrected_smc = SMC(observation_model, transition_model, proposal_model, resampling_criterion, corrected)\n",
    "bootstrap_smc = SMC(observation_model, transition_model, bootstrap_proposal, resampling_criterion, resampling_method)"
   ]
  },
  {
   "cell_type": "code",
   "execution_count": 31,
   "metadata": {},
   "outputs": [],
   "source": [
    "initial_particles = tfd.MultivariateNormalDiag(initial_state_mean, tf.linalg.diag_part(initial_state_covariance)**0.5).sample([B, N])\n",
    "uniform_weights = tf.ones([B, N])\n",
    "uniform_weights = uniform_weights / tf.reduce_sum(uniform_weights, 1, keepdims=True)\n",
    "\n",
    "uniform_log_weights = tf.math.log(uniform_weights)\n",
    "log_likelihoods = tf.zeros([B])\n",
    "init_state = State(initial_particles, uniform_log_weights, uniform_weights, log_likelihoods, None, None)"
   ]
  },
  {
   "cell_type": "code",
   "execution_count": 32,
   "metadata": {},
   "outputs": [],
   "source": [
    "LARGE_N = 1000\n",
    "large_initial_particles = tfd.MultivariateNormalDiag(initial_state_mean, tf.linalg.diag_part(initial_state_covariance)**0.5).sample([B, LARGE_N])\n",
    "large_uniform_weights = tf.ones([B, LARGE_N])\n",
    "large_uniform_weights = large_uniform_weights / tf.reduce_sum(large_uniform_weights, 1, keepdims=True)\n",
    "\n",
    "large_uniform_log_weights = tf.math.log(large_uniform_weights)\n",
    "large_init_state = State(large_initial_particles, large_uniform_log_weights, large_uniform_weights, log_likelihoods, None, None)"
   ]
  },
  {
   "cell_type": "markdown",
   "metadata": {},
   "source": [
    "### Create the learnable variables that will be used as inputs to the proposal"
   ]
  },
  {
   "cell_type": "code",
   "execution_count": 33,
   "metadata": {},
   "outputs": [],
   "source": [
    "scale = 0.5\n",
    "\n",
    "mu_ts_init = scale * tf.random.normal([T, d_x])\n",
    "beta_ts_init = 1. + scale * tf.random.normal([T, d_x])\n",
    "log_sigma_ts_init = scale * tf.random.normal([T, d_x])\n",
    "\n",
    "mu_ts_init = tf.zeros([T, d_x])\n",
    "beta_ts_init = tf.ones([T, d_x])\n",
    "log_sigma_ts_init = tf.zeros([T, d_x])\n",
    "\n",
    "\n",
    "mu_ts = tf.Variable(mu_ts_init, trainable=True)\n",
    "beta_ts = tf.Variable(beta_ts_init, trainable=True)\n",
    "log_sigma_ts = tf.Variable(log_sigma_ts_init, trainable=True)\n",
    "\n",
    "# beta_ts = []\n",
    "# sigma_ts = []\n",
    "# for t in range(T):\n",
    "#     mu_ts.append(tf.Variable(0., trainable=True))\n",
    "#     beta_ts.append(tf.Variable(1., trainable=True))\n",
    "#     sigma_ts.append(tf.Variable(gamma, trainable=True))\n",
    "    \n"
   ]
  },
  {
   "cell_type": "code",
   "execution_count": 34,
   "metadata": {},
   "outputs": [],
   "source": [
    "trainable_variables = [mu_ts, beta_ts, log_sigma_ts]"
   ]
  },
  {
   "cell_type": "code",
   "execution_count": 35,
   "metadata": {},
   "outputs": [],
   "source": [
    "@tf.function\n",
    "def smc_routine(smc, state, use_correction_term=False):\n",
    "    iterator = iter(observations_dataset)\n",
    "    for t in tf.range(T):\n",
    "        mu_t = mu_ts[t]\n",
    "        beta_t = beta_ts[t]\n",
    "        sigma_t = tf.math.exp(log_sigma_ts[t])\n",
    "        obs = iterator.get_next()\n",
    "        state = smc.update(state, obs, [mu_t, beta_t, sigma_t])\n",
    "        t = t + 1\n",
    "    res = tf.reduce_mean(state.log_likelihoods)\n",
    "    if use_correction_term:\n",
    "        return res, tf.reduce_mean(state.resampling_correction)\n",
    "    return res, tf.constant(0.)\n",
    "    "
   ]
  },
  {
   "cell_type": "code",
   "execution_count": 36,
   "metadata": {},
   "outputs": [],
   "source": [
    "test_bootstrap = [smc_routine(bootstrap_smc, init_state)[0].numpy().sum() for _ in range(100)]"
   ]
  },
  {
   "cell_type": "code",
   "execution_count": 37,
   "metadata": {},
   "outputs": [
    {
     "data": {
      "text/plain": [
       "-2346.311"
      ]
     },
     "execution_count": 37,
     "metadata": {},
     "output_type": "execute_result"
    }
   ],
   "source": [
    "np.mean(test_bootstrap)"
   ]
  },
  {
   "cell_type": "code",
   "execution_count": 38,
   "metadata": {},
   "outputs": [],
   "source": [
    "test_proposal = [smc_routine(systematic_smc, init_state)[0].numpy().sum() for _ in range(100)]"
   ]
  },
  {
   "cell_type": "code",
   "execution_count": 39,
   "metadata": {},
   "outputs": [
    {
     "data": {
      "text/plain": [
       "-2279.485"
      ]
     },
     "execution_count": 39,
     "metadata": {},
     "output_type": "execute_result"
    }
   ],
   "source": [
    "np.mean(test_proposal)"
   ]
  },
  {
   "cell_type": "code",
   "execution_count": 40,
   "metadata": {},
   "outputs": [],
   "source": [
    "optimizer = tf.optimizers.Adam(learning_rate=1e-2, epsilon=1e-8)"
   ]
  },
  {
   "cell_type": "code",
   "execution_count": 41,
   "metadata": {},
   "outputs": [],
   "source": [
    "@tf.function\n",
    "def train_one_step(smc, use_correction_term):\n",
    "    with tf.GradientTape() as tape:\n",
    "        tape.watch(trainable_variables)\n",
    "        real_ll, correction = smc_routine(smc, init_state, use_correction_term)\n",
    "        loss = -(real_ll + correction)\n",
    "    grads_loss = tape.gradient(loss, trainable_variables)\n",
    "    optimizer.apply_gradients(zip(grads_loss, trainable_variables))\n",
    "    return real_ll, grads_loss\n",
    "\n",
    "@tf.function\n",
    "def train_niter(smc, num_steps=100, use_correction_term=False, reset=True):\n",
    "    if reset:\n",
    "        reset_operations = [mu_ts.assign(mu_ts_init), beta_ts.assign(beta_ts_init), log_sigma_ts.assign(log_sigma_ts_init)]\n",
    "    else:\n",
    "        reset_operations = []\n",
    "    loss_tensor_array = tf.TensorArray(dtype=tf.float32, size=num_steps, dynamic_size=False, element_shape=[])\n",
    "    grad_tensor_array = tf.TensorArray(dtype=tf.float32, size=num_steps, dynamic_size=False, element_shape=[])\n",
    "    time_tensor_array = tf.TensorArray(dtype=tf.float64, size=num_steps, dynamic_size=False, element_shape=[])\n",
    "    with tf.control_dependencies(reset_operations):\n",
    "        tic = tf.timestamp()\n",
    "        for step in tf.range(1, num_steps+1):\n",
    "            real_ll, grads = train_one_step(smc, use_correction_term)\n",
    "            toc = tf.timestamp()\n",
    "            max_grad = tf.reduce_max(tf.abs(grads))\n",
    "            if step % (num_steps // 100) == 0:\n",
    "                tf.print('Step', step, '/', num_steps, ': ms per step= ', 1000. * (toc - tic) / tf.cast(step, tf.float64), ': total time (s)= ', (toc - tic), ', log_likelihood = ', real_ll, ', max abs grads = ', max_grad, end='\\r')\n",
    "            loss_tensor_array = loss_tensor_array.write(step-1, real_ll)\n",
    "            grad_tensor_array = grad_tensor_array.write(step-1, max_grad)\n",
    "            time_tensor_array = time_tensor_array.write(step-1, toc-tic)\n",
    "    return loss_tensor_array.stack(), grad_tensor_array.stack(), time_tensor_array.stack()\n",
    "\n",
    "@tf.function\n",
    "def train_total_time(smc, total_time, use_correction_term=False, reset=True):\n",
    "    if reset:\n",
    "        reset_operations = [mu_ts.assign(mu_ts_init), beta_ts.assign(beta_ts_init), sigma_ts.assign(sigma_ts_init)]\n",
    "    else:\n",
    "        reset_operations = []\n",
    "    loss_tensor_array = tf.TensorArray(dtype=tf.float32, size=None, dynamic_size=True, element_shape=[])\n",
    "    grad_tensor_array = tf.TensorArray(dtype=tf.float32, size=None, dynamic_size=True, element_shape=[])\n",
    "    time_tensor_array = tf.TensorArray(dtype=tf.float64, size=None, dynamic_size=True, element_shape=[])\n",
    "    with tf.control_dependencies(reset_operations):\n",
    "        tic = tf.timestamp()\n",
    "        toc = tic\n",
    "        step = tf.constant(1)\n",
    "        while toc - tic < total_time:\n",
    "            real_ll, grads = train_one_step(smc, use_correction_term)\n",
    "            toc = tf.timestamp()\n",
    "            max_grad = tf.reduce_max(tf.abs(grads))\n",
    "            step = step + 1\n",
    "            loss_tensor_array = loss_tensor_array.write(step-1, real_ll)\n",
    "            grad_tensor_array = grad_tensor_array.write(step-1, max_grad)\n",
    "            time_tensor_array = time_tensor_array.write(step-1, toc-tic)\n",
    "    return loss_tensor_array.stack(), grad_tensor_array.stack(), time_tensor_array.stack()"
   ]
  },
  {
   "cell_type": "code",
   "execution_count": 42,
   "metadata": {},
   "outputs": [
    {
     "name": "stdout",
     "output_type": "stream",
     "text": [
      "[0 0 0 ... 0 0 0]\n",
      "[1 1 1 ... 1 1 1]\n",
      "[0 0 0 ... 0 0 0]\n"
     ]
    }
   ],
   "source": [
    "tf.print(tf.reduce_mean(log_sigma_ts, 0))\n",
    "tf.print(tf.reduce_mean(beta_ts, 0))\n",
    "tf.print(tf.reduce_mean(mu_ts, 0))"
   ]
  },
  {
   "cell_type": "code",
   "execution_count": 43,
   "metadata": {},
   "outputs": [
    {
     "data": {
      "text/plain": [
       "-383.28591316387576"
      ]
     },
     "execution_count": 43,
     "metadata": {},
     "output_type": "execute_result"
    }
   ],
   "source": [
    "true_log_likelihood"
   ]
  },
  {
   "cell_type": "code",
   "execution_count": 44,
   "metadata": {},
   "outputs": [],
   "source": [
    "n_iter = 1000"
   ]
  },
  {
   "cell_type": "code",
   "execution_count": 45,
   "metadata": {},
   "outputs": [
    {
     "name": "stdout",
     "output_type": "stream",
     "text": [
      "Step 1000 / 1000 : ms per step=  30.655041933059692 : total time (s)=  30.655041933059692 , log_likelihood =  -420.890686 , max abs grads =  19.1188145\r"
     ]
    }
   ],
   "source": [
    "sys_ll, _, sys_time = train_niter(systematic_smc, tf.constant(n_iter))"
   ]
  },
  {
   "cell_type": "code",
   "execution_count": 47,
   "metadata": {},
   "outputs": [
    {
     "name": "stdout",
     "output_type": "stream",
     "text": [
      "[-1.08926463 -1.02678156 -0.989101231 ... -0.996112466 -1.05066299 -1.13104725]\n",
      "[0.732885599 0.715748072 0.741765738 ... 0.673267186 0.609014034 0.580585301]\n",
      "[-0.485406369 -0.20990169 -0.167471468 ... -0.0172053147 0.00615707645 0.306529403]\n"
     ]
    }
   ],
   "source": [
    "tf.print(tf.reduce_mean(log_sigma_ts, 0))\n",
    "tf.print(tf.reduce_mean(beta_ts, 0))\n",
    "tf.print(tf.reduce_mean(mu_ts, 0))"
   ]
  },
  {
   "cell_type": "code",
   "execution_count": 48,
   "metadata": {},
   "outputs": [
    {
     "name": "stdout",
     "output_type": "stream",
     "text": [
      "Step 1000 / 1000 : ms per step=  57.691120862960815 : total time (s)=  57.691120862960815 , log_likelihood =  -401.125122 , max abs grads =  18.0538254\r"
     ]
    }
   ],
   "source": [
    "reg_ll, _, reg_time = train_niter(regularized_smc, tf.constant(n_iter))"
   ]
  },
  {
   "cell_type": "code",
   "execution_count": 49,
   "metadata": {},
   "outputs": [
    {
     "name": "stdout",
     "output_type": "stream",
     "text": [
      "[-1.14822578 -1.11412036 -1.090832 ... -1.09202778 -1.12903988 -1.16716874]\n",
      "[0.677423477 0.607679605 0.66597116 ... 0.617737412 0.529727757 0.528382719]\n",
      "[-0.516393483 -0.251802266 -0.189569339 ... -0.0337723941 -0.0042978595 0.332090408]\n"
     ]
    }
   ],
   "source": [
    "tf.print(tf.reduce_mean(log_sigma_ts, 0))\n",
    "tf.print(tf.reduce_mean(beta_ts, 0))\n",
    "tf.print(tf.reduce_mean(mu_ts, 0))"
   ]
  },
  {
   "cell_type": "code",
   "execution_count": 51,
   "metadata": {},
   "outputs": [
    {
     "data": {
      "text/plain": [
       "<matplotlib.collections.LineCollection at 0x1b1ddef25f8>"
      ]
     },
     "execution_count": 51,
     "metadata": {},
     "output_type": "execute_result"
    },
    {
     "data": {
      "image/png": "[encoded data removed]",
      "text/plain": [
       "<Figure size 720x720 with 2 Axes>"
      ]
     },
     "metadata": {},
     "output_type": "display_data"
    }
   ],
   "source": [
    "fig, axes = plt.subplots(2, figsize=(10, 10))\n",
    "axes[0].plot(sys_ll.numpy())\n",
    "axes[0].plot(reg_ll.numpy())\n",
    "axes[0].hlines(true_log_likelihood, 0, n_iter)\n",
    "\n",
    "axes[1].plot(sys_time.numpy(), sys_ll.numpy())\n",
    "axes[1].plot(reg_time.numpy(), reg_ll.numpy())\n",
    "axes[1].hlines(true_log_likelihood, 0, reg_time.numpy()[-1])"
   ]
  },
  {
   "cell_type": "code",
   "execution_count": null,
   "metadata": {},
   "outputs": [],
   "source": [
    "tf.reduce_mean(beta_ts, 0)"
   ]
  },
  {
   "cell_type": "code",
   "execution_count": null,
   "metadata": {},
   "outputs": [],
   "source": [
    "tf.reduce_mean(sigma_ts, 0)"
   ]
  },
  {
   "cell_type": "code",
   "execution_count": null,
   "metadata": {},
   "outputs": [],
   "source": [
    "tf.reduce_mean(mu_ts, 0)"
   ]
  },
  {
   "cell_type": "code",
   "execution_count": null,
   "metadata": {},
   "outputs": [],
   "source": [
    "bootstrap_smc(init_state, observations_dataset, T)"
   ]
  }
 ],
 "metadata": {
  "kernelspec": {
   "display_name": "Python 3",
   "language": "python",
   "name": "python3"
  },
  "language_info": {
   "codemirror_mode": {
    "name": "ipython",
    "version": 3
   },
   "file_extension": ".py",
   "mimetype": "text/x-python",
   "name": "python",
   "nbconvert_exporter": "python",
   "pygments_lexer": "ipython3",
   "version": "3.7.3"
  }
 },
 "nbformat": 4,
 "nbformat_minor": 4
}
