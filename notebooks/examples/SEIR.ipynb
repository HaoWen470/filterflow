{
 "cells": [
  {
   "cell_type": "code",
   "execution_count": 1,
   "metadata": {},
   "outputs": [],
   "source": [
    "import os, sys\n",
    "# add to path\n",
    "sys.path.append(\"../..\")\n",
    "\n",
    "import attr\n",
    "import datetime\n",
    "\n",
    "import matplotlib.pyplot as plt\n",
    "import numpy as np\n",
    "import pandas as pd\n",
    "\n",
    "from PIL import Image\n",
    "import seaborn\n",
    "\n",
    "import tensorflow as tf\n",
    "import tensorflow_addons as tfa\n",
    "import tensorflow_probability as tfp\n",
    "\n",
    "tfb = tfp.bijectors\n",
    "tf.config.set_visible_devices([], 'GPU')\n"
   ]
  },
  {
   "cell_type": "code",
   "execution_count": null,
   "metadata": {},
   "outputs": [],
   "source": []
  },
  {
   "cell_type": "code",
   "execution_count": 2,
   "metadata": {},
   "outputs": [],
   "source": [
    "from filterflow.smc import SMC\n",
    "from filterflow.base import State, StateWithMemory, StateSeries\n",
    "\n",
    "from filterflow.observation.base import ObservationModelBase, ObservationSampler\n",
    "from filterflow.observation.linear import LinearObservationSampler\n",
    "from filterflow.transition.random_walk import RandomWalkModel\n",
    "from filterflow.proposal import BootstrapProposalModel\n",
    "from filterflow.transition.base import TransitionModelBase\n",
    "\n",
    "from filterflow.resampling.criterion import NeffCriterion, AlwaysResample, NeverResample\n",
    "from filterflow.resampling.standard import SystematicResampler, MultinomialResampler\n",
    "from filterflow.resampling.differentiable import RegularisedTransform, CorrectedRegularizedTransform\n",
    "from filterflow.resampling.differentiable.ricatti.solver import RicattiSolver\n",
    "\n",
    "from filterflow.resampling.base import NoResampling\n",
    "\n",
    "from filterflow.state_space_model import StateSpaceModel\n",
    "\n",
    "from filterflow.constants import MIN_ABSOLUTE_WEIGHT"
   ]
  },
  {
   "cell_type": "code",
   "execution_count": 3,
   "metadata": {},
   "outputs": [],
   "source": [
    "url = 'https://opendata.ecdc.europa.eu/covid19/casedistribution/csv'\n",
    "\n",
    "try:\n",
    "    df = pd.read_csv(url)\n",
    "except:\n",
    "    data_dir = \"../../data/covid\"\n",
    "    df = pd.read_csv(os.path.join(data_dir, 'covid.csv'))\n",
    "\n",
    "df.dateRep = pd.to_datetime(df.dateRep, dayfirst=True)\n",
    "df_clean = df.loc[(df.geoId.isin(['UK'])) & (df.deaths>0)].sort_values('dateRep')"
   ]
  },
  {
   "cell_type": "code",
   "execution_count": 4,
   "metadata": {},
   "outputs": [
    {
     "data": {
      "text/plain": [
       "<matplotlib.axes._subplots.AxesSubplot at 0x2501f9bea48>"
      ]
     },
     "execution_count": 4,
     "metadata": {},
     "output_type": "execute_result"
    },
    {
     "data": {
      "image/png": "[encoded data removed]",
      "text/plain": [
       "<Figure size 432x288 with 1 Axes>"
      ]
     },
     "metadata": {
      "needs_background": "light"
     },
     "output_type": "display_data"
    }
   ],
   "source": [
    "seaborn.lineplot(data=df_clean, x='dateRep', y='deaths', hue='geoId')"
   ]
  },
  {
   "cell_type": "markdown",
   "metadata": {},
   "source": [
    "Infections model (Latent state evolution):\n",
    "\\begin{align}\n",
    "    S_t &= S_{t-1}-\\beta S_{t-1}I_{t-1}/N \\\\\n",
    "    E_t &= (1-\\alpha)E_{t-1}+\\beta S_{t-1} I_{t-1}/N \\\\\n",
    "    I_t &= (1-\\gamma+\\epsilon_t) I_{t-1}+\\alpha E_{t-1}\\\\\n",
    "    R_t &= R_{t-1} + \\gamma I_{t-1}  ~\\mathbf{\\text{not needed}}\\\\\n",
    "    \\epsilon_t &\\sim \\mathcal{N}(0,1)\\\\\n",
    "\\end{align}\n",
    "\n",
    "Death Model (Observation Model):\n",
    "\\begin{align}\n",
    "d_t &= \\delta_t I_t \\\\\n",
    "    D_t - D_{t-1} &\\sim \\text{NegBinom}(d_t, d_t + \\frac{d_t^2}{\\Psi}) \\\\\n",
    "    \\Psi &\\sim \\mathcal{N}^+(0,5)\n",
    "\\end{align}"
   ]
  },
  {
   "cell_type": "code",
   "execution_count": 5,
   "metadata": {},
   "outputs": [],
   "source": [
    "def split_sei(x):\n",
    "    S, E, I = tf.split(x, 3, axis=-1)\n",
    "    return S,E,I\n",
    "\n",
    "def join_sei(S,E,I):\n",
    "    x = tf.concat([S,E, I], axis=-1)\n",
    "    return x\n",
    "\n",
    "    \n"
   ]
  },
  {
   "cell_type": "code",
   "execution_count": null,
   "metadata": {},
   "outputs": [],
   "source": []
  },
  {
   "cell_type": "code",
   "execution_count": 6,
   "metadata": {},
   "outputs": [],
   "source": [
    "alpha = 0.45\n",
    "beta = 0.45\n",
    "gamma = 0.15\n",
    "delta = 0.001\n",
    "log_sig = np.float32(np.log(0.1))\n",
    "population_size = 66488991.0"
   ]
  },
  {
   "cell_type": "code",
   "execution_count": 7,
   "metadata": {},
   "outputs": [],
   "source": [
    "class SEIRTransitionModel(TransitionModelBase):\n",
    "    def __init__(self, alpha, beta, gamma, log_sig, population_size, name='SEIRTransitionModel'):\n",
    "        super(SEIRTransitionModel, self).__init__(name=name)\n",
    "        \n",
    "        self.beta = beta\n",
    "        self.alpha = alpha\n",
    "        self.gamma = gamma\n",
    "        self.log_sig = log_sig\n",
    "        self.pop = population_size\n",
    "        self.normal_dist = tfp.distributions.Normal(loc=tf.constant(0.), scale=tf.exp(log_sig))\n",
    "        \n",
    "    def _loglikelihood(self, prior_state: State, proposed_state: State):\n",
    "        St_1, Et_1, It_1 = split_sei(prior_state.particles)\n",
    "        St, Et, It = split_sei(proposed_state.particles)\n",
    "        \n",
    "        eps = (It - (1.-self.gamma)*It_1 - self.alpha*Et_1) / It_1\n",
    "        log_prob = tf.reduce_sum(self.normal_dist.log_prob(eps), axis=-1)\n",
    "        return log_prob\n",
    "    \n",
    "    def loglikelihood(self, prior_state: State, proposed_state: State, inputs: tf.Tensor):\n",
    "        return self._loglikelihood(prior_state, proposed_state)\n",
    "\n",
    "    def sample(self, state: State, inputs: tf.Tensor):\n",
    "        St_1, Et_1, It_1 = split_sei(state.particles)\n",
    "        \n",
    "        eps = self.normal_dist.sample()\n",
    "        \n",
    "        St = St_1 - self.beta*St_1*It_1/self.pop\n",
    "        Et = (1-self.alpha) * Et_1 + self.beta*St_1*It_1/self.pop\n",
    "\n",
    "        It = (1-self.gamma+eps)*It_1 + self.alpha*Et_1\n",
    "        \n",
    "        x = join_sei(St, Et, It)\n",
    "        \n",
    "        return State(particles=x, \n",
    "                     log_weights = state.log_weights,\n",
    "                     weights=state.weights, \n",
    "                     log_likelihoods=state.log_likelihoods)"
   ]
  },
  {
   "cell_type": "code",
   "execution_count": 8,
   "metadata": {},
   "outputs": [],
   "source": [
    "class SEIRProposalModel(SEIRTransitionModel):\n",
    "    def __init__(self, alpha, beta, gamma, log_sig, population_size, name ='SEIRProposalModel'):\n",
    "        super(SEIRProposalModel, self).__init__(alpha, beta, gamma, log_sig, population_size, name=name)\n",
    "\n",
    "    def loglikelihood(self, proposed_state: State, state: State, inputs: tf.Tensor, observation: tf.Tensor):\n",
    "        return self._loglikelihood(state, proposed_state)\n",
    "    \n",
    "    def propose(self, state: State, inputs: tf.Tensor, observation: tf.Tensor):\n",
    "        return self.sample(state, None)"
   ]
  },
  {
   "cell_type": "code",
   "execution_count": 9,
   "metadata": {},
   "outputs": [],
   "source": [
    "class SEIRObservationModel(ObservationSampler):\n",
    "    \n",
    "    def __init__(self, delta, batch_shape=50, name='SEIRObservationModel'):\n",
    "        super(SEIRObservationModel, self).__init__(name=name)\n",
    "        self.half_norm_dist = tfp.distributions.HalfNormal(scale = tf.constant(5.))\n",
    "        self.delta = delta\n",
    "        self.batch_shape = batch_shape\n",
    "    \n",
    "    def get_dist(self, state: State):\n",
    "        S, E, I = split_sei(state.particles)\n",
    "        b = state.batch_size\n",
    "        dt = self.delta*I\n",
    "        pois_dist = tfp.distributions.Poisson(rate = dt)\n",
    "        #tf.print('Mean deaths', dt)\n",
    "        return pois_dist\n",
    "    \n",
    "    def loglikelihood(self, state: State, observation: tf.Tensor):\n",
    "    \n",
    "        pois_dist = self.get_dist(state)\n",
    "        prob = tf.reduce_sum(pois_dist.prob(observation), axis=-1)\n",
    "        \n",
    "        #tf.print('Obs',observation)\n",
    "        #tf.print('Prob',prob)\n",
    "        return prob\n",
    "\n",
    "    def sample(self, state: State):\n",
    "        pois_dist = self.get_dist(state)\n",
    "        d = pois_dist.sample()\n",
    "        return d"
   ]
  },
  {
   "cell_type": "code",
   "execution_count": 10,
   "metadata": {},
   "outputs": [],
   "source": [
    "batch_size = 2\n",
    "n_particles = 4\n",
    "dimension = 1\n"
   ]
  },
  {
   "cell_type": "code",
   "execution_count": null,
   "metadata": {},
   "outputs": [],
   "source": []
  },
  {
   "cell_type": "code",
   "execution_count": 11,
   "metadata": {},
   "outputs": [],
   "source": [
    "learnable_alpha = tf.Variable(alpha, trainable=True)\n",
    "learnable_beta = tf.Variable(beta, trainable=True)\n",
    "learnable_gamma = tf.Variable(gamma, trainable=True)\n",
    "learnable_delta = tf.Variable(gamma, trainable=True)\n",
    "\n",
    "transition_model = SEIRTransitionModel(learnable_alpha, learnable_beta, learnable_gamma, log_sig, population_size)\n",
    "proposal_model = SEIRProposalModel(learnable_alpha, learnable_beta, learnable_gamma, log_sig, population_size)\n",
    "observation_model = SEIRObservationModel(delta)"
   ]
  },
  {
   "cell_type": "code",
   "execution_count": 12,
   "metadata": {},
   "outputs": [],
   "source": [
    "trainable_variables = [learnable_alpha, learnable_beta, learnable_gamma]"
   ]
  },
  {
   "cell_type": "code",
   "execution_count": 13,
   "metadata": {},
   "outputs": [],
   "source": [
    "S0 = population_size-1.\n",
    "I0 = 1.\n",
    "E0 = 0.\n",
    "\n",
    "initial_sei = tf.constant([S0,E0,I0])\n",
    "initial_sei = tf.reshape(initial_sei, [1, 1, 3])\n",
    "initial_particles = tf.tile(initial_sei, [batch_size, n_particles, 1])"
   ]
  },
  {
   "cell_type": "code",
   "execution_count": 14,
   "metadata": {},
   "outputs": [],
   "source": [
    "\n",
    "initial_particles = tf.cast(initial_particles, dtype=float)\n",
    "\n",
    "initial_weights = tf.ones((batch_size, n_particles), dtype=float) / tf.cast(n_particles, float)\n",
    "log_likelihoods = tf.zeros(batch_size, dtype=float)\n",
    "initial_state = State(particles=initial_particles, \n",
    "                      log_weights = tf.math.log(initial_weights),\n",
    "                      weights=initial_weights, \n",
    "                      log_likelihoods=log_likelihoods)"
   ]
  },
  {
   "cell_type": "code",
   "execution_count": 15,
   "metadata": {},
   "outputs": [],
   "source": [
    "df = df_clean\n",
    "observations = df[df.geoId == 'UK']['deaths'].iloc[::-1].values.astype(np.float32)\n",
    "obs_data = tf.data.Dataset.from_tensor_slices(observations.reshape(-1, 1, 1, 1))"
   ]
  },
  {
   "cell_type": "code",
   "execution_count": 16,
   "metadata": {},
   "outputs": [],
   "source": [
    "T = observations.shape[0]"
   ]
  },
  {
   "cell_type": "code",
   "execution_count": 17,
   "metadata": {},
   "outputs": [],
   "source": [
    "obs = observation_model.sample(initial_state)"
   ]
  },
  {
   "cell_type": "code",
   "execution_count": 18,
   "metadata": {},
   "outputs": [
    {
     "data": {
      "text/plain": [
       "<tf.Tensor: shape=(2, 4), dtype=float32, numpy=\n",
       "array([[0.9990005, 0.9990005, 0.9990005, 0.9990005],\n",
       "       [0.9990005, 0.9990005, 0.9990005, 0.9990005]], dtype=float32)>"
      ]
     },
     "execution_count": 18,
     "metadata": {},
     "output_type": "execute_result"
    }
   ],
   "source": [
    "observation_model.loglikelihood(initial_state, obs)"
   ]
  },
  {
   "cell_type": "code",
   "execution_count": 19,
   "metadata": {},
   "outputs": [],
   "source": [
    "# resampling\n",
    "resampling_criterion = NeffCriterion(tf.constant(0.5), tf.constant(True))\n",
    "systematic = SystematicResampler()\n",
    "multinomial = MultinomialResampler()\n",
    "\n",
    "\n",
    "epsilon = tf.constant(0.5)\n",
    "scaling = tf.constant(0.75)\n",
    "\n",
    "regularized = RegularisedTransform(epsilon, scaling=scaling, max_iter=1000, convergence_threshold=1e-4)"
   ]
  },
  {
   "cell_type": "code",
   "execution_count": 20,
   "metadata": {},
   "outputs": [],
   "source": [
    "regularized_filter = SMC(observation_model, transition_model, proposal_model, resampling_criterion, regularized)\n",
    "particle_filter = SMC(observation_model, transition_model, proposal_model, resampling_criterion, multinomial)"
   ]
  },
  {
   "cell_type": "code",
   "execution_count": 21,
   "metadata": {},
   "outputs": [],
   "source": [
    "res = particle_filter(initial_state, obs_data, T, return_final=False).particles"
   ]
  },
  {
   "cell_type": "code",
   "execution_count": null,
   "metadata": {},
   "outputs": [],
   "source": []
  },
  {
   "cell_type": "code",
   "execution_count": 22,
   "metadata": {},
   "outputs": [],
   "source": [
    "# Create an optimizer.\n",
    "\n",
    "\n",
    "LR = tf.keras.optimizers.schedules.PiecewiseConstantDecay(\n",
    "    [50, 150], [0.025, 0.01, 0.005]\n",
    ")\n",
    "\n",
    "\n",
    "optimizer = tf.optimizers.Adam(learning_rate=LR, epsilon=1e-8)"
   ]
  },
  {
   "cell_type": "code",
   "execution_count": 23,
   "metadata": {},
   "outputs": [],
   "source": [
    "@tf.function\n",
    "def smc_routine(smc, state, use_correction_term=False):\n",
    "    final_state = smc(initial_state, \n",
    "                      observation_series=obs_data, \n",
    "                      n_observations=T, \n",
    "                      return_final=True)\n",
    "\n",
    "    res = tf.reduce_mean(final_state.log_likelihoods)\n",
    "    if use_correction_term:\n",
    "        return res, tf.reduce_mean(final_state.resampling_correction)\n",
    "    return res, tf.constant(0.)\n",
    "    \n",
    "\n",
    "@tf.function\n",
    "def run_one_step(smc, use_correction_term, init_state):\n",
    "    with tf.GradientTape() as tape:\n",
    "        tape.watch(trainable_variables)\n",
    "        real_ll, correction = smc_routine(smc, init_state, use_correction_term)\n",
    "        loss = -(real_ll + correction)\n",
    "    grads_loss = tape.gradient(loss, trainable_variables)\n",
    "    return real_ll, grads_loss\n",
    "\n",
    "\n",
    "@tf.function\n",
    "def train_one_step(smc, use_correction_term):\n",
    "    real_ll, grads_loss = run_one_step(smc, use_correction_term, initial_state)\n",
    "    clip = lambda x: tf.clip_by_value(x, -500., 500.)\n",
    "    grads_loss = [clip(grad) for grad in grads_loss]\n",
    "    optimizer.apply_gradients(zip(grads_loss, trainable_variables))\n",
    "    return -real_ll, grads_loss\n",
    "\n",
    "\n",
    "@tf.function\n",
    "def train_niter(smc, num_steps=100, use_correction_term=False, reset=True):\n",
    "    reset_trainable_variables = [learnable_alpha.assign(alpha), \n",
    "                                 learnable_beta.assign(beta), \n",
    "                                 learnable_gamma.assign(gamma)]\n",
    "    if reset:\n",
    "        reset_operations = reset_trainable_variables\n",
    "    else:\n",
    "        reset_operations = []\n",
    "\n",
    "    loss_tensor_array = tf.TensorArray(dtype=tf.float32, size=num_steps, dynamic_size=False, element_shape=[])\n",
    "    grad_tensor_array = tf.TensorArray(dtype=tf.float32, size=num_steps, dynamic_size=False, element_shape=[])\n",
    "    time_tensor_array = tf.TensorArray(dtype=tf.float64, size=num_steps, dynamic_size=False, element_shape=[])\n",
    "    with tf.control_dependencies(reset_operations):\n",
    "        tic = tf.timestamp()\n",
    "        for step in tf.range(1, num_steps+1):\n",
    "            loss, grads = train_one_step(smc, use_correction_term)\n",
    "\n",
    "            toc = tf.timestamp()\n",
    "            max_grad = tf.reduce_max(tf.abs(grads))\n",
    "            if True:\n",
    "                tf.print('Step', step, '/', num_steps, ': ms per step= ', 1000. * (toc - tic) / tf.cast(step, tf.float64), ': total time (s)= ', (toc - tic), ', loss = ', loss, ', max abs grads = ', max_grad, end='\\r')\n",
    "            loss_tensor_array = loss_tensor_array.write(step-1, loss)\n",
    "            grad_tensor_array = grad_tensor_array.write(step-1, max_grad)\n",
    "            time_tensor_array = time_tensor_array.write(step-1, toc-tic)\n",
    "            \n",
    "            #tf.print(learnable_alpha, learnable_beta, learnable_gamma)\n",
    "    return loss_tensor_array.stack(), grad_tensor_array.stack(), time_tensor_array.stack()\n",
    "            \n",
    "@tf.function\n",
    "def train_total_time(smc, total_time, use_correction_term=False, reset=True):\n",
    "    reset_trainable_variables = [learnable_alpha.assign(alpha), \n",
    "                                 learnable_beta.assign(beta), \n",
    "                                 learnable_gamma.assign(gamma)]\n",
    "    if reset:\n",
    "        reset_operations = reset_trainable_variables\n",
    "    else:\n",
    "        reset_operations = []\n",
    "        \n",
    "    loss_tensor_array = tf.TensorArray(dtype=tf.float32, size=0, dynamic_size=True, element_shape=[])\n",
    "    grad_tensor_array = tf.TensorArray(dtype=tf.float32, size=0, dynamic_size=True, element_shape=[])\n",
    "    time_tensor_array = tf.TensorArray(dtype=tf.float64, size=0, dynamic_size=True, element_shape=[])\n",
    "    with tf.control_dependencies(reset_operations):\n",
    "        tic = tf.timestamp()\n",
    "        toc = tic\n",
    "        step = tf.constant(1)\n",
    "        while toc - tic < total_time:\n",
    "            loss, grads = train_one_step(smc, use_correction_term)\n",
    "            max_grad = tf.reduce_max(tf.abs(grads))\n",
    "            loss_tensor_array = loss_tensor_array.write(step-1, loss)\n",
    "            grad_tensor_array = grad_tensor_array.write(step-1, max_grad)\n",
    "            time_tensor_array = time_tensor_array.write(step-1, toc-tic)\n",
    "            step = step + 1\n",
    "\n",
    "            toc = tf.timestamp()\n",
    "\n",
    "            tf.print('Time elapsed (s): ', toc-tic, ', n_steps: ', step, ': ms per step= ', 1000. * (toc - tic) / tf.cast(step, tf.float64), end='\\r')\n",
    "    return loss_tensor_array.stack(), grad_tensor_array.stack(), time_tensor_array.stack()\n",
    "\n",
    "\n",
    "@tf.function\n",
    "def run_several(smc, n_times, use_correction_term=False):\n",
    "    loss_array = tf.TensorArray(dtype=tf.float32, size=n_times, dynamic_size=False, element_shape=[])\n",
    "    grad_array = tf.TensorArray(dtype=tf.float32, size=n_times, dynamic_size=False)\n",
    "    for i in tf.range(n_times):\n",
    "        real_ll, grads_loss = run_one_step(smc, use_correction_term, init_state)\n",
    "        loss_array = loss_array.write(i, real_ll)        \n",
    "        grad_array = grad_array.write(i, grads_loss)\n",
    "        tf.print('Step: ', i+1, '/', n_times, end='\\r')\n",
    "    return loss_array.stack(), grad_array.stack()"
   ]
  },
  {
   "cell_type": "code",
   "execution_count": 24,
   "metadata": {},
   "outputs": [],
   "source": [
    "num_iter = 200"
   ]
  },
  {
   "cell_type": "code",
   "execution_count": 25,
   "metadata": {},
   "outputs": [
    {
     "name": "stdout",
     "output_type": "stream",
     "text": [
      "Step 200 / 200 : ms per step=  1777.8456652164459 : total time (s)=  355.56913304328918 , loss =  -1.28091645 , max abs grads =  33.228061774451\r"
     ]
    }
   ],
   "source": [
    "reg_loss_tensor_array, reg_grad_tensor_array, reg_time_tensor_array = train_niter(regularized_filter, tf.constant(num_iter), False)"
   ]
  },
  {
   "cell_type": "code",
   "execution_count": 26,
   "metadata": {},
   "outputs": [],
   "source": [
    "reg_loss = reg_loss_tensor_array.numpy()"
   ]
  },
  {
   "cell_type": "code",
   "execution_count": 27,
   "metadata": {},
   "outputs": [
    {
     "data": {
      "text/plain": [
       "[<tf.Variable 'Variable:0' shape=() dtype=float32, numpy=0.3155185>,\n",
       " <tf.Variable 'Variable:0' shape=() dtype=float32, numpy=0.43237174>,\n",
       " <tf.Variable 'Variable:0' shape=() dtype=float32, numpy=0.21001533>]"
      ]
     },
     "execution_count": 27,
     "metadata": {},
     "output_type": "execute_result"
    }
   ],
   "source": [
    "trainable_variables"
   ]
  },
  {
   "cell_type": "code",
   "execution_count": 28,
   "metadata": {},
   "outputs": [],
   "source": [
    "optimizer.set_weights([w * 0 for w in optimizer.get_weights()])"
   ]
  },
  {
   "cell_type": "code",
   "execution_count": 29,
   "metadata": {},
   "outputs": [
    {
     "name": "stdout",
     "output_type": "stream",
     "text": [
      "Step 200 / 200 : ms per step=  236.14863991737366 : total time (s)=  47.229727983474731 , loss =  -1.62923503 , max abs grads =  4.7916603185438199\r"
     ]
    }
   ],
   "source": [
    "loss_tensor_array, grad_tensor_array, time_tensor_array = train_niter(particle_filter, tf.constant(num_iter), False)"
   ]
  },
  {
   "cell_type": "code",
   "execution_count": 30,
   "metadata": {},
   "outputs": [],
   "source": [
    "multi_loss = loss_tensor_array.numpy()"
   ]
  },
  {
   "cell_type": "code",
   "execution_count": 35,
   "metadata": {},
   "outputs": [
    {
     "data": {
      "text/plain": [
       "[<matplotlib.lines.Line2D at 0x2503fd65288>]"
      ]
     },
     "execution_count": 35,
     "metadata": {},
     "output_type": "execute_result"
    },
    {
     "data": {
      "image/png": "[encoded data removed]",
      "text/plain": [
       "<Figure size 432x288 with 1 Axes>"
      ]
     },
     "metadata": {
      "needs_background": "light"
     },
     "output_type": "display_data"
    }
   ],
   "source": [
    "plt.plot(multi_loss)\n",
    "plt.plot(reg_loss)"
   ]
  },
  {
   "cell_type": "code",
   "execution_count": 32,
   "metadata": {},
   "outputs": [
    {
     "data": {
      "text/plain": [
       "[<tf.Variable 'Variable:0' shape=() dtype=float32, numpy=0.35777563>,\n",
       " <tf.Variable 'Variable:0' shape=() dtype=float32, numpy=0.4178511>,\n",
       " <tf.Variable 'Variable:0' shape=() dtype=float32, numpy=0.2048777>]"
      ]
     },
     "execution_count": 32,
     "metadata": {},
     "output_type": "execute_result"
    }
   ],
   "source": [
    "trainable_variables"
   ]
  },
  {
   "cell_type": "code",
   "execution_count": 33,
   "metadata": {},
   "outputs": [
    {
     "data": {
      "text/plain": [
       "[<matplotlib.lines.Line2D at 0x2503fd952c8>]"
      ]
     },
     "execution_count": 33,
     "metadata": {},
     "output_type": "execute_result"
    },
    {
     "data": {
      "image/png": "[encoded data removed]",
      "text/plain": [
       "<Figure size 432x288 with 1 Axes>"
      ]
     },
     "metadata": {
      "needs_background": "light"
     },
     "output_type": "display_data"
    }
   ],
   "source": [
    "plt.plot(multi_loss)"
   ]
  },
  {
   "cell_type": "code",
   "execution_count": 34,
   "metadata": {},
   "outputs": [
    {
     "data": {
      "text/plain": [
       "[<matplotlib.lines.Line2D at 0x2503fe06708>]"
      ]
     },
     "execution_count": 34,
     "metadata": {},
     "output_type": "execute_result"
    },
    {
     "data": {
      "image/png": "[encoded data removed]",
      "text/plain": [
       "<Figure size 432x288 with 1 Axes>"
      ]
     },
     "metadata": {
      "needs_background": "light"
     },
     "output_type": "display_data"
    }
   ],
   "source": [
    "plt.plot(reg_loss)"
   ]
  }
 ],
 "metadata": {
  "kernelspec": {
   "display_name": "venv",
   "language": "python",
   "name": "venv"
  },
  "language_info": {
   "codemirror_mode": {
    "name": "ipython",
    "version": 3
   },
   "file_extension": ".py",
   "mimetype": "text/x-python",
   "name": "python",
   "nbconvert_exporter": "python",
   "pygments_lexer": "ipython3",
   "version": "3.7.4"
  }
 },
 "nbformat": 4,
 "nbformat_minor": 4
}
