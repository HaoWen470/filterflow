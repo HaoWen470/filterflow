{
 "cells": [
  {
   "cell_type": "code",
   "execution_count": 1,
   "metadata": {},
   "outputs": [],
   "source": [
    "import numpy as np\n",
    "import pandas as pd\n",
    "import os, sys"
   ]
  },
  {
   "cell_type": "code",
   "execution_count": 2,
   "metadata": {},
   "outputs": [],
   "source": [
    "import os, sys\n",
    "# add to path\n",
    "sys.path.append(\"../..\")\n",
    "\n",
    "import attr\n",
    "import datetime\n",
    "\n",
    "import matplotlib.pyplot as plt\n",
    "import numpy as np\n",
    "from PIL import Image\n",
    "import seaborn\n",
    "\n",
    "import tensorflow as tf\n",
    "import tensorflow_addons as tfa\n",
    "import tensorflow_probability as tfp\n",
    "\n",
    "import pandas as pd\n",
    "import sonnet as snt\n",
    "\n",
    "from filterflow.smc import SMC\n",
    "from filterflow.base import State, StateWithMemory, StateSeries, DTYPE_TO_OBSERVATION_SERIES, DTYPE_TO_STATE_SERIES\n",
    "\n",
    "from filterflow.observation.base import ObservationModelBase, ObservationSampler\n",
    "from filterflow.observation.linear import LinearObservationSampler\n",
    "from filterflow.transition.random_walk import RandomWalkModel\n",
    "from filterflow.proposal import BootstrapProposalModel\n",
    "from filterflow.transition.base import TransitionModelBase\n",
    "\n",
    "from filterflow.resampling.criterion import NeffCriterion, AlwaysResample, NeverResample\n",
    "from filterflow.resampling.standard import SystematicResampler, MultinomialResampler\n",
    "from filterflow.resampling.differentiable import RegularisedTransform, CorrectedRegularizedTransform\n",
    "from filterflow.resampling.differentiable.ricatti.solver import RicattiSolver\n",
    "\n",
    "from filterflow.resampling.base import NoResampling\n",
    "\n",
    "from filterflow.state_space_model import StateSpaceModel"
   ]
  },
  {
   "cell_type": "code",
   "execution_count": 3,
   "metadata": {},
   "outputs": [
    {
     "data": {
      "text/plain": [
       "['covid.csv']"
      ]
     },
     "execution_count": 3,
     "metadata": {},
     "output_type": "execute_result"
    }
   ],
   "source": [
    "data_dir = \"../../data/covid\"\n",
    "os.listdir(data_dir)"
   ]
  },
  {
   "cell_type": "code",
   "execution_count": 4,
   "metadata": {},
   "outputs": [],
   "source": [
    "df = pd.read_csv(os.path.join(data_dir, 'covid.csv'))"
   ]
  },
  {
   "cell_type": "code",
   "execution_count": 5,
   "metadata": {},
   "outputs": [
    {
     "data": {
      "text/html": [
       "<div>\n",
       "<style scoped>\n",
       "    .dataframe tbody tr th:only-of-type {\n",
       "        vertical-align: middle;\n",
       "    }\n",
       "\n",
       "    .dataframe tbody tr th {\n",
       "        vertical-align: top;\n",
       "    }\n",
       "\n",
       "    .dataframe thead th {\n",
       "        text-align: right;\n",
       "    }\n",
       "</style>\n",
       "<table border=\"1\" class=\"dataframe\">\n",
       "  <thead>\n",
       "    <tr style=\"text-align: right;\">\n",
       "      <th></th>\n",
       "      <th>dateRep</th>\n",
       "      <th>day</th>\n",
       "      <th>month</th>\n",
       "      <th>year</th>\n",
       "      <th>cases</th>\n",
       "      <th>deaths</th>\n",
       "      <th>countriesAndTerritories</th>\n",
       "      <th>geoId</th>\n",
       "      <th>countryterritoryCode</th>\n",
       "      <th>popData2018</th>\n",
       "      <th>continentExp</th>\n",
       "    </tr>\n",
       "  </thead>\n",
       "  <tbody>\n",
       "    <tr>\n",
       "      <th>15104</th>\n",
       "      <td>09/05/2020</td>\n",
       "      <td>9</td>\n",
       "      <td>5</td>\n",
       "      <td>2020</td>\n",
       "      <td>4649</td>\n",
       "      <td>626</td>\n",
       "      <td>United_Kingdom</td>\n",
       "      <td>UK</td>\n",
       "      <td>GBR</td>\n",
       "      <td>66488991.0</td>\n",
       "      <td>Europe</td>\n",
       "    </tr>\n",
       "    <tr>\n",
       "      <th>15105</th>\n",
       "      <td>08/05/2020</td>\n",
       "      <td>8</td>\n",
       "      <td>5</td>\n",
       "      <td>2020</td>\n",
       "      <td>5514</td>\n",
       "      <td>539</td>\n",
       "      <td>United_Kingdom</td>\n",
       "      <td>UK</td>\n",
       "      <td>GBR</td>\n",
       "      <td>66488991.0</td>\n",
       "      <td>Europe</td>\n",
       "    </tr>\n",
       "    <tr>\n",
       "      <th>15106</th>\n",
       "      <td>07/05/2020</td>\n",
       "      <td>7</td>\n",
       "      <td>5</td>\n",
       "      <td>2020</td>\n",
       "      <td>6211</td>\n",
       "      <td>649</td>\n",
       "      <td>United_Kingdom</td>\n",
       "      <td>UK</td>\n",
       "      <td>GBR</td>\n",
       "      <td>66488991.0</td>\n",
       "      <td>Europe</td>\n",
       "    </tr>\n",
       "    <tr>\n",
       "      <th>15107</th>\n",
       "      <td>06/05/2020</td>\n",
       "      <td>6</td>\n",
       "      <td>5</td>\n",
       "      <td>2020</td>\n",
       "      <td>4406</td>\n",
       "      <td>693</td>\n",
       "      <td>United_Kingdom</td>\n",
       "      <td>UK</td>\n",
       "      <td>GBR</td>\n",
       "      <td>66488991.0</td>\n",
       "      <td>Europe</td>\n",
       "    </tr>\n",
       "    <tr>\n",
       "      <th>15108</th>\n",
       "      <td>05/05/2020</td>\n",
       "      <td>5</td>\n",
       "      <td>5</td>\n",
       "      <td>2020</td>\n",
       "      <td>3985</td>\n",
       "      <td>288</td>\n",
       "      <td>United_Kingdom</td>\n",
       "      <td>UK</td>\n",
       "      <td>GBR</td>\n",
       "      <td>66488991.0</td>\n",
       "      <td>Europe</td>\n",
       "    </tr>\n",
       "    <tr>\n",
       "      <th>...</th>\n",
       "      <td>...</td>\n",
       "      <td>...</td>\n",
       "      <td>...</td>\n",
       "      <td>...</td>\n",
       "      <td>...</td>\n",
       "      <td>...</td>\n",
       "      <td>...</td>\n",
       "      <td>...</td>\n",
       "      <td>...</td>\n",
       "      <td>...</td>\n",
       "      <td>...</td>\n",
       "    </tr>\n",
       "    <tr>\n",
       "      <th>15230</th>\n",
       "      <td>04/01/2020</td>\n",
       "      <td>4</td>\n",
       "      <td>1</td>\n",
       "      <td>2020</td>\n",
       "      <td>0</td>\n",
       "      <td>0</td>\n",
       "      <td>United_Kingdom</td>\n",
       "      <td>UK</td>\n",
       "      <td>GBR</td>\n",
       "      <td>66488991.0</td>\n",
       "      <td>Europe</td>\n",
       "    </tr>\n",
       "    <tr>\n",
       "      <th>15231</th>\n",
       "      <td>03/01/2020</td>\n",
       "      <td>3</td>\n",
       "      <td>1</td>\n",
       "      <td>2020</td>\n",
       "      <td>0</td>\n",
       "      <td>0</td>\n",
       "      <td>United_Kingdom</td>\n",
       "      <td>UK</td>\n",
       "      <td>GBR</td>\n",
       "      <td>66488991.0</td>\n",
       "      <td>Europe</td>\n",
       "    </tr>\n",
       "    <tr>\n",
       "      <th>15232</th>\n",
       "      <td>02/01/2020</td>\n",
       "      <td>2</td>\n",
       "      <td>1</td>\n",
       "      <td>2020</td>\n",
       "      <td>0</td>\n",
       "      <td>0</td>\n",
       "      <td>United_Kingdom</td>\n",
       "      <td>UK</td>\n",
       "      <td>GBR</td>\n",
       "      <td>66488991.0</td>\n",
       "      <td>Europe</td>\n",
       "    </tr>\n",
       "    <tr>\n",
       "      <th>15233</th>\n",
       "      <td>01/01/2020</td>\n",
       "      <td>1</td>\n",
       "      <td>1</td>\n",
       "      <td>2020</td>\n",
       "      <td>0</td>\n",
       "      <td>0</td>\n",
       "      <td>United_Kingdom</td>\n",
       "      <td>UK</td>\n",
       "      <td>GBR</td>\n",
       "      <td>66488991.0</td>\n",
       "      <td>Europe</td>\n",
       "    </tr>\n",
       "    <tr>\n",
       "      <th>15234</th>\n",
       "      <td>31/12/2019</td>\n",
       "      <td>31</td>\n",
       "      <td>12</td>\n",
       "      <td>2019</td>\n",
       "      <td>0</td>\n",
       "      <td>0</td>\n",
       "      <td>United_Kingdom</td>\n",
       "      <td>UK</td>\n",
       "      <td>GBR</td>\n",
       "      <td>66488991.0</td>\n",
       "      <td>Europe</td>\n",
       "    </tr>\n",
       "  </tbody>\n",
       "</table>\n",
       "<p>131 rows × 11 columns</p>\n",
       "</div>"
      ],
      "text/plain": [
       "          dateRep  day  month  year  cases  deaths countriesAndTerritories  \\\n",
       "15104  09/05/2020    9      5  2020   4649     626          United_Kingdom   \n",
       "15105  08/05/2020    8      5  2020   5514     539          United_Kingdom   \n",
       "15106  07/05/2020    7      5  2020   6211     649          United_Kingdom   \n",
       "15107  06/05/2020    6      5  2020   4406     693          United_Kingdom   \n",
       "15108  05/05/2020    5      5  2020   3985     288          United_Kingdom   \n",
       "...           ...  ...    ...   ...    ...     ...                     ...   \n",
       "15230  04/01/2020    4      1  2020      0       0          United_Kingdom   \n",
       "15231  03/01/2020    3      1  2020      0       0          United_Kingdom   \n",
       "15232  02/01/2020    2      1  2020      0       0          United_Kingdom   \n",
       "15233  01/01/2020    1      1  2020      0       0          United_Kingdom   \n",
       "15234  31/12/2019   31     12  2019      0       0          United_Kingdom   \n",
       "\n",
       "      geoId countryterritoryCode  popData2018 continentExp  \n",
       "15104    UK                  GBR   66488991.0       Europe  \n",
       "15105    UK                  GBR   66488991.0       Europe  \n",
       "15106    UK                  GBR   66488991.0       Europe  \n",
       "15107    UK                  GBR   66488991.0       Europe  \n",
       "15108    UK                  GBR   66488991.0       Europe  \n",
       "...     ...                  ...          ...          ...  \n",
       "15230    UK                  GBR   66488991.0       Europe  \n",
       "15231    UK                  GBR   66488991.0       Europe  \n",
       "15232    UK                  GBR   66488991.0       Europe  \n",
       "15233    UK                  GBR   66488991.0       Europe  \n",
       "15234    UK                  GBR   66488991.0       Europe  \n",
       "\n",
       "[131 rows x 11 columns]"
      ]
     },
     "execution_count": 5,
     "metadata": {},
     "output_type": "execute_result"
    }
   ],
   "source": [
    "df.loc[df.geoId =='UK']"
   ]
  },
  {
   "cell_type": "code",
   "execution_count": 6,
   "metadata": {},
   "outputs": [
    {
     "data": {
      "text/plain": [
       "31241"
      ]
     },
     "execution_count": 6,
     "metadata": {},
     "output_type": "execute_result"
    }
   ],
   "source": [
    "df.loc[df.geoId =='UK', 'deaths'].sum()"
   ]
  },
  {
   "cell_type": "markdown",
   "metadata": {},
   "source": [
    "Infections model (Latent state evolution):\n",
    "\\begin{align}\n",
    "    S_t &= S_{t-1}-\\beta S_{t-1}I_{t-1}/N \\\\\n",
    "    E_t &= (1-\\alpha)E_{t-1}+\\beta S_{t-1} I_{t-1}/N \\\\\n",
    "    I_t &= (1-\\gamma+\\epsilon_t) I_{t-1}+\\alpha E_{t-1}\\\\\n",
    "    R_t &= R_{t-1} + \\gamma I_{t-1}  ~\\mathbf{\\text{not needed}}\\\\\n",
    "    \\epsilon_t &\\sim \\mathcal{N}(0,1)\\\\\n",
    "\\end{align}\n",
    "\n",
    "Death Model (Observation Model):\n",
    "\\begin{align}\n",
    "d_t &= \\delta_t I_t \\\\\n",
    "    D_t - D_{t-1} &\\sim \\text{NegBinom}(d_t, d_t + \\frac{d_t^2}{\\Psi}) \\\\\n",
    "    \\Psi &\\sim \\mathcal{N}^+(0,5)\n",
    "\\end{align}"
   ]
  },
  {
   "cell_type": "code",
   "execution_count": 7,
   "metadata": {},
   "outputs": [],
   "source": [
    "batch_size = 1\n",
    "n_particles = 1000\n",
    "dimension = 1\n"
   ]
  },
  {
   "cell_type": "code",
   "execution_count": 8,
   "metadata": {},
   "outputs": [],
   "source": [
    "def split_sei(x):\n",
    "    S, E, I = tf.split(x, 3, axis=-1)\n",
    "    return S,E,I\n",
    "\n",
    "def join_sei(S,E,I):\n",
    "    x = tf.concat([S,E, I], axis=-1)\n",
    "    return x\n",
    "\n",
    "def zero_state(batch_size, num_particles, dimension):\n",
    "    uniform_dist = tfp.distributions.Uniform()\n",
    "    x = uniform_dist.sample([batch_size, n_particles, 3*dimension])\n",
    "    return split_sei(x)\n",
    "\n",
    "    \n"
   ]
  },
  {
   "cell_type": "code",
   "execution_count": 9,
   "metadata": {},
   "outputs": [],
   "source": [
    "alpha = 1.\n",
    "beta = 1.\n",
    "gamma = 1.\n",
    "delta = 1.\n",
    "T = 150\n",
    "population_size = 100"
   ]
  },
  {
   "cell_type": "code",
   "execution_count": 34,
   "metadata": {},
   "outputs": [],
   "source": [
    "class SEIRTransitionModel(TransitionModelBase):\n",
    "    def __init__(self, alpha, beta, gamma, population_size, name='SEIRTransitionModel'):\n",
    "        super(SEIRTransitionModel, self).__init__(name=name)\n",
    "        self.normal_dist = tfp.distributions.Normal(loc=tf.constant(0.), scale=tf.constant(1.))\n",
    "        self.beta = beta\n",
    "        self.alpha = alpha\n",
    "        self.gamma = gamma\n",
    "        self.pop = population_size\n",
    "        \n",
    "    def _loglikelihood(self, prior_state: State, proposed_state: State):\n",
    "        St_1, Et_1, It_1 = split_sei(prior_state.particles)\n",
    "        St, Et, It = split_sei(proposed_state.particles)\n",
    "        \n",
    "        eps = (It - (1.-self.gamma)*It_1 - self.alpha*Et_1) / It_1\n",
    "        log_prob = tf.reduce_sum(self.normal_dist.log_prob(eps), axis=-1)\n",
    "        return log_prob\n",
    "    \n",
    "    def loglikelihood(self, prior_state: State, proposed_state: State, inputs: tf.Tensor):\n",
    "        return self._loglikelihood(prior_state, proposed_state)\n",
    "\n",
    "    def sample(self, state: State, inputs: tf.Tensor):\n",
    "        St_1, Et_1, It_1 = split_sei(state.particles)\n",
    "        \n",
    "        eps = self.normal_dist.sample()\n",
    "        \n",
    "        St = St_1 - self.beta*St_1*It_1/self.pop\n",
    "        Et = (1-self.alpha) * Et_1 + self.beta*St_1*It_1/self.pop\n",
    "\n",
    "        It = (1-self.gamma+eps)*It_1 + self.alpha*Et_1\n",
    "        \n",
    "        x = join_sei(St, Et, It)\n",
    "        \n",
    "        return State(particles=x, \n",
    "                     log_weights = state.log_weights,\n",
    "                     weights=state.weights, \n",
    "                     log_likelihoods=state.log_likelihoods)\n"
   ]
  },
  {
   "cell_type": "code",
   "execution_count": 76,
   "metadata": {},
   "outputs": [],
   "source": [
    "class SEIRProposalModel(SEIRTransitionModel):\n",
    "    def __init__(self, alpha, beta, gamma, population_size, name ='SEIRProposalModel'):\n",
    "        super(SEIRProposalModel, self).__init__(alpha, beta, gamma, population_size, name=name)\n",
    "\n",
    "    def loglikelihood(self, proposed_state: State, state: State, inputs: tf.Tensor, observation: tf.Tensor):\n",
    "        return self._loglikelihood(state, proposed_state)\n",
    "    \n",
    "    def propose(self, state: State, inputs: tf.Tensor, observation: tf.Tensor):\n",
    "        return self.sample(state, None)"
   ]
  },
  {
   "cell_type": "code",
   "execution_count": 77,
   "metadata": {},
   "outputs": [],
   "source": [
    "class SEIRObservationModel(ObservationSampler):\n",
    "    \n",
    "    def __init__(self, delta, name='SEIRObservationModel'):\n",
    "        super(SEIRObservationModel, self).__init__(name=name)\n",
    "        self.half_norm_dist = tfp.distributions.HalfNormal(scale = tf.constant(5.))\n",
    "        self.delta = delta\n",
    "            \n",
    "    def loglikelihood(self, state: State, observation: tf.Tensor):\n",
    "        S, E, I = split_sei(state.particles)\n",
    "        dt = self.delta*I\n",
    "        psi = self.half_norm_dist.sample()\n",
    "        nb_dist = tfp.distributions.NegativeBinomial(total_count=psi, probs=psi/(psi+dt))\n",
    "        log_prob = self.half_norm_dist.log_prob(psi)+ tf.reduce_sum(nb_dist.log_prob(observation-dt), axis=-1)\n",
    "        return log_prob\n",
    "        \n",
    "\n",
    "    def sample(self, state: State):\n",
    "        S, E, I = split_sei(state.particles)\n",
    "        dt = self.delta*I\n",
    "        psi = self.half_norm_dist.sample()\n",
    "        nb_dist = tfp.distributions.NegativeBinomial(total_count=psi, probs=psi/(psi+dt))\n",
    "        \n",
    "        dt1 = nb_dist.sample() + dt\n",
    "        return dt1"
   ]
  },
  {
   "cell_type": "code",
   "execution_count": 78,
   "metadata": {},
   "outputs": [],
   "source": [
    "transition_model = SEIRTransitionModel(alpha, beta, gamma, population_size)\n",
    "proposal_model = SEIRProposalModel(alpha, beta, gamma, population_size)\n",
    "observation_model = SEIRObservationModel(delta)"
   ]
  },
  {
   "cell_type": "code",
   "execution_count": null,
   "metadata": {},
   "outputs": [],
   "source": []
  },
  {
   "cell_type": "code",
   "execution_count": 79,
   "metadata": {},
   "outputs": [],
   "source": [
    "uniform_dist = tfp.distributions.Uniform()\n",
    "initial_particles = uniform_dist.sample([batch_size, n_particles, 3*dimension])\n",
    "\n",
    "initial_particles = tf.cast(initial_particles, dtype=float)\n",
    "\n",
    "initial_weights = tf.ones((batch_size, n_particles), dtype=float) / tf.cast(n_particles, float)\n",
    "log_likelihoods = tf.zeros(batch_size, dtype=float)\n",
    "initial_state = State(particles=initial_particles, \n",
    "                      log_weights = tf.math.log(initial_weights),\n",
    "                      weights=initial_weights, \n",
    "                      log_likelihoods=log_likelihoods)"
   ]
  },
  {
   "cell_type": "code",
   "execution_count": 80,
   "metadata": {},
   "outputs": [],
   "source": [
    "new_state = transition_model.sample(initial_state, None)"
   ]
  },
  {
   "cell_type": "code",
   "execution_count": 81,
   "metadata": {},
   "outputs": [],
   "source": [
    "loglik = transition_model.loglikelihood(initial_state, new_state, None)"
   ]
  },
  {
   "cell_type": "code",
   "execution_count": 82,
   "metadata": {},
   "outputs": [],
   "source": [
    "new_obs = observation_model.sample(initial_state)\n",
    "log_prob = observation_model.loglikelihood(initial_state, new_obs)"
   ]
  },
  {
   "cell_type": "code",
   "execution_count": null,
   "metadata": {},
   "outputs": [],
   "source": []
  },
  {
   "cell_type": "code",
   "execution_count": 83,
   "metadata": {},
   "outputs": [],
   "source": [
    "# Generate data\n",
    "states = []\n",
    "observations = []\n",
    "state = initial_state\n",
    "for i in range(T):\n",
    "    state = transition_model.sample(state, None)\n",
    "    observation = observation_model.sample(new_state)\n",
    "    states.append(new_state)\n",
    "    observations.append(observation)\n",
    "    "
   ]
  },
  {
   "cell_type": "code",
   "execution_count": 84,
   "metadata": {},
   "outputs": [
    {
     "data": {
      "image/png": "[encoded data removed]",
      "text/plain": [
       "<Figure size 720x360 with 1 Axes>"
      ]
     },
     "metadata": {
      "needs_background": "light"
     },
     "output_type": "display_data"
    }
   ],
   "source": [
    "np_obs = np.array([observations[t].numpy().squeeze() for t in range(T)])\n",
    "np_states = np.array([states[t].particles.numpy().squeeze() for t in range(T)])\n",
    "\n",
    "linspace  = np.arange(T)\n",
    "fig, axes = plt.subplots(nrows=1, figsize=(10, 5))\n",
    "axes.plot(linspace, np_obs[:,0], marker='o', color='g', label='observations')\n",
    "_ = axes.legend(loc='upper left')\n",
    "_ = fig.suptitle('Simulated Deaths', fontsize=15)"
   ]
  },
  {
   "cell_type": "code",
   "execution_count": 85,
   "metadata": {},
   "outputs": [],
   "source": [
    "obs_data = tf.data.Dataset.from_tensor_slices(observations)\n",
    "inputs_data = tf.data.Dataset.from_tensor_slices([tf.constant(0.) for _ in range(T)])"
   ]
  },
  {
   "cell_type": "code",
   "execution_count": 86,
   "metadata": {},
   "outputs": [],
   "source": [
    "# resampling\n",
    "resampling_criterion = NeffCriterion(tf.constant(0.5), tf.constant(True))\n",
    "systematic = SystematicResampler()\n",
    "multinomial = MultinomialResampler()\n",
    "\n",
    "\n",
    "epsilon = tf.constant(0.25)\n",
    "scaling = tf.constant(0.9)\n",
    "\n",
    "regularized = RegularisedTransform(epsilon, scaling=scaling, max_iter=1000, convergence_threshold=1e-4)"
   ]
  },
  {
   "cell_type": "code",
   "execution_count": 88,
   "metadata": {},
   "outputs": [],
   "source": [
    "particle_filter = SMC(observation_model, transition_model, proposal_model, resampling_criterion, regularized)\n",
    "\n",
    "recorded_states = particle_filter(initial_state, observation_series=obs_data, n_observations=T, inputs_series = inputs_data)\n",
    "\n",
    "recorded_states  = attr.evolve(recorded_states)\n",
    "\n",
    "ht = np.array([state.particles.numpy() for state in states]).squeeze()"
   ]
  },
  {
   "cell_type": "code",
   "execution_count": null,
   "metadata": {},
   "outputs": [],
   "source": [
    "observations"
   ]
  }
 ],
 "metadata": {
  "kernelspec": {
   "display_name": "venv",
   "language": "python",
   "name": "venv"
  },
  "language_info": {
   "codemirror_mode": {
    "name": "ipython",
    "version": 3
   },
   "file_extension": ".py",
   "mimetype": "text/x-python",
   "name": "python",
   "nbconvert_exporter": "python",
   "pygments_lexer": "ipython3",
   "version": "3.7.4"
  }
 },
 "nbformat": 4,
 "nbformat_minor": 4
}
