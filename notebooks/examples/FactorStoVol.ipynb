{
 "cells": [
  {
   "cell_type": "code",
   "execution_count": 5,
   "metadata": {},
   "outputs": [],
   "source": [
    "import os, sys"
   ]
  },
  {
   "cell_type": "code",
   "execution_count": 6,
   "metadata": {},
   "outputs": [],
   "source": [
    "import os, sys\n",
    "# add to path\n",
    "sys.path.append(\"../..\")\n",
    "\n",
    "import attr\n",
    "import datetime\n",
    "\n",
    "import matplotlib.pyplot as plt\n",
    "import numpy as np\n",
    "from PIL import Image\n",
    "import seaborn\n",
    "\n",
    "import tensorflow as tf\n",
    "import tensorflow_addons as tfa\n",
    "import tensorflow_probability as tfp\n",
    "\n",
    "import pandas as pd\n"
   ]
  },
  {
   "cell_type": "code",
   "execution_count": 7,
   "metadata": {},
   "outputs": [],
   "source": [
    "import quandl"
   ]
  },
  {
   "cell_type": "code",
   "execution_count": 16,
   "metadata": {},
   "outputs": [],
   "source": [
    "from filterflow.smc import SMC\n",
    "from filterflow.base import State, StateSeries, DTYPE_TO_OBSERVATION_SERIES, DTYPE_TO_STATE_SERIES\n",
    "\n",
    "from filterflow.observation.base import ObservationModelBase, ObservationSampler\n",
    "\n",
    "from filterflow.transition.random_walk import RandomWalkModel\n",
    "from filterflow.proposal import BootstrapProposalModel\n",
    "from filterflow.proposal.auxiliary_proposal import AuxiliaryProposal\n",
    "\n",
    "from filterflow.resampling.criterion import NeffCriterion, AlwaysResample, NeverResample\n",
    "from filterflow.resampling.standard import SystematicResampler, MultinomialResampler\n",
    "from filterflow.resampling.differentiable import RegularisedTransform, CorrectedRegularizedTransform\n",
    "from filterflow.resampling.differentiable.ricatti.solver import RicattiSolver\n",
    "\n",
    "from filterflow.resampling.base import NoResampling\n",
    "\n",
    "from filterflow.state_space_model import StateSpaceModel"
   ]
  },
  {
   "cell_type": "markdown",
   "metadata": {},
   "source": [
    "## Process data"
   ]
  },
  {
   "cell_type": "code",
   "execution_count": 5,
   "metadata": {},
   "outputs": [],
   "source": [
    "quandl.ApiConfig.api_key = os.environ['QUANDL_KEY']"
   ]
  },
  {
   "cell_type": "code",
   "execution_count": 6,
   "metadata": {},
   "outputs": [],
   "source": [
    "#d =  quandl.get(\"NASDAQOMX/OMXS30\", start_date=\"2012-01-02\", end_date=\"2014-01-02\")\n",
    "\n",
    "#y = np.log(d['Index Value']).diff()[1:] * 100\n",
    "\n",
    "#y.plot()"
   ]
  },
  {
   "cell_type": "code",
   "execution_count": null,
   "metadata": {},
   "outputs": [],
   "source": []
  },
  {
   "cell_type": "markdown",
   "metadata": {},
   "source": [
    "References:\n",
    "- [Towards Smooth Particle Filters for\n",
    "Likelihood Estimation with\n",
    "Multivariate Latent Variables\n",
    "](https://www.cs.ubc.ca/grads/resources/thesis/Nov08/Lee_Anthony.pdf)"
   ]
  },
  {
   "cell_type": "markdown",
   "metadata": {},
   "source": [
    "Basic Model"
   ]
  },
  {
   "cell_type": "markdown",
   "metadata": {},
   "source": [
    "$y_t \\sim \\mathcal{N}(\\mathbf{B}\\mathbf{f}_t, \\mathbf{\\Psi})$\n",
    "\n",
    "$\\mathbf{f}_t \\sim \\mathcal{N}(\\mathbf{0}, \\mathbf{H}_t)$\n",
    "\n",
    "$\\mathbf{\\alpha}_t \\sim \\mathcal{N}(\\mathbf{\\Phi}\\mathbf{\\alpha}_{t-1}, \\mathbf{U})$\n",
    "\n",
    "$\\mathbf{\\Psi} = \\text{diag}(\\psi_1, \\ldots, \\psi_M)$\n",
    "\n",
    "$\\mathbf{H}_t = \\text{diag}(\\exp(\\mathbf{\\alpha}_t))$\n",
    "\n",
    "$\\mathbf{\\Phi} = \\text{diag}(\\phi_1, \\ldots, \\phi_M)$"
   ]
  },
  {
   "cell_type": "markdown",
   "metadata": {},
   "source": [
    "For identifiability let:\n",
    "\n",
    "$\\mathbf{B} = \\begin{bmatrix}\n",
    "                     1   & 0   & 0   \\\\\n",
    "                     0.5 & 1   & 0   \\\\\n",
    "                     0.5 & 0.5 & 1   \\\\\n",
    "                     0.2 & 0.6 & 0.3 \\\\\n",
    "                     0.8 & 0.7 & 0.5\n",
    "                \\end{bmatrix}\n",
    "$\n",
    "$\\hspace{2cm}$ \n",
    "$\\mathbf{U} = \\begin{bmatrix}\n",
    "                    0.5 & 0.2 & 0.1 \\\\\n",
    "                    0.2 & 0.5 & 0.2 \\\\\n",
    "                    0.1 & 0.2 & 0.5\n",
    "\\end{bmatrix}$"
   ]
  },
  {
   "cell_type": "code",
   "execution_count": 13,
   "metadata": {},
   "outputs": [],
   "source": [
    "K = 3\n",
    "M = 5\n",
    "T = 100"
   ]
  },
  {
   "cell_type": "code",
   "execution_count": 23,
   "metadata": {},
   "outputs": [],
   "source": [
    "# Variables to train\n",
    "B_init = np.array([[1., 0., 0,], \n",
    "                  [0.5, 1., 0.],\n",
    "                  [0.5, 0.5, 1.],\n",
    "                  [0.2, 0.6, 0.3],\n",
    "                  [0.8, 0.7, 0.5]])\n",
    "\n",
    "U_init = np.array([[0.5, 0.2, 0.1], \n",
    "                  [0.2, 0.5, 0.2],\n",
    "                  [0.1, 0.2, 0.5]])\n",
    "\n",
    "phi_init = np.repeat(0.9, K)\n",
    "psi_init = np.repeat(0.5, M)"
   ]
  },
  {
   "cell_type": "code",
   "execution_count": 24,
   "metadata": {},
   "outputs": [],
   "source": [
    "B = tf.constant(B_init, dtype=float)\n",
    "U = tf.constant(U_init, dtype=float)\n",
    "phi = tf.constant(phi_init, dtype=float)\n",
    "psi = tf.constant(psi_init, dtype=float)"
   ]
  },
  {
   "cell_type": "markdown",
   "metadata": {},
   "source": [
    "## Transition"
   ]
  },
  {
   "cell_type": "code",
   "execution_count": null,
   "metadata": {},
   "outputs": [],
   "source": []
  },
  {
   "cell_type": "code",
   "execution_count": 25,
   "metadata": {},
   "outputs": [],
   "source": [
    "zeros = tf.zeros(K, dtype=float)\n",
    "chol_transition_cov = tf.linalg.cholesky(U)\n",
    "transition_noise = tfp.distributions.MultivariateNormalTriL(zeros, chol_transition_cov)\n",
    "transition_matrix = phi\n",
    "transition_model = RandomWalkModel(transition_matrix, transition_noise)"
   ]
  },
  {
   "cell_type": "code",
   "execution_count": 43,
   "metadata": {},
   "outputs": [],
   "source": [
    "particles = tf.stack([[tf.constant(np.arange(5)) for _ in range(10)] for _ in range(3)])"
   ]
  },
  {
   "cell_type": "code",
   "execution_count": 44,
   "metadata": {},
   "outputs": [
    {
     "data": {
      "text/plain": [
       "TensorShape([3, 10, 5])"
      ]
     },
     "execution_count": 44,
     "metadata": {},
     "output_type": "execute_result"
    }
   ],
   "source": [
    "particles.shape"
   ]
  },
  {
   "cell_type": "code",
   "execution_count": 45,
   "metadata": {},
   "outputs": [
    {
     "data": {
      "text/plain": [
       "<tf.Tensor: shape=(3, 10, 5, 5), dtype=int32, numpy=\n",
       "array([[[[0, 0, 0, 0, 0],\n",
       "         [0, 1, 0, 0, 0],\n",
       "         [0, 0, 2, 0, 0],\n",
       "         [0, 0, 0, 3, 0],\n",
       "         [0, 0, 0, 0, 4]],\n",
       "\n",
       "        [[0, 0, 0, 0, 0],\n",
       "         [0, 1, 0, 0, 0],\n",
       "         [0, 0, 2, 0, 0],\n",
       "         [0, 0, 0, 3, 0],\n",
       "         [0, 0, 0, 0, 4]],\n",
       "\n",
       "        [[0, 0, 0, 0, 0],\n",
       "         [0, 1, 0, 0, 0],\n",
       "         [0, 0, 2, 0, 0],\n",
       "         [0, 0, 0, 3, 0],\n",
       "         [0, 0, 0, 0, 4]],\n",
       "\n",
       "        [[0, 0, 0, 0, 0],\n",
       "         [0, 1, 0, 0, 0],\n",
       "         [0, 0, 2, 0, 0],\n",
       "         [0, 0, 0, 3, 0],\n",
       "         [0, 0, 0, 0, 4]],\n",
       "\n",
       "        [[0, 0, 0, 0, 0],\n",
       "         [0, 1, 0, 0, 0],\n",
       "         [0, 0, 2, 0, 0],\n",
       "         [0, 0, 0, 3, 0],\n",
       "         [0, 0, 0, 0, 4]],\n",
       "\n",
       "        [[0, 0, 0, 0, 0],\n",
       "         [0, 1, 0, 0, 0],\n",
       "         [0, 0, 2, 0, 0],\n",
       "         [0, 0, 0, 3, 0],\n",
       "         [0, 0, 0, 0, 4]],\n",
       "\n",
       "        [[0, 0, 0, 0, 0],\n",
       "         [0, 1, 0, 0, 0],\n",
       "         [0, 0, 2, 0, 0],\n",
       "         [0, 0, 0, 3, 0],\n",
       "         [0, 0, 0, 0, 4]],\n",
       "\n",
       "        [[0, 0, 0, 0, 0],\n",
       "         [0, 1, 0, 0, 0],\n",
       "         [0, 0, 2, 0, 0],\n",
       "         [0, 0, 0, 3, 0],\n",
       "         [0, 0, 0, 0, 4]],\n",
       "\n",
       "        [[0, 0, 0, 0, 0],\n",
       "         [0, 1, 0, 0, 0],\n",
       "         [0, 0, 2, 0, 0],\n",
       "         [0, 0, 0, 3, 0],\n",
       "         [0, 0, 0, 0, 4]],\n",
       "\n",
       "        [[0, 0, 0, 0, 0],\n",
       "         [0, 1, 0, 0, 0],\n",
       "         [0, 0, 2, 0, 0],\n",
       "         [0, 0, 0, 3, 0],\n",
       "         [0, 0, 0, 0, 4]]],\n",
       "\n",
       "\n",
       "       [[[0, 0, 0, 0, 0],\n",
       "         [0, 1, 0, 0, 0],\n",
       "         [0, 0, 2, 0, 0],\n",
       "         [0, 0, 0, 3, 0],\n",
       "         [0, 0, 0, 0, 4]],\n",
       "\n",
       "        [[0, 0, 0, 0, 0],\n",
       "         [0, 1, 0, 0, 0],\n",
       "         [0, 0, 2, 0, 0],\n",
       "         [0, 0, 0, 3, 0],\n",
       "         [0, 0, 0, 0, 4]],\n",
       "\n",
       "        [[0, 0, 0, 0, 0],\n",
       "         [0, 1, 0, 0, 0],\n",
       "         [0, 0, 2, 0, 0],\n",
       "         [0, 0, 0, 3, 0],\n",
       "         [0, 0, 0, 0, 4]],\n",
       "\n",
       "        [[0, 0, 0, 0, 0],\n",
       "         [0, 1, 0, 0, 0],\n",
       "         [0, 0, 2, 0, 0],\n",
       "         [0, 0, 0, 3, 0],\n",
       "         [0, 0, 0, 0, 4]],\n",
       "\n",
       "        [[0, 0, 0, 0, 0],\n",
       "         [0, 1, 0, 0, 0],\n",
       "         [0, 0, 2, 0, 0],\n",
       "         [0, 0, 0, 3, 0],\n",
       "         [0, 0, 0, 0, 4]],\n",
       "\n",
       "        [[0, 0, 0, 0, 0],\n",
       "         [0, 1, 0, 0, 0],\n",
       "         [0, 0, 2, 0, 0],\n",
       "         [0, 0, 0, 3, 0],\n",
       "         [0, 0, 0, 0, 4]],\n",
       "\n",
       "        [[0, 0, 0, 0, 0],\n",
       "         [0, 1, 0, 0, 0],\n",
       "         [0, 0, 2, 0, 0],\n",
       "         [0, 0, 0, 3, 0],\n",
       "         [0, 0, 0, 0, 4]],\n",
       "\n",
       "        [[0, 0, 0, 0, 0],\n",
       "         [0, 1, 0, 0, 0],\n",
       "         [0, 0, 2, 0, 0],\n",
       "         [0, 0, 0, 3, 0],\n",
       "         [0, 0, 0, 0, 4]],\n",
       "\n",
       "        [[0, 0, 0, 0, 0],\n",
       "         [0, 1, 0, 0, 0],\n",
       "         [0, 0, 2, 0, 0],\n",
       "         [0, 0, 0, 3, 0],\n",
       "         [0, 0, 0, 0, 4]],\n",
       "\n",
       "        [[0, 0, 0, 0, 0],\n",
       "         [0, 1, 0, 0, 0],\n",
       "         [0, 0, 2, 0, 0],\n",
       "         [0, 0, 0, 3, 0],\n",
       "         [0, 0, 0, 0, 4]]],\n",
       "\n",
       "\n",
       "       [[[0, 0, 0, 0, 0],\n",
       "         [0, 1, 0, 0, 0],\n",
       "         [0, 0, 2, 0, 0],\n",
       "         [0, 0, 0, 3, 0],\n",
       "         [0, 0, 0, 0, 4]],\n",
       "\n",
       "        [[0, 0, 0, 0, 0],\n",
       "         [0, 1, 0, 0, 0],\n",
       "         [0, 0, 2, 0, 0],\n",
       "         [0, 0, 0, 3, 0],\n",
       "         [0, 0, 0, 0, 4]],\n",
       "\n",
       "        [[0, 0, 0, 0, 0],\n",
       "         [0, 1, 0, 0, 0],\n",
       "         [0, 0, 2, 0, 0],\n",
       "         [0, 0, 0, 3, 0],\n",
       "         [0, 0, 0, 0, 4]],\n",
       "\n",
       "        [[0, 0, 0, 0, 0],\n",
       "         [0, 1, 0, 0, 0],\n",
       "         [0, 0, 2, 0, 0],\n",
       "         [0, 0, 0, 3, 0],\n",
       "         [0, 0, 0, 0, 4]],\n",
       "\n",
       "        [[0, 0, 0, 0, 0],\n",
       "         [0, 1, 0, 0, 0],\n",
       "         [0, 0, 2, 0, 0],\n",
       "         [0, 0, 0, 3, 0],\n",
       "         [0, 0, 0, 0, 4]],\n",
       "\n",
       "        [[0, 0, 0, 0, 0],\n",
       "         [0, 1, 0, 0, 0],\n",
       "         [0, 0, 2, 0, 0],\n",
       "         [0, 0, 0, 3, 0],\n",
       "         [0, 0, 0, 0, 4]],\n",
       "\n",
       "        [[0, 0, 0, 0, 0],\n",
       "         [0, 1, 0, 0, 0],\n",
       "         [0, 0, 2, 0, 0],\n",
       "         [0, 0, 0, 3, 0],\n",
       "         [0, 0, 0, 0, 4]],\n",
       "\n",
       "        [[0, 0, 0, 0, 0],\n",
       "         [0, 1, 0, 0, 0],\n",
       "         [0, 0, 2, 0, 0],\n",
       "         [0, 0, 0, 3, 0],\n",
       "         [0, 0, 0, 0, 4]],\n",
       "\n",
       "        [[0, 0, 0, 0, 0],\n",
       "         [0, 1, 0, 0, 0],\n",
       "         [0, 0, 2, 0, 0],\n",
       "         [0, 0, 0, 3, 0],\n",
       "         [0, 0, 0, 0, 4]],\n",
       "\n",
       "        [[0, 0, 0, 0, 0],\n",
       "         [0, 1, 0, 0, 0],\n",
       "         [0, 0, 2, 0, 0],\n",
       "         [0, 0, 0, 3, 0],\n",
       "         [0, 0, 0, 0, 4]]]])>"
      ]
     },
     "execution_count": 45,
     "metadata": {},
     "output_type": "execute_result"
    }
   ],
   "source": [
    "tf.linalg.diag(particles)"
   ]
  },
  {
   "cell_type": "code",
   "execution_count": 38,
   "metadata": {},
   "outputs": [
    {
     "ename": "AttributeError",
     "evalue": "module 'tensorflow' has no attribute 'map'",
     "output_type": "error",
     "traceback": [
      "\u001b[1;31m---------------------------------------------------------------------------\u001b[0m",
      "\u001b[1;31mAttributeError\u001b[0m                            Traceback (most recent call last)",
      "\u001b[1;32m<ipython-input-38-d2fdf04551ad>\u001b[0m in \u001b[0;36m<module>\u001b[1;34m\u001b[0m\n\u001b[1;32m----> 1\u001b[1;33m \u001b[0mtf\u001b[0m\u001b[1;33m.\u001b[0m\u001b[0mmap\u001b[0m\u001b[1;33m(\u001b[0m\u001b[0mtf\u001b[0m\u001b[1;33m.\u001b[0m\u001b[0mdiag\u001b[0m\u001b[1;33m,\u001b[0m \u001b[0mparticles\u001b[0m\u001b[1;33m)\u001b[0m\u001b[1;33m\u001b[0m\u001b[1;33m\u001b[0m\u001b[0m\n\u001b[0m",
      "\u001b[1;31mAttributeError\u001b[0m: module 'tensorflow' has no attribute 'map'"
     ]
    }
   ],
   "source": [
    "tf.map(tf.diag, particles)"
   ]
  },
  {
   "cell_type": "markdown",
   "metadata": {},
   "source": [
    "## Observation Model"
   ]
  },
  {
   "cell_type": "code",
   "execution_count": 10,
   "metadata": {},
   "outputs": [],
   "source": [
    "class SVObservationModel(LinearObservationSampler):\n",
    "    \n",
    "    def __init__(self, observation_matrix: tf.Tensor, error_rv: tfp.distributions.Distribution,\n",
    "                 name=\"SVObservationModel\"):\n",
    "        super(LinearObservationSampler, self).__init__(observation_matrix=observation_matrix,\n",
    "                                                       error_rv=error_rv,\n",
    "                                                       name=name)\n",
    "\n",
    "    def loglikelihood(self, state: State, observation: tf.Tensor):\n",
    "        \"\"\"Computes the loglikelihood of an observation given proposed particles\n",
    "        :param state: State\n",
    "            Proposed (predicted) state of the filter given State at t-1 and Observation\n",
    "        :param observation: ObservationBase\n",
    "            User/Process given observation\n",
    "        :return: a tensor of loglikelihoods for all particles\n",
    "        :rtype: tf.Tensor\n",
    "        \"\"\"\n",
    "        log_vol = state.particles\n",
    "        vol = tf.linalg.diag(tf.exp(log_vol/2))\n",
    "        vol_chol = tf.linalg.cholesky(vol)\n",
    "        f_dist = tfp.distributions.MultivariateNormalTriL(0., vol_chol)\n",
    "        \n",
    "        f = f_dist.sample()\n",
    "        phi_chol = tf.linalg.cholesky(phi)\n",
    "        obs_dist = tfp.distributions.MultivariateNormalTriL(B @ f, phi_chol)\n",
    "        observation = obs_dist.sample()\n",
    "        \n",
    "        \n",
    "        log_prob = dist.log_prob(observation)\n",
    "        return tf.reshape(log_prob, [batch_size, n_particles])\n",
    "\n",
    "    def sample(self, state: State):\n",
    "        \"\"\"Samples a new observation conditionally on latent state\n",
    "        :param state: State\n",
    "            State of the filter at t\n",
    "        :return: observartion \n",
    "        :rtype: Observation\n",
    "        \"\"\"\n",
    "        log_vol = state.particles\n",
    "        vol = tf.linalg.diag(tf.exp(log_vol/2))\n",
    "        vol_chol = tf.linalg.cholesky(vol)\n",
    "        f_dist = tfp.distributions.MultivariateNormalTriL(0., vol_chol)\n",
    "        \n",
    "        f = f_dist.sample()\n",
    "        phi_chol = tf.linalg.cholesky(phi)\n",
    "        obs_dist = tfp.distributions.MultivariateNormalTriL(B @ f, phi_chol)\n",
    "        observation = obs_dist.sample()\n",
    "        \n",
    "        return observation\n",
    "        "
   ]
  },
  {
   "cell_type": "code",
   "execution_count": null,
   "metadata": {},
   "outputs": [],
   "source": [
    "class LinearObservationSampler(LinearObservationModel, ObservationSampler):\n",
    "\n",
    "    def __init__(self, observation_matrix: tf.Tensor, error_rv: tfp.distributions.Distribution,\n",
    "                 name=\"LinearObservationSampler\"):\n",
    "        super(LinearObservationSampler, self).__init__(observation_matrix=observation_matrix,\n",
    "                                                       error_rv=error_rv,\n",
    "                                                       name=name)\n",
    "\n",
    "    def sample(self, state: State, inputs: tf.Tensor = tf.constant(0.)):\n",
    "        \"\"\"Samples a new proposed state conditionally on prior state and some inputs\n",
    "        :param state: State\n",
    "            State of the filter at t-1\n",
    "        :param inputs: tf.Tensor\n",
    "            Input for transition model\n",
    "        :return: sampled Observation\n",
    "        :rtype: Observation\n",
    "        \"\"\"\n",
    "        pushed_particles = tf.linalg.matvec(self._observation_matrix, state.particles)\n",
    "        observation = pushed_particles + self._error_rv.sample([state.batch_size, state.n_particles])\n",
    "        return observation"
   ]
  },
  {
   "cell_type": "code",
   "execution_count": 11,
   "metadata": {},
   "outputs": [],
   "source": [
    "observation_model = SVObservationModel()"
   ]
  },
  {
   "cell_type": "markdown",
   "metadata": {},
   "source": [
    "## State Space Model"
   ]
  },
  {
   "cell_type": "code",
   "execution_count": 12,
   "metadata": {},
   "outputs": [],
   "source": [
    "initial_value = tfp.distributions.Normal(0., 1.).sample()* tf.sqrt(sig**2 / (1-phi**2))\n",
    "ss_model = StateSpaceModel(observation_model=observation_model, transition_model=transition_model)\n",
    "states, observations = ss_model(initial_value, T)"
   ]
  },
  {
   "cell_type": "code",
   "execution_count": 13,
   "metadata": {},
   "outputs": [
    {
     "data": {
      "image/png": "[encoded data removed]",
      "text/plain": [
       "<Figure size 720x360 with 1 Axes>"
      ]
     },
     "metadata": {
      "needs_background": "light"
     },
     "output_type": "display_data"
    }
   ],
   "source": [
    "np_obs = np.array([observations[t].numpy().squeeze() for t in range(T)])\n",
    "np_states = np.array([states[t].particles.numpy().squeeze() for t in range(T)])\n",
    "\n",
    "linspace  = np.arange(T)\n",
    "fig, axes = plt.subplots(nrows=1, figsize=(10, 5))\n",
    "axes.plot(linspace, np_obs, marker='o', color='g', label='observations')\n",
    "#axes.plot(np_states[:, 1], color='b', label='$h_t$')\n",
    "_ = axes.legend(loc='upper left')\n",
    "_ = fig.suptitle('Simulated Returns Observations', fontsize=15)"
   ]
  },
  {
   "cell_type": "code",
   "execution_count": 14,
   "metadata": {},
   "outputs": [],
   "source": [
    "obs_data = tf.data.Dataset.from_tensor_slices(observations)"
   ]
  },
  {
   "cell_type": "code",
   "execution_count": null,
   "metadata": {},
   "outputs": [],
   "source": []
  },
  {
   "cell_type": "markdown",
   "metadata": {},
   "source": [
    "## Particle Filter"
   ]
  },
  {
   "cell_type": "code",
   "execution_count": 15,
   "metadata": {},
   "outputs": [],
   "source": [
    "# store observations\n",
    "batch_size = 1\n",
    "n_particles = 100\n",
    "dimension = 1"
   ]
  },
  {
   "cell_type": "code",
   "execution_count": 16,
   "metadata": {},
   "outputs": [],
   "source": [
    "# initial state\n",
    "normal_dist = tfp.distributions.Normal(0., 1.)\n",
    "initial_particles = normal_dist.sample( [batch_size, n_particles, state_dim])* tf.sqrt(sig**2 / (1-phi**2))\n",
    "\n",
    "initial_particles = tf.cast(initial_particles, dtype=float)\n",
    "\n",
    "initial_weights = tf.ones((batch_size, n_particles), dtype=float) / tf.cast(n_particles, float)\n",
    "log_likelihoods = tf.zeros(batch_size, dtype=float)\n",
    "initial_state = State(particles=initial_particles, \n",
    "                      log_weights = tf.math.log(initial_weights),\n",
    "                      weights=initial_weights, \n",
    "                      log_likelihoods=log_likelihoods)"
   ]
  },
  {
   "cell_type": "code",
   "execution_count": 17,
   "metadata": {},
   "outputs": [],
   "source": [
    "# proposal\n",
    "proposal_model = BootstrapProposalModel(transition_model)\n",
    "\n",
    "# resampling\n",
    "resampling_criterion = NeffCriterion(tf.constant(0.5), tf.constant(True))\n",
    "systematic = SystematicResampler()\n",
    "multinomial = MultinomialResampler()\n",
    "\n",
    "\n",
    "epsilon = tf.constant(0.25)\n",
    "scaling = tf.constant(0.9)\n",
    "\n",
    "regularized = RegularisedTransform(epsilon, scaling=scaling, max_iter=1000, convergence_threshold=1e-4)\n",
    "solver = RicattiSolver(0.2, 10., 1e-3)\n",
    "corrected = CorrectedRegularizedTransform(epsilon, scaling=scaling, max_iter=1000, convergence_threshold=1e-4, ricatti_solver=solver, propagate_correction_gradient=False)\n"
   ]
  },
  {
   "cell_type": "code",
   "execution_count": 18,
   "metadata": {},
   "outputs": [],
   "source": [
    "particle_filter = SMC(observation_model, transition_model, proposal_model, resampling_criterion, systematic)"
   ]
  },
  {
   "cell_type": "code",
   "execution_count": 19,
   "metadata": {},
   "outputs": [],
   "source": [
    "recorded_states = particle_filter(initial_state, observation_series=obs_data, n_observations=T)"
   ]
  },
  {
   "cell_type": "code",
   "execution_count": 20,
   "metadata": {},
   "outputs": [],
   "source": [
    "recorded_states  = attr.evolve(recorded_states)"
   ]
  },
  {
   "cell_type": "code",
   "execution_count": 21,
   "metadata": {},
   "outputs": [],
   "source": [
    "# compute states\n",
    "computed_states = []\n",
    "for t, observation in enumerate(observations):\n",
    "    state = recorded_states.read(tf.constant(t, dtype=tf.int32))\n",
    "    log_weights = state.log_weights.numpy()\n",
    "    particles = state.particles.numpy()[:,:,0]\n",
    "    weights = np.exp(log_weights)\n",
    "    computed_state = np.sum((weights * particles), axis=1)\n",
    "    computed_states.append(computed_state)\n",
    "    \n",
    "computed_states = np.array(computed_states).flatten()"
   ]
  },
  {
   "cell_type": "code",
   "execution_count": 22,
   "metadata": {},
   "outputs": [],
   "source": [
    "ht = np.array([state.particles.numpy() for state in states]).squeeze()"
   ]
  },
  {
   "cell_type": "code",
   "execution_count": 23,
   "metadata": {},
   "outputs": [
    {
     "data": {
      "text/plain": [
       "[<matplotlib.lines.Line2D at 0x24f0dc152c8>]"
      ]
     },
     "execution_count": 23,
     "metadata": {},
     "output_type": "execute_result"
    },
    {
     "data": {
      "image/png": "[encoded data removed]",
      "text/plain": [
       "<Figure size 432x288 with 1 Axes>"
      ]
     },
     "metadata": {
      "needs_background": "light"
     },
     "output_type": "display_data"
    }
   ],
   "source": [
    "plt.plot(ht)\n",
    "plt.plot(computed_states)"
   ]
  }
 ],
 "metadata": {
  "kernelspec": {
   "display_name": "venv",
   "language": "python",
   "name": "venv"
  },
  "language_info": {
   "codemirror_mode": {
    "name": "ipython",
    "version": 3
   },
   "file_extension": ".py",
   "mimetype": "text/x-python",
   "name": "python",
   "nbconvert_exporter": "python",
   "pygments_lexer": "ipython3",
   "version": "3.7.4"
  }
 },
 "nbformat": 4,
 "nbformat_minor": 4
}
