{
 "cells": [
  {
   "cell_type": "code",
   "execution_count": 1,
   "metadata": {},
   "outputs": [],
   "source": [
    "import os, sys\n"
   ]
  },
  {
   "cell_type": "code",
   "execution_count": 2,
   "metadata": {},
   "outputs": [],
   "source": [
    "import tensorflow as tf\n",
    "import tensorflow_probability as tfp\n",
    "tfd = tfp.distributions\n",
    "import matplotlib.pyplot as plt\n",
    "import numpy as np\n",
    "import seaborn\n",
    "seaborn.set()"
   ]
  },
  {
   "cell_type": "code",
   "execution_count": 3,
   "metadata": {},
   "outputs": [],
   "source": [
    "# add to path\n",
    "sys.path.append(\"../..\")\n",
    "from filterflow.filter import ParticleFilter\n",
    "from filterflow.base import State, ObservationBase, InputsBase\n",
    "from filterflow.observation.linear import LinearObservation, LinearObservationModel\n",
    "from filterflow.transition.random_walk import RandomWalkModel\n",
    "from filterflow.proposal.base import BootstrapProposalModel\n",
    "from filterflow.resampling.criterion import NeffCriterion\n",
    "from filterflow.resampling.standard.systematic import SystematicResampler"
   ]
  },
  {
   "cell_type": "code",
   "execution_count": 4,
   "metadata": {},
   "outputs": [],
   "source": [
    "class GHMMOutput(object):\n",
    "    __slots__ = ('observations', 'states')\n",
    "    def __init__(self, observations: np.ndarray, states: np.ndarray):\n",
    "        self.observations = observations\n",
    "        self.states = states\n",
    "\n",
    "# Definition of the dynamic model\n",
    "class GHMM(object):\n",
    "    def __init__(self, \n",
    "                 initial_state: np.ndarray,\n",
    "                 transition_matrix: np.ndarray, \n",
    "                 transition_covariance: np.ndarray,\n",
    "                 observation_matrix: np.ndarray,\n",
    "                 observation_covariance: np.ndarray,\n",
    "                 seed: int = None):\n",
    "        \"\"\"\n",
    "        Construction method\n",
    "        Parameters\n",
    "        ----------\n",
    "\n",
    "        \"\"\"\n",
    "        self.dim = initial_state.shape[0]\n",
    "        self.initial_state = initial_state\n",
    "                \n",
    "        self.transition_matrix = transition_matrix\n",
    "        self.transition_covariance = transition_covariance\n",
    "        \n",
    "        self.observation_matrix = observation_matrix\n",
    "        self.observation_covariance = observation_covariance\n",
    "        \n",
    "        self.random_seed = seed\n",
    "                \n",
    "    def sample_latent_state(self, T):\n",
    "        latent_state = self.initial_state\n",
    "        random_samples =  np.random.multivariate_normal(np.repeat(0., self.dim), self.transition_covariance, T)\n",
    "        \n",
    "        latent_state_ts = []\n",
    "        latent_state_ts.append(latent_state)\n",
    "        for i, random_sample in enumerate(random_samples):\n",
    "            latent_state = self.transition_matrix @ latent_state\n",
    "            latent_state += random_sample\n",
    "            latent_state_ts.append(latent_state)\n",
    "        return np.array(latent_state_ts)\n",
    "        \n",
    "    def get_observation(self, latent_space_ts):\n",
    "        T = latent_space_ts.shape[0]\n",
    "        no_noise = np.einsum('ij,kj->ki', self.observation_matrix, latent_space_ts)\n",
    "        return no_noise + np.random.multivariate_normal(np.repeat(0., self.dim), self.observation_covariance, T)\n",
    "    \n",
    "    def sample(self, N: int) -> GHMMOutput:\n",
    "        \"\"\"\n",
    "        Samples n steps of the model\n",
    "        Parameters\n",
    "        ----------\n",
    "        N: int\n",
    "            total number of steps\n",
    "        \n",
    "        Returns\n",
    "        -------\n",
    "        ResonatorOutput from the parametrised process\n",
    "        \"\"\"\n",
    "        latent_time_series = self.sample_latent_state(N)\n",
    "        observations = self.get_observation(latent_time_series)\n",
    "        return GHMMOutput(observations, latent_time_series)"
   ]
  },
  {
   "cell_type": "code",
   "execution_count": 90,
   "metadata": {},
   "outputs": [],
   "source": [
    "dim = 2\n",
    "T = 10\n",
    "initial_state          = np.repeat(0., dim)\n",
    "transition_matrix      = np.eye(dim) * 0.5\n",
    "transition_covariance  = np.eye(dim) \n",
    "observation_matrix     = np.eye(dim) *0.5\n",
    "observation_covariance = np.eye(dim)*0.1"
   ]
  },
  {
   "cell_type": "code",
   "execution_count": 91,
   "metadata": {},
   "outputs": [],
   "source": [
    "linear_ss = GHMM(initial_state=initial_state, \n",
    "                 transition_matrix=transition_matrix,\n",
    "                 transition_covariance=transition_covariance,\n",
    "                 observation_matrix=observation_matrix,\n",
    "                 observation_covariance=observation_covariance)"
   ]
  },
  {
   "cell_type": "code",
   "execution_count": 92,
   "metadata": {},
   "outputs": [],
   "source": [
    "ghmm_output = linear_ss.sample(T)"
   ]
  },
  {
   "cell_type": "code",
   "execution_count": 93,
   "metadata": {},
   "outputs": [],
   "source": [
    "observation_error = tfd.MultivariateNormalFullCovariance(np.array([0.,0.], dtype = np.float32),\n",
    "                                                         linear_ss.observation_covariance.astype(np.float32))\n",
    "\n",
    "\n",
    "observation_model = LinearObservationModel(tf.constant(linear_ss.observation_matrix.astype(np.float32)), \n",
    "                                           observation_error)"
   ]
  },
  {
   "cell_type": "code",
   "execution_count": 94,
   "metadata": {},
   "outputs": [],
   "source": [
    "transition_noise = tfd.MultivariateNormalFullCovariance(np.array([0., 0.], dtype=np.float32), \n",
    "                                                      linear_ss.transition_covariance.astype(np.float32))\n",
    "\n",
    "transition_model = RandomWalkModel(tf.constant(linear_ss.transition_matrix.astype(np.float32)), \n",
    "                                   transition_noise)\n",
    "\n",
    "proposal_model = BootstrapProposalModel(transition_model)"
   ]
  },
  {
   "cell_type": "code",
   "execution_count": 95,
   "metadata": {},
   "outputs": [],
   "source": [
    "resampling_criterion = NeffCriterion(0.5, is_relative=True)\n",
    "resampling_method = SystematicResampler(on_log=True)"
   ]
  },
  {
   "cell_type": "code",
   "execution_count": 96,
   "metadata": {},
   "outputs": [],
   "source": [
    "particle_filter = ParticleFilter(observation_model, \n",
    "                                 transition_model, proposal_model, resampling_criterion, resampling_method)"
   ]
  },
  {
   "cell_type": "code",
   "execution_count": null,
   "metadata": {},
   "outputs": [],
   "source": []
  },
  {
   "cell_type": "code",
   "execution_count": null,
   "metadata": {},
   "outputs": [],
   "source": []
  },
  {
   "cell_type": "code",
   "execution_count": 97,
   "metadata": {},
   "outputs": [],
   "source": [
    "import time\n",
    "\n",
    "n_particles = 100\n",
    "batch_size = 1\n",
    "\n",
    "\n",
    "    \n",
    "weights = tf.ones((batch_size, n_particles), dtype= np.float32)/n_particles\n",
    "initial_particles = tf.random.uniform((batch_size, n_particles, dim), -1, 1)\n",
    "state = State(batch_size, n_particles, dim, initial_particles, weights=weights, check_shapes=True)\n",
    "\n",
    "# forward run\n",
    "record_states = []\n",
    "time.sleep(0.5)\n",
    "for t, observation_value in enumerate(ghmm_output.observations):\n",
    "    observation = LinearObservation(tf.constant(np.array([observation_value], dtype=np.float32)), dim)\n",
    "    input_ = None\n",
    "    state = particle_filter.propose_and_update(state, observation, input_)\n",
    "    record_states.append(state)\n",
    "    \n",
    "# compute states\n",
    "computed_states = []\n",
    "for state in record_states:\n",
    "    log_weights = state.log_weights.numpy()\n",
    "    particles = state.particles.numpy()[:,:,0]\n",
    "    weights = np.exp(log_weights)\n",
    "    computed_state = np.sum((weights * particles), axis=1)\n",
    "    computed_states.append(computed_state)\n",
    "    \n",
    "computed_states = np.array(computed_states).flatten()\n"
   ]
  },
  {
   "cell_type": "code",
   "execution_count": 98,
   "metadata": {},
   "outputs": [
    {
     "data": {
      "application/vnd.jupyter.widget-view+json": {
       "model_id": "3b46640561e945608a677c7fab0bcd0a",
       "version_major": 2,
       "version_minor": 0
      },
      "text/plain": [
       "Figure(axes=[Axis(label='t', scale=LinearScale(max=11.0, min=0.0)), Axis(label='cos', orientation='vertical', …"
      ]
     },
     "metadata": {},
     "output_type": "display_data"
    }
   ],
   "source": [
    "import numpy as np\n",
    "import bqplot.pyplot as plt\n",
    "from bqplot import LinearScale, Axis, Lines, Bars, Figure\n",
    "axes_options = {'x': {'label': 't'}, 'y': {'label': 'cos'}}\n",
    "fig = plt.figure(animation_duration=0)\n",
    "lines = plt.plot(\n",
    "                x=np.linspace(0, len(ghmm_output.observations), len(ghmm_output.observations)), \n",
    "                y=ghmm_output.observations[:,0], \n",
    "                colors=['red'], \n",
    "                axes_options=axes_options)\n",
    "\n",
    "computed_lin = plt.plot(\n",
    "                x=np.linspace(0, len(ghmm_output.observations), len(ghmm_output.observations)), \n",
    "                y=computed_states, \n",
    "                colors=['green'], \n",
    "                axes_options=axes_options)\n",
    "\n",
    "scatt = plt.scatter([], [], colors=['blue'], axes_options=axes_options)\n",
    "\n",
    "\n",
    "max_y = np.max([computed_states,ghmm_output.observations[:,0]])\n",
    "min_y = np.min([computed_states,ghmm_output.observations[:,0]])\n",
    "\n",
    "plt.set_lim(min_y, max_y, 'y')\n",
    "plt.set_lim(0, len(ghmm_output.observations), 'x')\n",
    "\n",
    "fig"
   ]
  },
  {
   "cell_type": "code",
   "execution_count": null,
   "metadata": {},
   "outputs": [],
   "source": []
  },
  {
   "cell_type": "code",
   "execution_count": 99,
   "metadata": {},
   "outputs": [],
   "source": [
    "jitter = np.random.normal(0., 0.25, n_particles)\n",
    "\n",
    "for t, state in enumerate(record_states):\n",
    "    t += 1\n",
    "    log_weights = state.log_weights.numpy()\n",
    "    particles = state.particles.numpy()[0,:,0]\n",
    "    weights = np.exp(log_weights)\n",
    "    scatt.x = t + jitter\n",
    "    scatt.y = particles\n",
    "    scatt.s = weights * 10.\n",
    "    time.sleep(0.3)\n",
    "    "
   ]
  },
  {
   "cell_type": "code",
   "execution_count": 100,
   "metadata": {},
   "outputs": [
    {
     "data": {
      "text/plain": [
       "array([ 0.4880265 , -0.83536875, -0.8740517 , -0.6234495 , -0.5597907 ,\n",
       "       -1.6155263 , -1.3193455 , -0.16274059, -0.36087704,  1.1862535 ,\n",
       "        1.172001  ], dtype=float32)"
      ]
     },
     "execution_count": 100,
     "metadata": {},
     "output_type": "execute_result"
    }
   ],
   "source": [
    "computed_states"
   ]
  },
  {
   "cell_type": "code",
   "execution_count": 101,
   "metadata": {},
   "outputs": [
    {
     "data": {
      "text/plain": [
       "1.4639290390672062"
      ]
     },
     "execution_count": 101,
     "metadata": {},
     "output_type": "execute_result"
    }
   ],
   "source": [
    "max_y"
   ]
  },
  {
   "cell_type": "code",
   "execution_count": 102,
   "metadata": {},
   "outputs": [
    {
     "data": {
      "application/vnd.jupyter.widget-view+json": {
       "model_id": "07336e3c1fe24c449900bad6bbb7db5e",
       "version_major": 2,
       "version_minor": 0
      },
      "text/plain": [
       "Figure(axes=[Axis(label='t', scale=LinearScale(max=11.0, min=0.0)), Axis(label='cos', orientation='vertical', …"
      ]
     },
     "metadata": {},
     "output_type": "display_data"
    }
   ],
   "source": [
    "import numpy as np\n",
    "import bqplot.pyplot as plt\n",
    "from bqplot import LinearScale, Axis, Lines, Bars, Figure\n",
    "axes_options = {'x': {'label': 't'}, 'y': {'label': 'cos'}}\n",
    "fig = plt.figure(animation_duration=0)\n",
    "lines = plt.plot(\n",
    "                x=np.linspace(0, len(ghmm_output.observations), len(ghmm_output.observations)), \n",
    "                y=ghmm_output.observations[:,0], \n",
    "                colors=['red'], \n",
    "                axes_options=axes_options)\n",
    "\n",
    "scatt = plt.scatter([], [], colors=['blue'], axes_options=axes_options)\n",
    "scatt2 = plt.scatter([], [], colors=['green'], axes_options=axes_options)\n",
    "\n",
    "plt.set_lim(-4., 4., 'y')\n",
    "plt.set_lim(0, len(ghmm_output.observations), 'x')\n",
    "\n",
    "fig\n"
   ]
  },
  {
   "cell_type": "code",
   "execution_count": 103,
   "metadata": {},
   "outputs": [],
   "source": [
    "computed_states = []\n",
    "for state in record_states:\n",
    "    log_weights = state.log_weights.numpy()\n",
    "    particles = state.particles.numpy()[:,:,0]\n",
    "    weights = np.exp(log_weights)\n",
    "    computed_state = np.sum((weights * particles), axis=1)\n",
    "    computed_states.append(computed_state)\n",
    "    \n",
    "computed_states = np.array(computed_states).flatten()"
   ]
  },
  {
   "cell_type": "code",
   "execution_count": null,
   "metadata": {},
   "outputs": [],
   "source": []
  },
  {
   "cell_type": "code",
   "execution_count": 104,
   "metadata": {},
   "outputs": [
    {
     "data": {
      "application/vnd.jupyter.widget-view+json": {
       "model_id": "ec3c353a87954739a61238822c9802ab",
       "version_major": 2,
       "version_minor": 0
      },
      "text/plain": [
       "Figure(axes=[Axis(label='t', scale=LinearScale(max=11.0, min=0.0)), Axis(label='cos', orientation='vertical', …"
      ]
     },
     "metadata": {},
     "output_type": "display_data"
    }
   ],
   "source": [
    "axes_options = {'x': {'label': 't'}, 'y': {'label': 'cos'}}\n",
    "fig = plt.figure(animation_duration=0)\n",
    "lines = plt.plot(\n",
    "                x=np.linspace(0, len(ghmm_output.observations), len(ghmm_output.observations)), \n",
    "                y=ghmm_output.observations[:,0], \n",
    "                colors=['red'], \n",
    "                axes_options=axes_options)\n",
    "\n",
    "state_line = plt.plot(\n",
    "                x=np.linspace(0, len(ghmm_output.observations), len(ghmm_output.observations)), \n",
    "                y=computed_states, \n",
    "                colors=['green'], \n",
    "                axes_options=axes_options)\n",
    "\n",
    "scatt = plt.scatter([], [], colors=['blue'], axes_options=axes_options)\n",
    "plt.set_lim(-4., 4., 'y')\n",
    "plt.set_lim(0, len(ghmm_output.observations), 'x')\n",
    "\n",
    "fig"
   ]
  }
 ],
 "metadata": {
  "kernelspec": {
   "display_name": "venv",
   "language": "python",
   "name": "venv"
  },
  "language_info": {
   "codemirror_mode": {
    "name": "ipython",
    "version": 3
   },
   "file_extension": ".py",
   "mimetype": "text/x-python",
   "name": "python",
   "nbconvert_exporter": "python",
   "pygments_lexer": "ipython3",
   "version": "3.7.4"
  }
 },
 "nbformat": 4,
 "nbformat_minor": 4
}
