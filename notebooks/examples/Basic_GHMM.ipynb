{
 "cells": [
  {
   "cell_type": "code",
   "execution_count": 1,
   "metadata": {},
   "outputs": [],
   "source": [
    "import os, sys\n",
    "import attr\n",
    "# add to path\n",
    "sys.path.append(\"../..\")"
   ]
  },
  {
   "cell_type": "code",
   "execution_count": 2,
   "metadata": {},
   "outputs": [],
   "source": [
    "import tensorflow as tf\n",
    "import tensorflow_probability as tfp\n",
    "tfd = tfp.distributions\n",
    "import matplotlib.pyplot as plt\n",
    "import numpy as np\n",
    "import seaborn\n",
    "from PIL import Image\n",
    "seaborn.set()"
   ]
  },
  {
   "cell_type": "code",
   "execution_count": 3,
   "metadata": {},
   "outputs": [],
   "source": [
    "\n",
    "from filterflow.smc import SMC\n",
    "from filterflow.base import State, Observation, InputsBase, StateSeries, DTYPE_TO_OBSERVATION_SERIES\n",
    "\n",
    "from filterflow.observation.linear import LinearObservationModel\n",
    "from filterflow.observation.base import ObservationSampler\n",
    "\n",
    "from filterflow.transition.random_walk import RandomWalkModel\n",
    "from filterflow.proposal.base import BootstrapProposalModel\n",
    "\n",
    "from filterflow.resampling.criterion import NeffCriterion, AlwaysResample\n",
    "from filterflow.resampling.standard.systematic import SystematicResampler\n",
    "from filterflow.resampling.standard.multinomial import MultinomialResampler\n",
    "\n",
    "from filterflow.resampling.base import NoResampling\n",
    "\n",
    "from filterflow.state_space_model import StateSpaceModel"
   ]
  },
  {
   "cell_type": "markdown",
   "metadata": {},
   "source": [
    "# Define State Space Model"
   ]
  },
  {
   "cell_type": "markdown",
   "metadata": {},
   "source": [
    "## Specify linear dynamic"
   ]
  },
  {
   "cell_type": "code",
   "execution_count": 4,
   "metadata": {},
   "outputs": [],
   "source": [
    "observation_dim = 2\n",
    "state_dim = 2\n",
    "T = 150\n",
    "initial_state          = np.repeat(0., state_dim)\n",
    "transition_matrix      = np.eye(state_dim) * 0.5\n",
    "transition_covariance  = np.eye(state_dim) * 0.5\n",
    "observation_matrix     = np.eye(observation_dim) *0.5\n",
    "observation_covariance = np.eye(observation_dim)*0.1"
   ]
  },
  {
   "cell_type": "code",
   "execution_count": 5,
   "metadata": {},
   "outputs": [],
   "source": [
    "tf_observation_matrix = tf.constant(observation_matrix, dtype = tf.float32)\n",
    "tf_observation_covariance = tf.constant(observation_covariance, dtype = tf.float32)\n",
    "\n",
    "\n",
    "tf_transition_matrix = tf.constant(transition_matrix, dtype = tf.float32)\n",
    "tf_transition_covariance =  tf.constant(transition_covariance, dtype = tf.float32)"
   ]
  },
  {
   "cell_type": "markdown",
   "metadata": {},
   "source": [
    "## Observation Model + Sampler"
   ]
  },
  {
   "cell_type": "code",
   "execution_count": 6,
   "metadata": {},
   "outputs": [],
   "source": [
    "class GaussianObservations(ObservationSampler):\n",
    "    \n",
    "    def __init__(self, observation_matrix, observation_covariance):\n",
    "        \n",
    "        obs_dim = observation_matrix.shape.as_list()[0]\n",
    "        self._observation_error = tfd.MultivariateNormalTriL(tf.constant(np.repeat(0., obs_dim), dtype = tf.float32),\n",
    "                                                            observation_covariance)\n",
    "    \n",
    "        self._observation_matrix = observation_matrix\n",
    "\n",
    "    def loglikelihood(self, state: State, observation: Observation):\n",
    "        \"\"\"Computes the loglikelihood of an observation given proposed particles\n",
    "        :param state: State\n",
    "            Proposed (predicted) state of the filter given State at t-1 and Observation\n",
    "        :param observation: Observation\n",
    "            User/Process given observation\n",
    "        :return: a tensor of loglikelihoods for all particles\n",
    "        :rtype: tf.Tensor\n",
    "        \"\"\"\n",
    "        error = observation.observation - tf.linalg.matvec(self._observation_matrix, state.particles)\n",
    "        return self._observation_error.log_prob(error)\n",
    "    \n",
    "    def sample(self, state: State, inputs: InputsBase=None):\n",
    "        \"\"\"Samples a new proposed state conditionally on prior state and some inputs\n",
    "        :param state: State\n",
    "            State of the filter at t-1\n",
    "        :param inputs: InputsBase\n",
    "            Input for transition model\n",
    "        :return: sampled Observation\n",
    "        :rtype: Observation\n",
    "        \"\"\"\n",
    "        pushed_particles = tf.linalg.matvec(self._observation_matrix, state.particles)\n",
    "        res = pushed_particles + self._observation_error.sample([state.batch_size, state.n_particles])\n",
    "        return Observation(res)\n",
    "        \n"
   ]
  },
  {
   "cell_type": "code",
   "execution_count": 7,
   "metadata": {},
   "outputs": [],
   "source": [
    "observation_model = GaussianObservations(tf_observation_matrix, tf_observation_covariance)"
   ]
  },
  {
   "cell_type": "markdown",
   "metadata": {},
   "source": [
    "## Transition"
   ]
  },
  {
   "cell_type": "code",
   "execution_count": 8,
   "metadata": {},
   "outputs": [],
   "source": [
    "state_dim = tf_transition_covariance.shape.as_list()[0]\n",
    "transition_noise = tfd.MultivariateNormalTriL(tf.constant(np.repeat(0., state_dim), dtype=tf.float32), \n",
    "                                                                    tf_transition_covariance)\n",
    "\n",
    "transition_model = RandomWalkModel(tf_transition_matrix, transition_noise)"
   ]
  },
  {
   "cell_type": "markdown",
   "metadata": {},
   "source": [
    "## State Space"
   ]
  },
  {
   "cell_type": "code",
   "execution_count": 9,
   "metadata": {},
   "outputs": [],
   "source": [
    "ss_model = StateSpaceModel(observation_model=observation_model, transition_model=transition_model)"
   ]
  },
  {
   "cell_type": "code",
   "execution_count": 10,
   "metadata": {},
   "outputs": [],
   "source": [
    "initial_particle = tf.constant(np.random.random(2), dtype = tf.float32)"
   ]
  },
  {
   "cell_type": "code",
   "execution_count": 11,
   "metadata": {},
   "outputs": [],
   "source": [
    "states, observations = ss_model(initial_particle, T)"
   ]
  },
  {
   "cell_type": "code",
   "execution_count": 12,
   "metadata": {},
   "outputs": [
    {
     "ename": "AttributeError",
     "evalue": "'numpy.ndarray' object has no attribute 'read'",
     "output_type": "error",
     "traceback": [
      "\u001b[1;31m---------------------------------------------------------------------------\u001b[0m",
      "\u001b[1;31mAttributeError\u001b[0m                            Traceback (most recent call last)",
      "\u001b[1;32m<ipython-input-12-28577850c7d9>\u001b[0m in \u001b[0;36m<module>\u001b[1;34m\u001b[0m\n\u001b[1;32m----> 1\u001b[1;33m \u001b[0mnp_obs\u001b[0m \u001b[1;33m=\u001b[0m \u001b[0mnp\u001b[0m\u001b[1;33m.\u001b[0m\u001b[0marray\u001b[0m\u001b[1;33m(\u001b[0m\u001b[1;33m[\u001b[0m\u001b[0mobservations\u001b[0m\u001b[1;33m.\u001b[0m\u001b[0mread\u001b[0m\u001b[1;33m(\u001b[0m\u001b[0mt\u001b[0m\u001b[1;33m)\u001b[0m\u001b[1;33m.\u001b[0m\u001b[0mobservation\u001b[0m\u001b[1;33m.\u001b[0m\u001b[0mnumpy\u001b[0m\u001b[1;33m(\u001b[0m\u001b[1;33m)\u001b[0m\u001b[1;33m.\u001b[0m\u001b[0msqueeze\u001b[0m\u001b[1;33m(\u001b[0m\u001b[1;33m)\u001b[0m \u001b[1;32mfor\u001b[0m \u001b[0mt\u001b[0m \u001b[1;32min\u001b[0m \u001b[0mrange\u001b[0m\u001b[1;33m(\u001b[0m\u001b[0mT\u001b[0m\u001b[1;33m)\u001b[0m\u001b[1;33m]\u001b[0m\u001b[1;33m)\u001b[0m\u001b[1;33m\u001b[0m\u001b[1;33m\u001b[0m\u001b[0m\n\u001b[0m\u001b[0;32m      2\u001b[0m \u001b[0mnp_states\u001b[0m \u001b[1;33m=\u001b[0m \u001b[0mnp\u001b[0m\u001b[1;33m.\u001b[0m\u001b[0marray\u001b[0m\u001b[1;33m(\u001b[0m\u001b[1;33m[\u001b[0m\u001b[0mstates\u001b[0m\u001b[1;33m.\u001b[0m\u001b[0mread\u001b[0m\u001b[1;33m(\u001b[0m\u001b[0mt\u001b[0m\u001b[1;33m)\u001b[0m\u001b[1;33m.\u001b[0m\u001b[0mparticles\u001b[0m\u001b[1;33m.\u001b[0m\u001b[0mnumpy\u001b[0m\u001b[1;33m(\u001b[0m\u001b[1;33m)\u001b[0m\u001b[1;33m.\u001b[0m\u001b[0msqueeze\u001b[0m\u001b[1;33m(\u001b[0m\u001b[1;33m)\u001b[0m \u001b[1;32mfor\u001b[0m \u001b[0mt\u001b[0m \u001b[1;32min\u001b[0m \u001b[0mrange\u001b[0m\u001b[1;33m(\u001b[0m\u001b[0mT\u001b[0m\u001b[1;33m)\u001b[0m\u001b[1;33m]\u001b[0m\u001b[1;33m)\u001b[0m\u001b[1;33m\u001b[0m\u001b[1;33m\u001b[0m\u001b[0m\n\u001b[0;32m      3\u001b[0m \u001b[1;33m\u001b[0m\u001b[0m\n\u001b[0;32m      4\u001b[0m \u001b[1;33m\u001b[0m\u001b[0m\n\u001b[0;32m      5\u001b[0m \u001b[0mlinspace\u001b[0m  \u001b[1;33m=\u001b[0m \u001b[0mnp\u001b[0m\u001b[1;33m.\u001b[0m\u001b[0marange\u001b[0m\u001b[1;33m(\u001b[0m\u001b[0mnp_obs\u001b[0m\u001b[1;33m[\u001b[0m\u001b[1;33m:\u001b[0m\u001b[1;33m,\u001b[0m\u001b[1;36m0\u001b[0m\u001b[1;33m]\u001b[0m\u001b[1;33m.\u001b[0m\u001b[0mshape\u001b[0m\u001b[1;33m[\u001b[0m\u001b[1;36m0\u001b[0m\u001b[1;33m]\u001b[0m\u001b[1;33m)\u001b[0m\u001b[1;33m\u001b[0m\u001b[1;33m\u001b[0m\u001b[0m\n",
      "\u001b[1;32m<ipython-input-12-28577850c7d9>\u001b[0m in \u001b[0;36m<listcomp>\u001b[1;34m(.0)\u001b[0m\n\u001b[1;32m----> 1\u001b[1;33m \u001b[0mnp_obs\u001b[0m \u001b[1;33m=\u001b[0m \u001b[0mnp\u001b[0m\u001b[1;33m.\u001b[0m\u001b[0marray\u001b[0m\u001b[1;33m(\u001b[0m\u001b[1;33m[\u001b[0m\u001b[0mobservations\u001b[0m\u001b[1;33m.\u001b[0m\u001b[0mread\u001b[0m\u001b[1;33m(\u001b[0m\u001b[0mt\u001b[0m\u001b[1;33m)\u001b[0m\u001b[1;33m.\u001b[0m\u001b[0mobservation\u001b[0m\u001b[1;33m.\u001b[0m\u001b[0mnumpy\u001b[0m\u001b[1;33m(\u001b[0m\u001b[1;33m)\u001b[0m\u001b[1;33m.\u001b[0m\u001b[0msqueeze\u001b[0m\u001b[1;33m(\u001b[0m\u001b[1;33m)\u001b[0m \u001b[1;32mfor\u001b[0m \u001b[0mt\u001b[0m \u001b[1;32min\u001b[0m \u001b[0mrange\u001b[0m\u001b[1;33m(\u001b[0m\u001b[0mT\u001b[0m\u001b[1;33m)\u001b[0m\u001b[1;33m]\u001b[0m\u001b[1;33m)\u001b[0m\u001b[1;33m\u001b[0m\u001b[1;33m\u001b[0m\u001b[0m\n\u001b[0m\u001b[0;32m      2\u001b[0m \u001b[0mnp_states\u001b[0m \u001b[1;33m=\u001b[0m \u001b[0mnp\u001b[0m\u001b[1;33m.\u001b[0m\u001b[0marray\u001b[0m\u001b[1;33m(\u001b[0m\u001b[1;33m[\u001b[0m\u001b[0mstates\u001b[0m\u001b[1;33m.\u001b[0m\u001b[0mread\u001b[0m\u001b[1;33m(\u001b[0m\u001b[0mt\u001b[0m\u001b[1;33m)\u001b[0m\u001b[1;33m.\u001b[0m\u001b[0mparticles\u001b[0m\u001b[1;33m.\u001b[0m\u001b[0mnumpy\u001b[0m\u001b[1;33m(\u001b[0m\u001b[1;33m)\u001b[0m\u001b[1;33m.\u001b[0m\u001b[0msqueeze\u001b[0m\u001b[1;33m(\u001b[0m\u001b[1;33m)\u001b[0m \u001b[1;32mfor\u001b[0m \u001b[0mt\u001b[0m \u001b[1;32min\u001b[0m \u001b[0mrange\u001b[0m\u001b[1;33m(\u001b[0m\u001b[0mT\u001b[0m\u001b[1;33m)\u001b[0m\u001b[1;33m]\u001b[0m\u001b[1;33m)\u001b[0m\u001b[1;33m\u001b[0m\u001b[1;33m\u001b[0m\u001b[0m\n\u001b[0;32m      3\u001b[0m \u001b[1;33m\u001b[0m\u001b[0m\n\u001b[0;32m      4\u001b[0m \u001b[1;33m\u001b[0m\u001b[0m\n\u001b[0;32m      5\u001b[0m \u001b[0mlinspace\u001b[0m  \u001b[1;33m=\u001b[0m \u001b[0mnp\u001b[0m\u001b[1;33m.\u001b[0m\u001b[0marange\u001b[0m\u001b[1;33m(\u001b[0m\u001b[0mnp_obs\u001b[0m\u001b[1;33m[\u001b[0m\u001b[1;33m:\u001b[0m\u001b[1;33m,\u001b[0m\u001b[1;36m0\u001b[0m\u001b[1;33m]\u001b[0m\u001b[1;33m.\u001b[0m\u001b[0mshape\u001b[0m\u001b[1;33m[\u001b[0m\u001b[1;36m0\u001b[0m\u001b[1;33m]\u001b[0m\u001b[1;33m)\u001b[0m\u001b[1;33m\u001b[0m\u001b[1;33m\u001b[0m\u001b[0m\n",
      "\u001b[1;31mAttributeError\u001b[0m: 'numpy.ndarray' object has no attribute 'read'"
     ]
    }
   ],
   "source": [
    "np_obs = np.array([observations.read(t).observation.numpy().squeeze() for t in range(T)])\n",
    "np_states = np.array([states.read(t).particles.numpy().squeeze() for t in range(T)])\n",
    "\n",
    "\n",
    "linspace  = np.arange(np_obs[:,0].shape[0])\n",
    "fig, axes = plt.subplots(nrows=2, figsize=(10, 5))\n",
    "axes[0].scatter(linspace, np_obs[:,0], marker='o', color='g', label='observations')\n",
    "axes[0].plot(np_states[:, 0], color='b', label='$x^1_t$')\n",
    "axes[1].plot(np_states[:, 1], color='b', label='$x^2_t$')\n",
    "axes[1].scatter(linspace, np_obs[:,1], marker='o', color='g', label='observations')\n",
    "_ = axes[0].legend(loc='upper left')\n",
    "_ = axes[1].legend(loc='upper left')\n",
    "_ = fig.suptitle('Latent space and observations', fontsize=15)"
   ]
  },
  {
   "cell_type": "markdown",
   "metadata": {},
   "source": [
    "## Specify Particle Filter Components"
   ]
  },
  {
   "cell_type": "code",
   "execution_count": null,
   "metadata": {},
   "outputs": [],
   "source": [
    "# store observations\n",
    "batch_size = 1\n",
    "n_particles = 1000\n",
    "dimension = 2"
   ]
  },
  {
   "cell_type": "code",
   "execution_count": null,
   "metadata": {},
   "outputs": [],
   "source": [
    "proposal_model = BootstrapProposalModel(transition_model)"
   ]
  },
  {
   "cell_type": "code",
   "execution_count": null,
   "metadata": {},
   "outputs": [],
   "source": [
    "resampling_criterion = AlwaysResample()\n",
    "resampling_method = MultinomialResampler()"
   ]
  },
  {
   "cell_type": "code",
   "execution_count": null,
   "metadata": {},
   "outputs": [],
   "source": [
    "particle_filter = SMC(observation_model, \n",
    "                                 transition_model, proposal_model, resampling_criterion, resampling_method)"
   ]
  },
  {
   "cell_type": "code",
   "execution_count": null,
   "metadata": {},
   "outputs": [],
   "source": []
  },
  {
   "cell_type": "code",
   "execution_count": null,
   "metadata": {},
   "outputs": [],
   "source": [
    "import time"
   ]
  },
  {
   "cell_type": "code",
   "execution_count": null,
   "metadata": {},
   "outputs": [],
   "source": [
    "\n",
    "weights = tf.ones((batch_size, n_particles), dtype=float)/tf.cast(n_particles, float)\n",
    "initial_particles = tf.random.uniform((batch_size, n_particles, dimension), -1, 1)\n",
    "log_likelihoods = tf.zeros((batch_size), dtype=float)\n",
    "initial_state = State(particles=initial_particles, log_weights= tf.math.log(weights), weights=weights, log_likelihoods=log_likelihoods)"
   ]
  },
  {
   "cell_type": "code",
   "execution_count": null,
   "metadata": {},
   "outputs": [],
   "source": [
    "record_states = particle_filter(initial_state, observations)"
   ]
  },
  {
   "cell_type": "code",
   "execution_count": null,
   "metadata": {},
   "outputs": [],
   "source": [
    "# compute states\n",
    "computed_states = []\n",
    "for t in range(observations.size()):\n",
    "    state = record_states.read(t)\n",
    "    log_weights = state.log_weights.numpy()\n",
    "    particles = state.particles.numpy()[:,:,0]\n",
    "    weights = np.exp(log_weights)\n",
    "    computed_state = np.sum((weights * particles), axis=1)\n",
    "    computed_states.append(computed_state)\n",
    "    \n",
    "computed_states = np.array(computed_states).flatten()"
   ]
  },
  {
   "cell_type": "markdown",
   "metadata": {},
   "source": [
    "## Plot"
   ]
  },
  {
   "cell_type": "code",
   "execution_count": null,
   "metadata": {},
   "outputs": [],
   "source": [
    "import numpy as np\n",
    "import bqplot.pyplot as bplt\n",
    "from bqplot import LinearScale, Axis, Lines, Bars, Figure\n",
    "axes_options = {'x': {'label': 't'}, 'y': {'label': 'y'}}\n",
    "fig = bplt.figure(animation_duration=0)\n",
    "lines = bplt.plot(\n",
    "                x=np.linspace(0, len(np_obs), len(np_obs)), \n",
    "                y=np_obs[:,0], \n",
    "                colors=['red'], \n",
    "                axes_options=axes_options)\n",
    "\n",
    "if False:\n",
    "    true_state_ln = bplt.plot(\n",
    "                x=np.linspace(0, len(np_obs), len(np_obs)), \n",
    "                y=np_states[:,0], \n",
    "                colors=['blue'], \n",
    "                axes_options=axes_options)\n",
    "\n",
    "computed_lin = bplt.plot(\n",
    "                x=np.linspace(0, len(np_obs), len(np_obs)), \n",
    "                y=computed_states, \n",
    "                colors=['green'], \n",
    "                axes_options=axes_options)\n",
    "\n",
    "scatt = bplt.scatter([], [], colors=['blue'], axes_options=axes_options)\n",
    "\n",
    "\n",
    "max_y = np.max([np_obs[:,0]])\n",
    "min_y = np.min([computed_states, np_obs[:,0]])\n",
    "\n",
    "bplt.set_lim(min_y-0.5, max_y+0.5, 'y')\n",
    "bplt.set_lim(0, len(np_obs), 'x')\n",
    "\n",
    "fig"
   ]
  },
  {
   "cell_type": "code",
   "execution_count": null,
   "metadata": {},
   "outputs": [],
   "source": []
  },
  {
   "cell_type": "code",
   "execution_count": null,
   "metadata": {},
   "outputs": [],
   "source": [
    "jitter = np.random.normal(0., 0.25, n_particles)\n",
    "\n",
    "gif_dir = './gif_dir'\n",
    "os.mkdir(gif_dir)\n",
    "for t in range(observation_series.size()):\n",
    "    state = record_states.read(t)\n",
    "    log_weights = state.log_weights.numpy()\n",
    "    particles = state.particles.numpy()[0,:,0]\n",
    "    weights = np.exp(log_weights)\n",
    "    x = t + jitter\n",
    "    y = particles\n",
    "    \n",
    "    plt.plot(np.linspace(0, len(ghmm_output.observations), len(ghmm_output.observations)), \n",
    "                     ghmm_output.observations[:,0], 'rx')\n",
    "\n",
    "    computed_lin = plt.plot(np.linspace(0, t, t), \n",
    "                            computed_states[:t], 'g')\n",
    "    plt.ylim(-2.,2.)\n",
    "    plt.plot(x, y, 'bx')\n",
    "    plt.savefig(os.path.join(gif_dir,'plot_{0}.png'.format(t)))\n",
    "    plt.clf()\n",
    "    "
   ]
  },
  {
   "cell_type": "code",
   "execution_count": null,
   "metadata": {},
   "outputs": [],
   "source": [
    "fps = [os.path.join('./gif_dir', 'plot_{0}.png'.format(t)) for t in range(T+1)]\n",
    "\n",
    "frames = [Image.open(fn) for fn in fps]\n",
    "\n",
    "frames[0].save('pf.gif', format='GIF', append_images=frames[1:], save_all=True, duration=100, loop=0)"
   ]
  },
  {
   "cell_type": "markdown",
   "metadata": {},
   "source": []
  },
  {
   "cell_type": "markdown",
   "metadata": {},
   "source": [
    "## Likelihood"
   ]
  },
  {
   "cell_type": "code",
   "execution_count": null,
   "metadata": {},
   "outputs": [],
   "source": [
    "final_state = record_states.read(150)"
   ]
  },
  {
   "cell_type": "code",
   "execution_count": null,
   "metadata": {},
   "outputs": [],
   "source": [
    "final_state.log_likelihoods"
   ]
  },
  {
   "cell_type": "code",
   "execution_count": null,
   "metadata": {},
   "outputs": [],
   "source": []
  }
 ],
 "metadata": {
  "kernelspec": {
   "display_name": "venv",
   "language": "python",
   "name": "venv"
  },
  "language_info": {
   "codemirror_mode": {
    "name": "ipython",
    "version": 3
   },
   "file_extension": ".py",
   "mimetype": "text/x-python",
   "name": "python",
   "nbconvert_exporter": "python",
   "pygments_lexer": "ipython3",
   "version": "3.7.4"
  }
 },
 "nbformat": 4,
 "nbformat_minor": 4
}
