{
 "cells": [
  {
   "cell_type": "markdown",
   "metadata": {},
   "source": [
    "# Stochastic volatility"
   ]
  },
  {
   "cell_type": "code",
   "execution_count": 12,
   "metadata": {},
   "outputs": [],
   "source": [
    "import gc\n",
    "import os, sys\n",
    "# add to path\n",
    "sys.path.append(\"../..\")\n",
    "\n",
    "import attr\n",
    "import datetime\n",
    "\n",
    "from mpl_toolkits import mplot3d\n",
    "import matplotlib.pyplot as plt\n",
    "import numpy as np\n",
    "from PIL import Image\n",
    "import seaborn\n",
    "\n",
    "import tensorflow as tf\n",
    "import tensorflow_probability as tfp\n",
    "import tqdm\n",
    "\n",
    "tfd = tfp.distributions\n",
    "\n",
    "seaborn.set()\n",
    "tf.random.set_seed(50)"
   ]
  },
  {
   "cell_type": "code",
   "execution_count": 13,
   "metadata": {},
   "outputs": [],
   "source": [
    "from filterflow.smc import SMC\n",
    "from filterflow.base import State, StateSeries, DTYPE_TO_OBSERVATION_SERIES\n",
    "\n",
    "from filterflow.observation.base import ObservationModelBase, ObservationSampler\n",
    "\n",
    "from filterflow.transition.random_walk import RandomWalkModel\n",
    "from filterflow.transition.base import TransitionModelBase\n",
    "from filterflow.proposal import BootstrapProposalModel\n",
    "from filterflow.proposal.auxiliary_proposal import AuxiliaryProposal\n",
    "\n",
    "from filterflow.resampling.criterion import NeffCriterion, AlwaysResample, NeverResample\n",
    "from filterflow.resampling.standard import SystematicResampler, MultinomialResampler\n",
    "from filterflow.resampling.differentiable import RegularisedTransform, CorrectedRegularizedTransform\n",
    "from filterflow.resampling.differentiable.ricatti.solver import RicattiSolver\n",
    "\n",
    "from filterflow.resampling.base import NoResampling\n",
    "\n",
    "from filterflow.state_space_model import StateSpaceModel"
   ]
  },
  {
   "cell_type": "markdown",
   "metadata": {},
   "source": [
    "### We define the model"
   ]
  },
  {
   "cell_type": "code",
   "execution_count": 24,
   "metadata": {},
   "outputs": [],
   "source": [
    "class StochVolObservationModel(ObservationModelBase):\n",
    "    def __init__(self, beta_tensor: tf.Tensor, name='StochVolObservationModel'):\n",
    "        super(StochVolObservationModel, self).__init__(name=name)\n",
    "        self._error_rv = tfd.MultivariateNormalDiag(loc=tf.zeros_like(beta_tensor), scale_diag=beta_tensor)\n",
    "    \n",
    "    def loglikelihood(self, state: State, observation: tf.Tensor):\n",
    "        error = observation / tf.math.exp(state.particles/2)\n",
    "        return self._error_rv.log_prob(error)\n",
    "\n",
    "class StochVolTransition(TransitionModelBase):\n",
    "    def __init__(self, mu_tensor: tf.Tensor, phi_tensor: tf.Tensor, transition_noise_stddev: tfp.distributions.Distribution, name='StochVolTransition'):\n",
    "        super(StochVolTransition, self).__init__(name=name)\n",
    "        self._drift = mu_tensor * (1-phi_tensor)\n",
    "        self._random_walk_model = RandomWalkModel(phi, transition_noise_stddev)\n",
    "        \n",
    "    def loglikelihood(self, prior_state: State, proposed_state: State, inputs: tf.Tensor):\n",
    "        undrifted_particles = proposed_state.particles - self._drift\n",
    "        undrifted_state = attr.evolve(proposed_state, particles=undrifted_particles)\n",
    "        return self._random_walk_model.loglikelihood(prior_state, undrifted_state, inputs)\n",
    "    \n",
    "    def sample(self, state: State, inputs: tf.Tensor):\n",
    "        zero_drift_sampled_state = self._random_walk_model.sample(state, inputs)\n",
    "        drifted_particles = zero_drift_sampled_state.particles + self._drift\n",
    "        sampled_state = attr.evolve(zero_drift_sampled_state, particles=drifted_particles)\n",
    "        return sampled_state"
   ]
  },
  {
   "cell_type": "markdown",
   "metadata": {},
   "source": [
    "### We get the data"
   ]
  },
  {
   "cell_type": "code",
   "execution_count": 22,
   "metadata": {},
   "outputs": [],
   "source": [
    "tf.random.set_seed(0)\n",
    "observation_dim = 2\n",
    "state_dim = 2\n",
    "T = 150\n",
    "initial_state          = tf.random.uniform([state_dim], -1., 1.)\n",
    "\n",
    "transition_matrix      = tf.eye(state_dim) * 0.5\n",
    "transition_covariance  = tf.eye(state_dim) * 0.5\n",
    "\n",
    "chol_transition_covariance = tf.linalg.cholesky(transition_covariance)\n",
    "\n",
    "observation_matrix     = tf.eye(observation_dim) * 0.5\n",
    "observation_covariance = tf.eye(observation_dim) * 0.1\n",
    "\n",
    "chol_observation_covariance = tf.linalg.cholesky(observation_covariance)"
   ]
  },
  {
   "cell_type": "code",
   "execution_count": null,
   "metadata": {},
   "outputs": [],
   "source": []
  }
 ],
 "metadata": {
  "kernelspec": {
   "display_name": "Python 3",
   "language": "python",
   "name": "python3"
  },
  "language_info": {
   "codemirror_mode": {
    "name": "ipython",
    "version": 3
   },
   "file_extension": ".py",
   "mimetype": "text/x-python",
   "name": "python",
   "nbconvert_exporter": "python",
   "pygments_lexer": "ipython3",
   "version": "3.7.3"
  }
 },
 "nbformat": 4,
 "nbformat_minor": 4
}
