{
 "cells": [
  {
   "cell_type": "code",
   "execution_count": 1,
   "metadata": {},
   "outputs": [],
   "source": [
    "import os, sys\n",
    "sys.path.append(\"../..\")\n",
    "\n",
    "import math\n",
    "import matplotlib.pyplot as plt\n",
    "import numpy as np\n",
    "import tensorflow as tf\n",
    "import tensorflow_probability as tfp\n",
    "import tqdm\n",
    "\n",
    "from filterflow.base import State\n",
    "from filterflow.resampling.standard import SystematicResampler, StratifiedResampler, MultinomialResampler\n",
    "from filterflow.resampling.differentiable import RegularisedTransform, CorrectedRegularizedTransform\n",
    "from filterflow.resampling.differentiable.ricatti.solver import RicattiSolver"
   ]
  },
  {
   "cell_type": "markdown",
   "metadata": {},
   "source": [
    "This notebook aims to demonstrate the differentiability issue encountered at resampling time. To do this we will compare functionals of the point cloud whilst changing a parameter."
   ]
  },
  {
   "cell_type": "markdown",
   "metadata": {},
   "source": [
    "### Discontinuity wrt log_weights"
   ]
  },
  {
   "cell_type": "code",
   "execution_count": 2,
   "metadata": {},
   "outputs": [],
   "source": [
    "tf.random.set_seed(42)\n",
    "\n",
    "B = 1\n",
    "N = 50\n",
    "D = 1\n",
    "\n",
    "x = tf.random.normal([B, N, D])\n",
    "y = tf.constant([[[0.]]])\n",
    "\n",
    "@tf.function\n",
    "def make_weights(alpha):\n",
    "    log2 = math.log(2)\n",
    "    first_half = (log2 + tf.math.log(alpha) - math.log(N)) * tf.ones([B, N//2], dtype=float)\n",
    "    second_half = (log2 + tf.math.log(1. - alpha) - math.log(N)) * tf.ones([B, (N+1)//2], dtype=float)\n",
    "    return tf.concat([first_half, second_half], 1)\n",
    "\n"
   ]
  },
  {
   "cell_type": "code",
   "execution_count": 3,
   "metadata": {},
   "outputs": [],
   "source": [
    "@tf.function\n",
    "def log_likelihood(state, observation, resampler, seed=666):\n",
    "    tf.random.set_seed(seed)\n",
    "    rv = tfp.distributions.Normal(0., 1.)\n",
    "    if resampler is not None:\n",
    "        flags = tf.constant([True])\n",
    "        state = resampler.apply(state, flags)\n",
    "        \n",
    "    log_prob = rv.log_prob(observation-state.particles)\n",
    "    log_prob = log_prob + state.log_weights\n",
    "    return tf.reduce_logsumexp(log_prob)\n",
    "    "
   ]
  },
  {
   "cell_type": "code",
   "execution_count": 4,
   "metadata": {},
   "outputs": [],
   "source": [
    "linspace = np.linspace(0.25, 0.75, 250).astype(np.float32)"
   ]
  },
  {
   "cell_type": "code",
   "execution_count": 5,
   "metadata": {},
   "outputs": [],
   "source": [
    "def get_data(linspace, resampler, x, y):\n",
    "    res = []\n",
    "    grads = []\n",
    "    for alpha_val in tqdm.tqdm(linspace):\n",
    "        alpha = tf.constant(alpha_val)\n",
    "        with tf.GradientTape() as tape:\n",
    "            tape.watch(alpha)\n",
    "            log_weights = make_weights(alpha)\n",
    "            state = State(x, log_weights, tf.math.exp(log_weights), tf.constant([0.]))\n",
    "            ll = log_likelihood(state, y, resampler)\n",
    "        ll_grad = tape.gradient(ll, alpha)\n",
    "        res.append(ll.numpy().sum())\n",
    "        grads.append(ll_grad.numpy().sum())\n",
    "    return res, grads\n",
    "        "
   ]
  },
  {
   "cell_type": "code",
   "execution_count": 6,
   "metadata": {},
   "outputs": [],
   "source": [
    "systematic = SystematicResampler()\n",
    "multinomial = MultinomialResampler()\n",
    "stratified = StratifiedResampler()\n",
    "\n",
    "epsilon = tf.constant(0.5)\n",
    "scaling = tf.constant(0.5)\n",
    "convergence_threshold = tf.constant(1e-3)\n",
    "max_iter = tf.constant(500)\n",
    "\n",
    "regularized = RegularisedTransform(epsilon, scaling, max_iter, convergence_threshold)\n",
    "\n",
    "step_size = tf.constant(0.25)\n",
    "horizon = tf.constant(5.)\n",
    "threshold = tf.constant(1e-2)\n",
    "\n",
    "solver = RicattiSolver()\n",
    "corrected_no_grad = CorrectedRegularizedTransform(epsilon, scaling, max_iter, convergence_threshold, propagate_correction_gradient=False)\n",
    "corrected = CorrectedRegularizedTransform(epsilon, scaling, max_iter, convergence_threshold, propagate_correction_gradient=True)"
   ]
  },
  {
   "cell_type": "code",
   "execution_count": null,
   "metadata": {},
   "outputs": [
    {
     "name": "stderr",
     "output_type": "stream",
     "text": [
      "100%|███████████████████████████████████████████████████████████████████████████████| 250/250 [00:00<00:00, 333.34it/s]\n",
      "100%|███████████████████████████████████████████████████████████████████████████████| 250/250 [00:01<00:00, 170.18it/s]\n",
      "100%|███████████████████████████████████████████████████████████████████████████████| 250/250 [00:00<00:00, 314.91it/s]\n",
      "100%|███████████████████████████████████████████████████████████████████████████████| 250/250 [00:00<00:00, 335.57it/s]\n",
      "100%|████████████████████████████████████████████████████████████████████████████████| 250/250 [00:06<00:00, 46.10it/s]\n",
      "  3%|██▎                                                                               | 7/250 [00:02<02:43,  1.48it/s]"
     ]
    }
   ],
   "source": [
    "no_resampling_data, no_resampling_grad = get_data(linspace, None, x, y)\n",
    "systematic_data, systematic_grad = get_data(linspace, systematic, x, y)\n",
    "multinomial_data, multinomial_grad = get_data(linspace, multinomial, x, y)\n",
    "stratified_data, stratified_grad = get_data(linspace, stratified, x, y)\n",
    "\n",
    "regularized_data, regularized_grad = get_data(linspace, regularized, x, y)\n",
    "corrected_no_grad_data, corrected_no_grad_grad = get_data(linspace, corrected_no_grad, x, y)\n",
    "corrected_data, corrected_grad = get_data(linspace, corrected, x, y)"
   ]
  },
  {
   "cell_type": "code",
   "execution_count": null,
   "metadata": {},
   "outputs": [],
   "source": [
    "fig, axes = plt.subplots(ncols=2, figsize=(15, 5), sharex=True, sharey=True)\n",
    "axes[0].step(linspace, no_resampling_data, label='no resampling', linestyle='--', color='k')\n",
    "axes[1].step(linspace, no_resampling_data, label='no resampling', linestyle='--', color='k')\n",
    "axes[0].step(linspace, systematic_data, label='systematic', alpha=0.75)\n",
    "axes[0].step(linspace, multinomial_data, label='multinomial', alpha=0.75)\n",
    "axes[0].step(linspace, stratified_data, label='stratified', alpha=0.75)\n",
    "axes[1].plot(linspace, regularized_data, label='regularized')\n",
    "axes[1].plot(linspace, corrected_data, label='corrected')\n",
    "axes[1].plot(linspace, corrected_no_grad_data, label='corrected_no_grad')\n",
    "_ = axes[0].legend(), axes[1].legend()\n",
    "fig.savefig(os.path.join('./charts/', 'differentiability_illustration_likelihood.png'))"
   ]
  },
  {
   "cell_type": "code",
   "execution_count": null,
   "metadata": {},
   "outputs": [],
   "source": [
    "fig, axes = plt.subplots(ncols=2, figsize=(15, 5), sharex=True, sharey=False)\n",
    "axes[0].step(linspace, no_resampling_grad, label='no resampling', linestyle='--', color='k')\n",
    "axes[1].step(linspace, no_resampling_grad, label='no resampling', linestyle='--', color='k')\n",
    "axes[0].step(linspace, systematic_grad, label='systematic', alpha=0.75)\n",
    "axes[0].step(linspace, multinomial_grad, label='multinomial', alpha=0.75)\n",
    "axes[0].step(linspace, stratified_grad, label='stratified', alpha=0.75)\n",
    "axes[1].plot(linspace, regularized_grad, label='regularized')\n",
    "axes[1].plot(linspace, corrected_grad, label='corrected')\n",
    "axes[1].plot(linspace, corrected_no_grad_grad, label='corrected_no_grad')\n",
    "_ = axes[0].legend(), axes[1].legend()\n",
    "fig.savefig(os.path.join('./charts/', 'differentiability_illustration_gradient.png'))"
   ]
  },
  {
   "cell_type": "code",
   "execution_count": null,
   "metadata": {},
   "outputs": [],
   "source": []
  }
 ],
 "metadata": {
  "kernelspec": {
   "display_name": "Python 3",
   "language": "python",
   "name": "python3"
  },
  "language_info": {
   "codemirror_mode": {
    "name": "ipython",
    "version": 3
   },
   "file_extension": ".py",
   "mimetype": "text/x-python",
   "name": "python",
   "nbconvert_exporter": "python",
   "pygments_lexer": "ipython3",
   "version": "3.7.3"
  }
 },
 "nbformat": 4,
 "nbformat_minor": 4
}
